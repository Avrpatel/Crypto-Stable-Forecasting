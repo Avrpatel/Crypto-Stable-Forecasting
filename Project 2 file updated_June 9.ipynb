{
 "cells": [
  {
   "cell_type": "code",
   "execution_count": 338,
   "metadata": {},
   "outputs": [],
   "source": [
    "import panel as pn\n",
    "pn.extension('plotly')\n",
    "import plotly.express as px\n",
    "import pandas as pd\n",
    "import hvplot.pandas\n",
    "import matplotlib.pyplot as plt\n",
    "import numpy as np\n",
    "import os\n",
    "import pyfolio as pf\n",
    "import empyrical\n",
    "from pathlib import Path\n",
    "from dotenv import load_dotenv\n",
    "from datetime import datetime\n",
    "import plotly.graph_objects as go\n",
    "%config Completer.use_jedi = False\n",
    "import requests\n",
    "import seaborn as sns"
   ]
  },
  {
   "cell_type": "code",
   "execution_count": 339,
   "metadata": {},
   "outputs": [
    {
     "data": {
      "text/plain": [
       "True"
      ]
     },
     "execution_count": 339,
     "metadata": {},
     "output_type": "execute_result"
    }
   ],
   "source": [
    "load_dotenv()"
   ]
  },
  {
   "cell_type": "code",
   "execution_count": 340,
   "metadata": {},
   "outputs": [],
   "source": [
    "# Set API Keys\n",
    "\n",
    "# alpaca_api_key = os.getenv(\"ALPACA_API_KEY\")\n",
    "# alpaca_secret_key = os.getenv(\"ALPACA_SECRET_KEY\")\n",
    "\n",
    "api_dojo_key = os.getenv(\"API_DOJO\")\n",
    "\n",
    "# Evan this will be your api key:\n",
    "api_dojo_2_key = os.getenv(\"API_DOJO_2\")\n"
   ]
  },
  {
   "cell_type": "code",
   "execution_count": 341,
   "metadata": {},
   "outputs": [],
   "source": [
    "# pair_IDs = [1060628,1057391,1058142]\n",
    "# start_dates = ['01092019','01092019','01092019']\n",
    "# end_dates = ['01032022','01032021','01032020']\n",
    "\n",
    "# for i in pair_IDs:\n",
    "#         for e in end_dates:\n",
    "#             querystring_1 = {\"pair_ID\":i,\"date_from\":\"01092019\",\"date_to\":e,\"lang_ID\":\"1\",\"time_utc_offset\":\"28800\",\"interval\":\"day\"}\n",
    "#             print(querystring_1)"
   ]
  },
  {
   "cell_type": "code",
   "execution_count": 342,
   "metadata": {},
   "outputs": [],
   "source": [
    "#pull luna data from API\n",
    "url= \"https://investing-cryptocurrency-markets.p.rapidapi.com/coins/get-historical-data\"\n",
    "\n",
    "luna_querystring_1 = {\"pair_ID\":\"1060628\",\"date_from\":\"01092019\",\"date_to\":\"01032022\",\"lang_ID\":\"1\",\"time_utc_offset\":\"28800\",\"interval\":\"day\"}\n",
    "luna_querystring_2 = {\"pair_ID\":\"1060628\",\"date_from\":\"01092019\",\"date_to\":\"01032021\",\"lang_ID\":\"1\",\"time_utc_offset\":\"28800\",\"interval\":\"day\"}\n",
    "luna_querystring_3 = {\"pair_ID\":\"1060628\",\"date_from\":\"01092019\",\"date_to\":\"01032020\",\"lang_ID\":\"1\",\"time_utc_offset\":\"28800\",\"interval\":\"day\"}\n",
    "\n",
    "luna_querystring_4 = {\"pair_ID\":\"1060628\",\"date_from\":\"01032022\",\"date_to\":\"01062022\",\"lang_ID\":\"1\",\"time_utc_offset\":\"28800\",\"interval\":\"day\"}\n",
    "\n",
    "headers = {\n",
    "\t\"X-RapidAPI-Host\": \"investing-cryptocurrency-markets.p.rapidapi.com\",\n",
    "\t\"X-RapidAPI-Key\": \"58a15ea24cmsh55bfbeb7bf0c711p118681jsn74b2462edc47\"\n",
    "#     \"X-RapidAPI-Key\": f\"{api_dojo_2_key}\"\n",
    "}\n",
    "\n",
    "luna_response_1 = requests.request(\"GET\", url, headers=headers, params=luna_querystring_1)\n",
    "luna_response_2 = requests.request(\"GET\", url, headers=headers, params=luna_querystring_2)\n",
    "luna_response_3 = requests.request(\"GET\", url, headers=headers, params=luna_querystring_3)\n",
    "luna_response_4 = requests.request(\"GET\", url, headers=headers, params=luna_querystring_4)"
   ]
  },
  {
   "cell_type": "code",
   "execution_count": 343,
   "metadata": {},
   "outputs": [],
   "source": [
    "#pull btc data from API\n",
    "url= \"https://investing-cryptocurrency-markets.p.rapidapi.com/coins/get-historical-data\"\n",
    "\n",
    "btc_querystring_1 = {\"pair_ID\":\"1057391\",\"date_from\":\"01092019\",\"date_to\":\"01032022\",\"lang_ID\":\"1\",\"time_utc_offset\":\"28800\",\"interval\":\"day\"}\n",
    "btc_querystring_2 = {\"pair_ID\":\"1057391\",\"date_from\":\"01092019\",\"date_to\":\"01032021\",\"lang_ID\":\"1\",\"time_utc_offset\":\"28800\",\"interval\":\"day\"}\n",
    "btc_querystring_3 = {\"pair_ID\":\"1057391\",\"date_from\":\"01092019\",\"date_to\":\"01032020\",\"lang_ID\":\"1\",\"time_utc_offset\":\"28800\",\"interval\":\"day\"}\n",
    "btc_querystring_4 = {\"pair_ID\":\"1057391\",\"date_from\":\"01032022\",\"date_to\":\"01062022\",\"lang_ID\":\"1\",\"time_utc_offset\":\"28800\",\"interval\":\"day\"}\n",
    "\n",
    "headers = {\n",
    "\t\"X-RapidAPI-Host\": \"investing-cryptocurrency-markets.p.rapidapi.com\",\n",
    "\t\"X-RapidAPI-Key\": \"58a15ea24cmsh55bfbeb7bf0c711p118681jsn74b2462edc47\"\n",
    "}\n",
    "\n",
    "btc_response_1 = requests.request(\"GET\", url, headers=headers, params=btc_querystring_1)\n",
    "btc_response_2 = requests.request(\"GET\", url, headers=headers, params=btc_querystring_2)\n",
    "btc_response_3 = requests.request(\"GET\", url, headers=headers, params=btc_querystring_3)\n",
    "btc_response_4 = requests.request(\"GET\", url, headers=headers, params=btc_querystring_4)\n"
   ]
  },
  {
   "cell_type": "code",
   "execution_count": 344,
   "metadata": {},
   "outputs": [],
   "source": [
    "#pull eth data from API\n",
    "url= \"https://investing-cryptocurrency-markets.p.rapidapi.com/coins/get-historical-data\"\n",
    "\n",
    "eth_querystring_1 = {\"pair_ID\":\"1058142\",\"date_from\":\"01092019\",\"date_to\":\"01032022\",\"lang_ID\":\"1\",\"time_utc_offset\":\"28800\",\"interval\":\"day\"}\n",
    "eth_querystring_2 = {\"pair_ID\":\"1058142\",\"date_from\":\"01092019\",\"date_to\":\"01032021\",\"lang_ID\":\"1\",\"time_utc_offset\":\"28800\",\"interval\":\"day\"}\n",
    "eth_querystring_3 = {\"pair_ID\":\"1058142\",\"date_from\":\"01092019\",\"date_to\":\"01032020\",\"lang_ID\":\"1\",\"time_utc_offset\":\"28800\",\"interval\":\"day\"}\n",
    "eth_querystring_4 = {\"pair_ID\":\"1058142\",\"date_from\":\"01032022\",\"date_to\":\"01062022\",\"lang_ID\":\"1\",\"time_utc_offset\":\"28800\",\"interval\":\"day\"}\n",
    "\n",
    "headers = {\n",
    "\t\"X-RapidAPI-Host\": \"investing-cryptocurrency-markets.p.rapidapi.com\",\n",
    "\t\"X-RapidAPI-Key\": \"58a15ea24cmsh55bfbeb7bf0c711p118681jsn74b2462edc47\"\n",
    "}\n",
    "\n",
    "eth_response_1 = requests.request(\"GET\", url, headers=headers, params=eth_querystring_1)\n",
    "eth_response_2 = requests.request(\"GET\", url, headers=headers, params=eth_querystring_2)\n",
    "eth_response_3 = requests.request(\"GET\", url, headers=headers, params=eth_querystring_3)\n",
    "eth_response_4 = requests.request(\"GET\", url, headers=headers, params=eth_querystring_4)"
   ]
  },
  {
   "cell_type": "code",
   "execution_count": 345,
   "metadata": {},
   "outputs": [],
   "source": [
    "#create luna jsons\n",
    "luna_content_1 = luna_response_1.content\n",
    "luna_info_1=luna_response_1.json()\n",
    "\n",
    "luna_content_2 = luna_response_2.content\n",
    "luna_info_2=luna_response_2.json()\n",
    "\n",
    "luna_content_3 = luna_response_3.content\n",
    "luna_info_3 =luna_response_3.json()\n",
    "\n",
    "luna_content_4 = luna_response_4.content\n",
    "luna_info_4 =luna_response_4.json()"
   ]
  },
  {
   "cell_type": "code",
   "execution_count": 346,
   "metadata": {},
   "outputs": [],
   "source": [
    "#create btc jsons\n",
    "btc_content_1 = btc_response_1.content\n",
    "btc_info_1=btc_response_1.json()\n",
    "\n",
    "btc_content_2 = btc_response_2.content\n",
    "btc_info_2=btc_response_2.json()\n",
    "\n",
    "btc_content_3 = btc_response_3.content\n",
    "btc_info_3 =btc_response_3.json()\n",
    "\n",
    "btc_content_4 = btc_response_4.content\n",
    "btc_info_4 =btc_response_4.json()"
   ]
  },
  {
   "cell_type": "code",
   "execution_count": 347,
   "metadata": {},
   "outputs": [],
   "source": [
    "#create eth jsons\n",
    "eth_content_1 = eth_response_1.content\n",
    "eth_info_1=eth_response_1.json()\n",
    "\n",
    "eth_content_2 = eth_response_2.content\n",
    "eth_info_2=eth_response_2.json()\n",
    "\n",
    "eth_content_3 = eth_response_3.content\n",
    "eth_info_3 =eth_response_3.json()\n",
    "\n",
    "eth_content_4 = eth_response_4.content\n",
    "eth_info_4 =eth_response_4.json()"
   ]
  },
  {
   "cell_type": "code",
   "execution_count": 348,
   "metadata": {},
   "outputs": [],
   "source": [
    "#separate out data for luna\n",
    "luna_data_1 = luna_info_1['data'][0]['screen_data']['data']\n",
    "luna_data_2 = luna_info_2['data'][0]['screen_data']['data']\n",
    "luna_data_3 = luna_info_3['data'][0]['screen_data']['data']\n",
    "luna_data_4 = luna_info_4['data'][0]['screen_data']['data']"
   ]
  },
  {
   "cell_type": "code",
   "execution_count": 349,
   "metadata": {},
   "outputs": [],
   "source": [
    "#separate out data for btc\n",
    "btc_data_1 = btc_info_1['data'][0]['screen_data']['data']\n",
    "btc_data_2 = btc_info_2['data'][0]['screen_data']['data']\n",
    "btc_data_3 = btc_info_3['data'][0]['screen_data']['data']\n",
    "btc_data_4 = btc_info_4['data'][0]['screen_data']['data']"
   ]
  },
  {
   "cell_type": "code",
   "execution_count": 350,
   "metadata": {},
   "outputs": [],
   "source": [
    "#separate out data for eth\n",
    "eth_data_1 = eth_info_1['data'][0]['screen_data']['data']\n",
    "eth_data_2 = eth_info_2['data'][0]['screen_data']['data']\n",
    "eth_data_3 = eth_info_3['data'][0]['screen_data']['data']\n",
    "eth_data_4 = eth_info_4['data'][0]['screen_data']['data']"
   ]
  },
  {
   "cell_type": "code",
   "execution_count": 351,
   "metadata": {},
   "outputs": [],
   "source": [
    "#create luna dfs\n",
    "luna_df_1 = pd.DataFrame(luna_data_1)\n",
    "luna_df_2 = pd.DataFrame(luna_data_2)\n",
    "luna_df_3 = pd.DataFrame(luna_data_3)\n",
    "luna_df_4 = pd.DataFrame(luna_data_4)"
   ]
  },
  {
   "cell_type": "code",
   "execution_count": 352,
   "metadata": {},
   "outputs": [],
   "source": [
    "#create btc dfs\n",
    "btc_df_1 = pd.DataFrame(btc_data_1)\n",
    "btc_df_2 = pd.DataFrame(btc_data_2)\n",
    "btc_df_3 = pd.DataFrame(btc_data_3)\n",
    "btc_df_4 = pd.DataFrame(btc_data_4)"
   ]
  },
  {
   "cell_type": "code",
   "execution_count": 353,
   "metadata": {},
   "outputs": [],
   "source": [
    "#create eth dfs\n",
    "eth_df_1 = pd.DataFrame(eth_data_1)\n",
    "eth_df_2 = pd.DataFrame(eth_data_2)\n",
    "eth_df_3 = pd.DataFrame(eth_data_3)\n",
    "eth_df_4 = pd.DataFrame(eth_data_4)"
   ]
  },
  {
   "cell_type": "code",
   "execution_count": 354,
   "metadata": {},
   "outputs": [
    {
     "data": {
      "text/html": [
       "<div>\n",
       "<style scoped>\n",
       "    .dataframe tbody tr th:only-of-type {\n",
       "        vertical-align: middle;\n",
       "    }\n",
       "\n",
       "    .dataframe tbody tr th {\n",
       "        vertical-align: top;\n",
       "    }\n",
       "\n",
       "    .dataframe thead th {\n",
       "        text-align: right;\n",
       "    }\n",
       "</style>\n",
       "<table border=\"1\" class=\"dataframe\">\n",
       "  <thead>\n",
       "    <tr style=\"text-align: right;\">\n",
       "      <th></th>\n",
       "      <th>date</th>\n",
       "      <th>price</th>\n",
       "      <th>open</th>\n",
       "      <th>high</th>\n",
       "      <th>low</th>\n",
       "      <th>vol</th>\n",
       "      <th>perc_chg</th>\n",
       "      <th>color</th>\n",
       "    </tr>\n",
       "  </thead>\n",
       "  <tbody>\n",
       "    <tr>\n",
       "      <th>0</th>\n",
       "      <td>1646092800</td>\n",
       "      <td>0.00000011</td>\n",
       "      <td>0.00000012</td>\n",
       "      <td>0.00000012</td>\n",
       "      <td>0.00000009</td>\n",
       "      <td>9.12K</td>\n",
       "      <td>-8.33%</td>\n",
       "      <td>#fa4545</td>\n",
       "    </tr>\n",
       "    <tr>\n",
       "      <th>1</th>\n",
       "      <td>1646006400</td>\n",
       "      <td>0.00000012</td>\n",
       "      <td>0.00000012</td>\n",
       "      <td>0.00000012</td>\n",
       "      <td>0.00000012</td>\n",
       "      <td>0</td>\n",
       "      <td>0.00%</td>\n",
       "      <td>#8c9093</td>\n",
       "    </tr>\n",
       "    <tr>\n",
       "      <th>2</th>\n",
       "      <td>1645920000</td>\n",
       "      <td>0.00000012</td>\n",
       "      <td>0.00000012</td>\n",
       "      <td>0.00000012</td>\n",
       "      <td>0.00000012</td>\n",
       "      <td>0</td>\n",
       "      <td>0.00%</td>\n",
       "      <td>#8c9093</td>\n",
       "    </tr>\n",
       "    <tr>\n",
       "      <th>3</th>\n",
       "      <td>1645833600</td>\n",
       "      <td>0.00000012</td>\n",
       "      <td>0.00000008</td>\n",
       "      <td>0.00000012</td>\n",
       "      <td>0.00000008</td>\n",
       "      <td>0.84K</td>\n",
       "      <td>50.00%</td>\n",
       "      <td>#3fc932</td>\n",
       "    </tr>\n",
       "    <tr>\n",
       "      <th>4</th>\n",
       "      <td>1645747200</td>\n",
       "      <td>0.00000008</td>\n",
       "      <td>0.00000008</td>\n",
       "      <td>0.00000008</td>\n",
       "      <td>0.00000008</td>\n",
       "      <td>0</td>\n",
       "      <td>0.00%</td>\n",
       "      <td>#8c9093</td>\n",
       "    </tr>\n",
       "    <tr>\n",
       "      <th>...</th>\n",
       "      <td>...</td>\n",
       "      <td>...</td>\n",
       "      <td>...</td>\n",
       "      <td>...</td>\n",
       "      <td>...</td>\n",
       "      <td>...</td>\n",
       "      <td>...</td>\n",
       "      <td>...</td>\n",
       "    </tr>\n",
       "    <tr>\n",
       "      <th>360</th>\n",
       "      <td>1614988800</td>\n",
       "      <td>0.00000010</td>\n",
       "      <td>0.00000010</td>\n",
       "      <td>0.00000010</td>\n",
       "      <td>0.00000010</td>\n",
       "      <td>0</td>\n",
       "      <td>0.00%</td>\n",
       "      <td>#8c9093</td>\n",
       "    </tr>\n",
       "    <tr>\n",
       "      <th>361</th>\n",
       "      <td>1614902400</td>\n",
       "      <td>0.00000010</td>\n",
       "      <td>0.00000010</td>\n",
       "      <td>0.00000010</td>\n",
       "      <td>0.00000010</td>\n",
       "      <td>0</td>\n",
       "      <td>0.00%</td>\n",
       "      <td>#8c9093</td>\n",
       "    </tr>\n",
       "    <tr>\n",
       "      <th>362</th>\n",
       "      <td>1614816000</td>\n",
       "      <td>0.00000010</td>\n",
       "      <td>0.00000010</td>\n",
       "      <td>0.00000010</td>\n",
       "      <td>0.00000010</td>\n",
       "      <td>6.43K</td>\n",
       "      <td>0.00%</td>\n",
       "      <td>#8c9093</td>\n",
       "    </tr>\n",
       "    <tr>\n",
       "      <th>363</th>\n",
       "      <td>1614729600</td>\n",
       "      <td>0.00000010</td>\n",
       "      <td>0.00000011</td>\n",
       "      <td>0.00000011</td>\n",
       "      <td>0.00000010</td>\n",
       "      <td>3.72K</td>\n",
       "      <td>-9.09%</td>\n",
       "      <td>#fa4545</td>\n",
       "    </tr>\n",
       "    <tr>\n",
       "      <th>364</th>\n",
       "      <td>1614643200</td>\n",
       "      <td>0.00000011</td>\n",
       "      <td>0.00000011</td>\n",
       "      <td>0.00000011</td>\n",
       "      <td>0.00000011</td>\n",
       "      <td>0</td>\n",
       "      <td>0.00%</td>\n",
       "      <td>#8c9093</td>\n",
       "    </tr>\n",
       "  </tbody>\n",
       "</table>\n",
       "<p>365 rows × 8 columns</p>\n",
       "</div>"
      ],
      "text/plain": [
       "           date       price        open        high         low    vol  \\\n",
       "0    1646092800  0.00000011  0.00000012  0.00000012  0.00000009  9.12K   \n",
       "1    1646006400  0.00000012  0.00000012  0.00000012  0.00000012      0   \n",
       "2    1645920000  0.00000012  0.00000012  0.00000012  0.00000012      0   \n",
       "3    1645833600  0.00000012  0.00000008  0.00000012  0.00000008  0.84K   \n",
       "4    1645747200  0.00000008  0.00000008  0.00000008  0.00000008      0   \n",
       "..          ...         ...         ...         ...         ...    ...   \n",
       "360  1614988800  0.00000010  0.00000010  0.00000010  0.00000010      0   \n",
       "361  1614902400  0.00000010  0.00000010  0.00000010  0.00000010      0   \n",
       "362  1614816000  0.00000010  0.00000010  0.00000010  0.00000010  6.43K   \n",
       "363  1614729600  0.00000010  0.00000011  0.00000011  0.00000010  3.72K   \n",
       "364  1614643200  0.00000011  0.00000011  0.00000011  0.00000011      0   \n",
       "\n",
       "    perc_chg    color  \n",
       "0     -8.33%  #fa4545  \n",
       "1      0.00%  #8c9093  \n",
       "2      0.00%  #8c9093  \n",
       "3     50.00%  #3fc932  \n",
       "4      0.00%  #8c9093  \n",
       "..       ...      ...  \n",
       "360    0.00%  #8c9093  \n",
       "361    0.00%  #8c9093  \n",
       "362    0.00%  #8c9093  \n",
       "363   -9.09%  #fa4545  \n",
       "364    0.00%  #8c9093  \n",
       "\n",
       "[365 rows x 8 columns]"
      ]
     },
     "execution_count": 354,
     "metadata": {},
     "output_type": "execute_result"
    }
   ],
   "source": [
    "#combine to one luna df\n",
    "luna_df_1"
   ]
  },
  {
   "cell_type": "code",
   "execution_count": 355,
   "metadata": {},
   "outputs": [
    {
     "data": {
      "text/html": [
       "<div>\n",
       "<style scoped>\n",
       "    .dataframe tbody tr th:only-of-type {\n",
       "        vertical-align: middle;\n",
       "    }\n",
       "\n",
       "    .dataframe tbody tr th {\n",
       "        vertical-align: top;\n",
       "    }\n",
       "\n",
       "    .dataframe thead th {\n",
       "        text-align: right;\n",
       "    }\n",
       "</style>\n",
       "<table border=\"1\" class=\"dataframe\">\n",
       "  <thead>\n",
       "    <tr style=\"text-align: right;\">\n",
       "      <th></th>\n",
       "      <th>date</th>\n",
       "      <th>price</th>\n",
       "      <th>open</th>\n",
       "      <th>high</th>\n",
       "      <th>low</th>\n",
       "      <th>vol</th>\n",
       "      <th>perc_chg</th>\n",
       "      <th>color</th>\n",
       "    </tr>\n",
       "  </thead>\n",
       "  <tbody>\n",
       "    <tr>\n",
       "      <th>0</th>\n",
       "      <td>1646092800</td>\n",
       "      <td>44,420.3</td>\n",
       "      <td>43,187.2</td>\n",
       "      <td>44,900.5</td>\n",
       "      <td>42,876.6</td>\n",
       "      <td>90.67K</td>\n",
       "      <td>2.85%</td>\n",
       "      <td>#3fc932</td>\n",
       "    </tr>\n",
       "    <tr>\n",
       "      <th>1</th>\n",
       "      <td>1646006400</td>\n",
       "      <td>43,188.2</td>\n",
       "      <td>37,707.2</td>\n",
       "      <td>43,977.8</td>\n",
       "      <td>37,458.9</td>\n",
       "      <td>108.07K</td>\n",
       "      <td>14.59%</td>\n",
       "      <td>#3fc932</td>\n",
       "    </tr>\n",
       "    <tr>\n",
       "      <th>2</th>\n",
       "      <td>1645920000</td>\n",
       "      <td>37,689.1</td>\n",
       "      <td>39,116.6</td>\n",
       "      <td>39,838.5</td>\n",
       "      <td>37,062.3</td>\n",
       "      <td>66.14K</td>\n",
       "      <td>-3.65%</td>\n",
       "      <td>#fa4545</td>\n",
       "    </tr>\n",
       "    <tr>\n",
       "      <th>3</th>\n",
       "      <td>1645833600</td>\n",
       "      <td>39,115.5</td>\n",
       "      <td>39,221.6</td>\n",
       "      <td>40,094.5</td>\n",
       "      <td>38,639.1</td>\n",
       "      <td>41.55K</td>\n",
       "      <td>-0.24%</td>\n",
       "      <td>#fa4545</td>\n",
       "    </tr>\n",
       "    <tr>\n",
       "      <th>4</th>\n",
       "      <td>1645747200</td>\n",
       "      <td>39,209.6</td>\n",
       "      <td>38,339.2</td>\n",
       "      <td>39,683.7</td>\n",
       "      <td>38,042.6</td>\n",
       "      <td>83.78K</td>\n",
       "      <td>2.27%</td>\n",
       "      <td>#3fc932</td>\n",
       "    </tr>\n",
       "    <tr>\n",
       "      <th>...</th>\n",
       "      <td>...</td>\n",
       "      <td>...</td>\n",
       "      <td>...</td>\n",
       "      <td>...</td>\n",
       "      <td>...</td>\n",
       "      <td>...</td>\n",
       "      <td>...</td>\n",
       "      <td>...</td>\n",
       "    </tr>\n",
       "    <tr>\n",
       "      <th>360</th>\n",
       "      <td>1614988800</td>\n",
       "      <td>48,855.6</td>\n",
       "      <td>48,798.7</td>\n",
       "      <td>49,191.8</td>\n",
       "      <td>47,132.8</td>\n",
       "      <td>66.66K</td>\n",
       "      <td>0.13%</td>\n",
       "      <td>#3fc932</td>\n",
       "    </tr>\n",
       "    <tr>\n",
       "      <th>361</th>\n",
       "      <td>1614902400</td>\n",
       "      <td>48,792.5</td>\n",
       "      <td>48,363.6</td>\n",
       "      <td>49,429.4</td>\n",
       "      <td>46,370.1</td>\n",
       "      <td>113.64K</td>\n",
       "      <td>0.75%</td>\n",
       "      <td>#3fc932</td>\n",
       "    </tr>\n",
       "    <tr>\n",
       "      <th>362</th>\n",
       "      <td>1614816000</td>\n",
       "      <td>48,428.0</td>\n",
       "      <td>50,388.0</td>\n",
       "      <td>51,757.7</td>\n",
       "      <td>47,521.8</td>\n",
       "      <td>9.56K</td>\n",
       "      <td>-3.90%</td>\n",
       "      <td>#fa4545</td>\n",
       "    </tr>\n",
       "    <tr>\n",
       "      <th>363</th>\n",
       "      <td>1614729600</td>\n",
       "      <td>50,395.1</td>\n",
       "      <td>48,422.2</td>\n",
       "      <td>52,567.9</td>\n",
       "      <td>48,159.2</td>\n",
       "      <td>44.93K</td>\n",
       "      <td>4.07%</td>\n",
       "      <td>#3fc932</td>\n",
       "    </tr>\n",
       "    <tr>\n",
       "      <th>364</th>\n",
       "      <td>1614643200</td>\n",
       "      <td>48,424.2</td>\n",
       "      <td>49,595.6</td>\n",
       "      <td>50,191.9</td>\n",
       "      <td>47,100.6</td>\n",
       "      <td>102.10K</td>\n",
       "      <td>-2.36%</td>\n",
       "      <td>#fa4545</td>\n",
       "    </tr>\n",
       "  </tbody>\n",
       "</table>\n",
       "<p>365 rows × 8 columns</p>\n",
       "</div>"
      ],
      "text/plain": [
       "           date     price      open      high       low      vol perc_chg  \\\n",
       "0    1646092800  44,420.3  43,187.2  44,900.5  42,876.6   90.67K    2.85%   \n",
       "1    1646006400  43,188.2  37,707.2  43,977.8  37,458.9  108.07K   14.59%   \n",
       "2    1645920000  37,689.1  39,116.6  39,838.5  37,062.3   66.14K   -3.65%   \n",
       "3    1645833600  39,115.5  39,221.6  40,094.5  38,639.1   41.55K   -0.24%   \n",
       "4    1645747200  39,209.6  38,339.2  39,683.7  38,042.6   83.78K    2.27%   \n",
       "..          ...       ...       ...       ...       ...      ...      ...   \n",
       "360  1614988800  48,855.6  48,798.7  49,191.8  47,132.8   66.66K    0.13%   \n",
       "361  1614902400  48,792.5  48,363.6  49,429.4  46,370.1  113.64K    0.75%   \n",
       "362  1614816000  48,428.0  50,388.0  51,757.7  47,521.8    9.56K   -3.90%   \n",
       "363  1614729600  50,395.1  48,422.2  52,567.9  48,159.2   44.93K    4.07%   \n",
       "364  1614643200  48,424.2  49,595.6  50,191.9  47,100.6  102.10K   -2.36%   \n",
       "\n",
       "       color  \n",
       "0    #3fc932  \n",
       "1    #3fc932  \n",
       "2    #fa4545  \n",
       "3    #fa4545  \n",
       "4    #3fc932  \n",
       "..       ...  \n",
       "360  #3fc932  \n",
       "361  #3fc932  \n",
       "362  #fa4545  \n",
       "363  #3fc932  \n",
       "364  #fa4545  \n",
       "\n",
       "[365 rows x 8 columns]"
      ]
     },
     "execution_count": 355,
     "metadata": {},
     "output_type": "execute_result"
    }
   ],
   "source": [
    "#combine to one btc df\n",
    "btc_df_1"
   ]
  },
  {
   "cell_type": "code",
   "execution_count": 356,
   "metadata": {},
   "outputs": [
    {
     "data": {
      "text/html": [
       "<div>\n",
       "<style scoped>\n",
       "    .dataframe tbody tr th:only-of-type {\n",
       "        vertical-align: middle;\n",
       "    }\n",
       "\n",
       "    .dataframe tbody tr th {\n",
       "        vertical-align: top;\n",
       "    }\n",
       "\n",
       "    .dataframe thead th {\n",
       "        text-align: right;\n",
       "    }\n",
       "</style>\n",
       "<table border=\"1\" class=\"dataframe\">\n",
       "  <thead>\n",
       "    <tr style=\"text-align: right;\">\n",
       "      <th></th>\n",
       "      <th>date</th>\n",
       "      <th>price</th>\n",
       "      <th>open</th>\n",
       "      <th>high</th>\n",
       "      <th>low</th>\n",
       "      <th>vol</th>\n",
       "      <th>perc_chg</th>\n",
       "      <th>color</th>\n",
       "    </tr>\n",
       "  </thead>\n",
       "  <tbody>\n",
       "    <tr>\n",
       "      <th>0</th>\n",
       "      <td>1646092800</td>\n",
       "      <td>2,975.66</td>\n",
       "      <td>2,921.68</td>\n",
       "      <td>3,036.54</td>\n",
       "      <td>2,858.40</td>\n",
       "      <td>673.93K</td>\n",
       "      <td>1.82%</td>\n",
       "      <td>#3fc932</td>\n",
       "    </tr>\n",
       "    <tr>\n",
       "      <th>1</th>\n",
       "      <td>1646006400</td>\n",
       "      <td>2,922.35</td>\n",
       "      <td>2,615.01</td>\n",
       "      <td>2,949.39</td>\n",
       "      <td>2,573.85</td>\n",
       "      <td>733.69K</td>\n",
       "      <td>11.70%</td>\n",
       "      <td>#3fc932</td>\n",
       "    </tr>\n",
       "    <tr>\n",
       "      <th>2</th>\n",
       "      <td>1645920000</td>\n",
       "      <td>2,616.15</td>\n",
       "      <td>2,779.56</td>\n",
       "      <td>2,834.24</td>\n",
       "      <td>2,563.00</td>\n",
       "      <td>650.22K</td>\n",
       "      <td>-5.77%</td>\n",
       "      <td>#fa4545</td>\n",
       "    </tr>\n",
       "    <tr>\n",
       "      <th>3</th>\n",
       "      <td>1645833600</td>\n",
       "      <td>2,776.37</td>\n",
       "      <td>2,768.64</td>\n",
       "      <td>2,856.11</td>\n",
       "      <td>2,734.80</td>\n",
       "      <td>418.49K</td>\n",
       "      <td>0.33%</td>\n",
       "      <td>#3fc932</td>\n",
       "    </tr>\n",
       "    <tr>\n",
       "      <th>4</th>\n",
       "      <td>1645747200</td>\n",
       "      <td>2,767.33</td>\n",
       "      <td>2,599.00</td>\n",
       "      <td>2,829.99</td>\n",
       "      <td>2,573.23</td>\n",
       "      <td>679.41K</td>\n",
       "      <td>6.59%</td>\n",
       "      <td>#3fc932</td>\n",
       "    </tr>\n",
       "    <tr>\n",
       "      <th>...</th>\n",
       "      <td>...</td>\n",
       "      <td>...</td>\n",
       "      <td>...</td>\n",
       "      <td>...</td>\n",
       "      <td>...</td>\n",
       "      <td>...</td>\n",
       "      <td>...</td>\n",
       "      <td>...</td>\n",
       "    </tr>\n",
       "    <tr>\n",
       "      <th>360</th>\n",
       "      <td>1614988800</td>\n",
       "      <td>1,649.23</td>\n",
       "      <td>1,528.55</td>\n",
       "      <td>1,649.23</td>\n",
       "      <td>1,528.55</td>\n",
       "      <td>39.78K</td>\n",
       "      <td>7.95%</td>\n",
       "      <td>#3fc932</td>\n",
       "    </tr>\n",
       "    <tr>\n",
       "      <th>361</th>\n",
       "      <td>1614902400</td>\n",
       "      <td>1,527.82</td>\n",
       "      <td>1,539.58</td>\n",
       "      <td>1,539.58</td>\n",
       "      <td>1,459.25</td>\n",
       "      <td>58.91K</td>\n",
       "      <td>-0.70%</td>\n",
       "      <td>#fa4545</td>\n",
       "    </tr>\n",
       "    <tr>\n",
       "      <th>362</th>\n",
       "      <td>1614816000</td>\n",
       "      <td>1,538.58</td>\n",
       "      <td>1,567.76</td>\n",
       "      <td>1,572.83</td>\n",
       "      <td>1,538.58</td>\n",
       "      <td>57.77K</td>\n",
       "      <td>-1.88%</td>\n",
       "      <td>#fa4545</td>\n",
       "    </tr>\n",
       "    <tr>\n",
       "      <th>363</th>\n",
       "      <td>1614729600</td>\n",
       "      <td>1,568.08</td>\n",
       "      <td>1,485.66</td>\n",
       "      <td>1,609.57</td>\n",
       "      <td>1,485.66</td>\n",
       "      <td>37.54K</td>\n",
       "      <td>5.49%</td>\n",
       "      <td>#3fc932</td>\n",
       "    </tr>\n",
       "    <tr>\n",
       "      <th>364</th>\n",
       "      <td>1614643200</td>\n",
       "      <td>1,486.50</td>\n",
       "      <td>1,570.46</td>\n",
       "      <td>1,570.46</td>\n",
       "      <td>1,458.62</td>\n",
       "      <td>46.43K</td>\n",
       "      <td>-5.31%</td>\n",
       "      <td>#fa4545</td>\n",
       "    </tr>\n",
       "  </tbody>\n",
       "</table>\n",
       "<p>365 rows × 8 columns</p>\n",
       "</div>"
      ],
      "text/plain": [
       "           date     price      open      high       low      vol perc_chg  \\\n",
       "0    1646092800  2,975.66  2,921.68  3,036.54  2,858.40  673.93K    1.82%   \n",
       "1    1646006400  2,922.35  2,615.01  2,949.39  2,573.85  733.69K   11.70%   \n",
       "2    1645920000  2,616.15  2,779.56  2,834.24  2,563.00  650.22K   -5.77%   \n",
       "3    1645833600  2,776.37  2,768.64  2,856.11  2,734.80  418.49K    0.33%   \n",
       "4    1645747200  2,767.33  2,599.00  2,829.99  2,573.23  679.41K    6.59%   \n",
       "..          ...       ...       ...       ...       ...      ...      ...   \n",
       "360  1614988800  1,649.23  1,528.55  1,649.23  1,528.55   39.78K    7.95%   \n",
       "361  1614902400  1,527.82  1,539.58  1,539.58  1,459.25   58.91K   -0.70%   \n",
       "362  1614816000  1,538.58  1,567.76  1,572.83  1,538.58   57.77K   -1.88%   \n",
       "363  1614729600  1,568.08  1,485.66  1,609.57  1,485.66   37.54K    5.49%   \n",
       "364  1614643200  1,486.50  1,570.46  1,570.46  1,458.62   46.43K   -5.31%   \n",
       "\n",
       "       color  \n",
       "0    #3fc932  \n",
       "1    #3fc932  \n",
       "2    #fa4545  \n",
       "3    #3fc932  \n",
       "4    #3fc932  \n",
       "..       ...  \n",
       "360  #3fc932  \n",
       "361  #fa4545  \n",
       "362  #fa4545  \n",
       "363  #3fc932  \n",
       "364  #fa4545  \n",
       "\n",
       "[365 rows x 8 columns]"
      ]
     },
     "execution_count": 356,
     "metadata": {},
     "output_type": "execute_result"
    }
   ],
   "source": [
    "#combine to one eth df\n",
    "eth_df_1"
   ]
  },
  {
   "cell_type": "code",
   "execution_count": 357,
   "metadata": {},
   "outputs": [],
   "source": [
    "#combine each crypto to single df\n",
    "luna_all_years = [luna_df_1,luna_df_2,luna_df_3]\n",
    "btc_all_years = [btc_df_1,btc_df_2,btc_df_3]\n",
    "eth_all_years = [eth_df_1,eth_df_2,eth_df_3]\n",
    "\n",
    "luna_df_all= pd.concat(luna_all_years)\n",
    "btc_df_all= pd.concat(btc_all_years)\n",
    "eth_df_all= pd.concat(eth_all_years)"
   ]
  },
  {
   "cell_type": "code",
   "execution_count": 358,
   "metadata": {},
   "outputs": [],
   "source": [
    "#drop perc_chg and color\n",
    "luna_df_all = luna_df_all.drop(columns=['perc_chg','color'])\n",
    "btc_df_all = btc_df_all.drop(columns=['perc_chg','color'])\n",
    "eth_df_all = eth_df_all.drop(columns=['perc_chg','color'])\n",
    "\n",
    "luna_df_4 = luna_df_4.drop(columns=['perc_chg','color'])\n",
    "btc_df_4 = btc_df_4.drop(columns=['perc_chg','color'])\n",
    "eth_df_4 = eth_df_4.drop(columns=['perc_chg','color'])"
   ]
  },
  {
   "cell_type": "code",
   "execution_count": 359,
   "metadata": {},
   "outputs": [],
   "source": [
    "#change date to datetime\n",
    "\n",
    "luna_df_all['date']=pd.to_datetime(luna_df_all['date'],unit='s')\n",
    "btc_df_all['date']=pd.to_datetime(btc_df_all['date'],unit='s')\n",
    "eth_df_all['date']=pd.to_datetime(eth_df_all['date'],unit='s')\n",
    "\n",
    "luna_df_4['date']=pd.to_datetime(luna_df_4['date'],unit='s')\n",
    "btc_df_4['date']=pd.to_datetime(btc_df_4['date'],unit='s')\n",
    "eth_df_4['date']=pd.to_datetime(eth_df_4['date'],unit='s')"
   ]
  },
  {
   "cell_type": "code",
   "execution_count": 360,
   "metadata": {},
   "outputs": [],
   "source": [
    "#drop nulls\n",
    "luna_df_all_nonull=luna_df_all.dropna()\n",
    "btc_df_all_nonull=btc_df_all.dropna()\n",
    "eth_df_all_nonull=eth_df_all.dropna()\n",
    "\n",
    "luna_df_all_clean = luna_df_all_nonull.drop_duplicates(subset=['date'])\n",
    "btc_df_all_clean = btc_df_all_nonull.drop_duplicates(subset=['date'])\n",
    "eth_df_all_clean = eth_df_all_nonull.drop_duplicates(subset=['date'])\n",
    "\n",
    "\n",
    "luna_df_4_nonull=luna_df_4.dropna()\n",
    "btc_df_4_nonull=btc_df_4.dropna()\n",
    "eth_df_4_nonull=eth_df_4.dropna()\n",
    "\n",
    "luna_df_4_clean = luna_df_4_nonull.drop_duplicates(subset=['date'])\n",
    "btc_df_4_clean = btc_df_4_nonull.drop_duplicates(subset=['date'])\n",
    "eth_df_4_clean = eth_df_4_nonull.drop_duplicates(subset=['date'])\n"
   ]
  },
  {
   "cell_type": "code",
   "execution_count": 361,
   "metadata": {},
   "outputs": [],
   "source": [
    "#set index\n",
    "luna_df_all_clean = luna_df_all_clean.set_index('date')\n",
    "btc_df_all_clean = btc_df_all.set_index('date')\n",
    "eth_df_all_clean = eth_df_all_clean.set_index('date')\n",
    "\n",
    "luna_df_4_clean = luna_df_4_clean.set_index('date')\n",
    "btc_df_4_clean = btc_df_4.set_index('date')\n",
    "eth_df_4_clean = eth_df_4_clean.set_index('date')"
   ]
  },
  {
   "cell_type": "code",
   "execution_count": 362,
   "metadata": {},
   "outputs": [],
   "source": [
    "#remove commas\n",
    "luna_df_all_clean = luna_df_all_clean.replace(',','', regex=True)\n",
    "btc_df_all_clean = btc_df_all_clean.replace(',','', regex=True)\n",
    "eth_df_all_clean = eth_df_all_clean.replace(',','', regex=True)\n",
    "\n",
    "luna_df_4_clean = luna_df_4_clean.replace(',','', regex=True)\n",
    "btc_df_4_clean = btc_df_4_clean.replace(',','', regex=True)\n",
    "eth_df_4_clean = eth_df_4_clean.replace(',','', regex=True)"
   ]
  },
  {
   "cell_type": "code",
   "execution_count": 363,
   "metadata": {},
   "outputs": [],
   "source": [
    "#replace m and K for multiply by 1,000,000 and 1,000\n",
    "luna_df_all_clean[\"vol\"]= luna_df_all_clean[\"vol\"].replace({\"K\":\"*1e3\", \"M\":\"*1e6\", \"B\":\"*1e9\"}, regex=True).map(pd.eval).astype(float)\n",
    "btc_df_all_clean[\"vol\"]= btc_df_all_clean[\"vol\"].replace({\"K\":\"*1e3\", \"M\":\"*1e6\", \"B\":\"*1e9\"}, regex=True).map(pd.eval).astype(float)\n",
    "eth_df_all_clean[\"vol\"]= eth_df_all_clean[\"vol\"].replace({\"K\":\"*1e3\", \"M\":\"*1e6\", \"B\":\"*1e9\"}, regex=True).map(pd.eval).astype(float)\n",
    "\n",
    "luna_df_4_clean[\"vol\"]= luna_df_4_clean[\"vol\"].replace({\"K\":\"*1e3\", \"M\":\"*1e6\", \"B\":\"*1e9\"}, regex=True).map(pd.eval).astype(float)\n",
    "btc_df_4_clean[\"vol\"]= btc_df_4_clean[\"vol\"].replace({\"K\":\"*1e3\", \"M\":\"*1e6\", \"B\":\"*1e9\"}, regex=True).map(pd.eval).astype(float)\n",
    "eth_df_4_clean[\"vol\"]= eth_df_4_clean[\"vol\"].replace({\"K\":\"*1e3\", \"M\":\"*1e6\", \"B\":\"*1e9\"}, regex=True).map(pd.eval).astype(float)"
   ]
  },
  {
   "cell_type": "code",
   "execution_count": 364,
   "metadata": {},
   "outputs": [
    {
     "name": "stdout",
     "output_type": "stream",
     "text": [
      "<class 'pandas.core.frame.DataFrame'>\n",
      "DatetimeIndex: 840 entries, 2022-03-01 to 2019-09-01\n",
      "Data columns (total 5 columns):\n",
      " #   Column  Non-Null Count  Dtype  \n",
      "---  ------  --------------  -----  \n",
      " 0   price   840 non-null    object \n",
      " 1   open    840 non-null    object \n",
      " 2   high    840 non-null    object \n",
      " 3   low     840 non-null    object \n",
      " 4   vol     840 non-null    float64\n",
      "dtypes: float64(1), object(4)\n",
      "memory usage: 39.4+ KB\n"
     ]
    }
   ],
   "source": [
    "#check info\n",
    "luna_df_all_clean.info()"
   ]
  },
  {
   "cell_type": "code",
   "execution_count": 365,
   "metadata": {},
   "outputs": [],
   "source": [
    "#change datatypes to float\n",
    "luna_df_all_clean = luna_df_all_clean.astype({'price':'float64','open':'float64','high':'float64','low':'float64'})\n",
    "btc_df_all_clean = btc_df_all_clean.astype({'price':'float64','open':'float64','high':'float64','low':'float64'})\n",
    "eth_df_all_clean = eth_df_all_clean.astype({'price':'float64','open':'float64','high':'float64','low':'float64'})\n",
    "\n",
    "luna_df_4_clean = luna_df_4_clean.astype({'price':'float64','open':'float64','high':'float64','low':'float64'})\n",
    "btc_df_4_clean = btc_df_4_clean.astype({'price':'float64','open':'float64','high':'float64','low':'float64'})\n",
    "eth_df_4_clean = eth_df_4_clean.astype({'price':'float64','open':'float64','high':'float64','low':'float64'})"
   ]
  },
  {
   "cell_type": "code",
   "execution_count": 366,
   "metadata": {},
   "outputs": [
    {
     "name": "stdout",
     "output_type": "stream",
     "text": [
      "<class 'pandas.core.frame.DataFrame'>\n",
      "DatetimeIndex: 840 entries, 2022-03-01 to 2019-09-01\n",
      "Data columns (total 5 columns):\n",
      " #   Column  Non-Null Count  Dtype  \n",
      "---  ------  --------------  -----  \n",
      " 0   price   840 non-null    float64\n",
      " 1   open    840 non-null    float64\n",
      " 2   high    840 non-null    float64\n",
      " 3   low     840 non-null    float64\n",
      " 4   vol     840 non-null    float64\n",
      "dtypes: float64(5)\n",
      "memory usage: 39.4 KB\n"
     ]
    }
   ],
   "source": [
    "#check datattypes again\n",
    "luna_df_all_clean.info()"
   ]
  },
  {
   "cell_type": "code",
   "execution_count": 367,
   "metadata": {},
   "outputs": [
    {
     "data": {
      "text/html": [
       "<div>\n",
       "<style scoped>\n",
       "    .dataframe tbody tr th:only-of-type {\n",
       "        vertical-align: middle;\n",
       "    }\n",
       "\n",
       "    .dataframe tbody tr th {\n",
       "        vertical-align: top;\n",
       "    }\n",
       "\n",
       "    .dataframe thead th {\n",
       "        text-align: right;\n",
       "    }\n",
       "</style>\n",
       "<table border=\"1\" class=\"dataframe\">\n",
       "  <thead>\n",
       "    <tr style=\"text-align: right;\">\n",
       "      <th></th>\n",
       "      <th>price</th>\n",
       "      <th>open</th>\n",
       "      <th>high</th>\n",
       "      <th>low</th>\n",
       "      <th>vol</th>\n",
       "    </tr>\n",
       "    <tr>\n",
       "      <th>date</th>\n",
       "      <th></th>\n",
       "      <th></th>\n",
       "      <th></th>\n",
       "      <th></th>\n",
       "      <th></th>\n",
       "    </tr>\n",
       "  </thead>\n",
       "  <tbody>\n",
       "    <tr>\n",
       "      <th>2022-03-01</th>\n",
       "      <td>1.100000e-07</td>\n",
       "      <td>1.200000e-07</td>\n",
       "      <td>1.200000e-07</td>\n",
       "      <td>9.000000e-08</td>\n",
       "      <td>9120.0</td>\n",
       "    </tr>\n",
       "    <tr>\n",
       "      <th>2022-02-28</th>\n",
       "      <td>1.200000e-07</td>\n",
       "      <td>1.200000e-07</td>\n",
       "      <td>1.200000e-07</td>\n",
       "      <td>1.200000e-07</td>\n",
       "      <td>0.0</td>\n",
       "    </tr>\n",
       "    <tr>\n",
       "      <th>2022-02-27</th>\n",
       "      <td>1.200000e-07</td>\n",
       "      <td>1.200000e-07</td>\n",
       "      <td>1.200000e-07</td>\n",
       "      <td>1.200000e-07</td>\n",
       "      <td>0.0</td>\n",
       "    </tr>\n",
       "    <tr>\n",
       "      <th>2022-02-26</th>\n",
       "      <td>1.200000e-07</td>\n",
       "      <td>8.000000e-08</td>\n",
       "      <td>1.200000e-07</td>\n",
       "      <td>8.000000e-08</td>\n",
       "      <td>840.0</td>\n",
       "    </tr>\n",
       "    <tr>\n",
       "      <th>2022-02-25</th>\n",
       "      <td>8.000000e-08</td>\n",
       "      <td>8.000000e-08</td>\n",
       "      <td>8.000000e-08</td>\n",
       "      <td>8.000000e-08</td>\n",
       "      <td>0.0</td>\n",
       "    </tr>\n",
       "    <tr>\n",
       "      <th>...</th>\n",
       "      <td>...</td>\n",
       "      <td>...</td>\n",
       "      <td>...</td>\n",
       "      <td>...</td>\n",
       "      <td>...</td>\n",
       "    </tr>\n",
       "    <tr>\n",
       "      <th>2019-09-05</th>\n",
       "      <td>1.700000e-07</td>\n",
       "      <td>1.700000e-07</td>\n",
       "      <td>1.700000e-07</td>\n",
       "      <td>1.700000e-07</td>\n",
       "      <td>0.0</td>\n",
       "    </tr>\n",
       "    <tr>\n",
       "      <th>2019-09-04</th>\n",
       "      <td>1.700000e-07</td>\n",
       "      <td>1.700000e-07</td>\n",
       "      <td>1.700000e-07</td>\n",
       "      <td>1.700000e-07</td>\n",
       "      <td>0.0</td>\n",
       "    </tr>\n",
       "    <tr>\n",
       "      <th>2019-09-03</th>\n",
       "      <td>1.700000e-07</td>\n",
       "      <td>1.700000e-07</td>\n",
       "      <td>1.800000e-07</td>\n",
       "      <td>1.600000e-07</td>\n",
       "      <td>4480.0</td>\n",
       "    </tr>\n",
       "    <tr>\n",
       "      <th>2019-09-02</th>\n",
       "      <td>1.700000e-07</td>\n",
       "      <td>1.700000e-07</td>\n",
       "      <td>1.700000e-07</td>\n",
       "      <td>1.700000e-07</td>\n",
       "      <td>0.0</td>\n",
       "    </tr>\n",
       "    <tr>\n",
       "      <th>2019-09-01</th>\n",
       "      <td>1.700000e-07</td>\n",
       "      <td>1.700000e-07</td>\n",
       "      <td>1.700000e-07</td>\n",
       "      <td>1.700000e-07</td>\n",
       "      <td>0.0</td>\n",
       "    </tr>\n",
       "  </tbody>\n",
       "</table>\n",
       "<p>840 rows × 5 columns</p>\n",
       "</div>"
      ],
      "text/plain": [
       "                   price          open          high           low     vol\n",
       "date                                                                      \n",
       "2022-03-01  1.100000e-07  1.200000e-07  1.200000e-07  9.000000e-08  9120.0\n",
       "2022-02-28  1.200000e-07  1.200000e-07  1.200000e-07  1.200000e-07     0.0\n",
       "2022-02-27  1.200000e-07  1.200000e-07  1.200000e-07  1.200000e-07     0.0\n",
       "2022-02-26  1.200000e-07  8.000000e-08  1.200000e-07  8.000000e-08   840.0\n",
       "2022-02-25  8.000000e-08  8.000000e-08  8.000000e-08  8.000000e-08     0.0\n",
       "...                  ...           ...           ...           ...     ...\n",
       "2019-09-05  1.700000e-07  1.700000e-07  1.700000e-07  1.700000e-07     0.0\n",
       "2019-09-04  1.700000e-07  1.700000e-07  1.700000e-07  1.700000e-07     0.0\n",
       "2019-09-03  1.700000e-07  1.700000e-07  1.800000e-07  1.600000e-07  4480.0\n",
       "2019-09-02  1.700000e-07  1.700000e-07  1.700000e-07  1.700000e-07     0.0\n",
       "2019-09-01  1.700000e-07  1.700000e-07  1.700000e-07  1.700000e-07     0.0\n",
       "\n",
       "[840 rows x 5 columns]"
      ]
     },
     "execution_count": 367,
     "metadata": {},
     "output_type": "execute_result"
    }
   ],
   "source": [
    "luna_df_all_clean"
   ]
  },
  {
   "cell_type": "code",
   "execution_count": 368,
   "metadata": {},
   "outputs": [
    {
     "data": {
      "text/plain": [
       "Index(['price', 'open', 'high', 'low', 'vol'], dtype='object')"
      ]
     },
     "execution_count": 368,
     "metadata": {},
     "output_type": "execute_result"
    }
   ],
   "source": [
    "luna_df_all_clean.columns"
   ]
  },
  {
   "cell_type": "code",
   "execution_count": 369,
   "metadata": {},
   "outputs": [],
   "source": [
    "#set X and y for sklearn model\n",
    "y = luna_df_all_clean[\"price\"]\n",
    "X = luna_df_all_clean.drop(columns=\"price\")"
   ]
  },
  {
   "cell_type": "code",
   "execution_count": 370,
   "metadata": {},
   "outputs": [
    {
     "data": {
      "text/plain": [
       "open    0\n",
       "high    0\n",
       "low     0\n",
       "vol     0\n",
       "dtype: int64"
      ]
     },
     "execution_count": 370,
     "metadata": {},
     "output_type": "execute_result"
    }
   ],
   "source": [
    "X.isnull().sum()"
   ]
  },
  {
   "cell_type": "code",
   "execution_count": 371,
   "metadata": {},
   "outputs": [],
   "source": [
    "#import sklearn libraries \n",
    "from sklearn.metrics import balanced_accuracy_score\n",
    "from sklearn.metrics import confusion_matrix\n",
    "from imblearn.metrics import classification_report_imbalanced\n",
    "from sklearn.model_selection import train_test_split\n",
    "from sklearn.preprocessing import StandardScaler"
   ]
  },
  {
   "cell_type": "code",
   "execution_count": 372,
   "metadata": {},
   "outputs": [
    {
     "data": {
      "text/plain": [
       "(210, 4)"
      ]
     },
     "execution_count": 372,
     "metadata": {},
     "output_type": "execute_result"
    }
   ],
   "source": [
    "#separate into test and train sets\n",
    "X_train, X_test, y_train, y_test = train_test_split(X, \n",
    "                                                    y, \n",
    "                                                    random_state=1, \n",
    "                                                    )\n",
    "X_train.shape\n",
    "X_test.shape"
   ]
  },
  {
   "cell_type": "code",
   "execution_count": 373,
   "metadata": {},
   "outputs": [
    {
     "data": {
      "text/plain": [
       "date\n",
       "2022-03-01    1.100000e-07\n",
       "2022-02-28    1.200000e-07\n",
       "2022-02-27    1.200000e-07\n",
       "2022-02-26    1.200000e-07\n",
       "2022-02-25    8.000000e-08\n",
       "                  ...     \n",
       "2019-09-05    1.700000e-07\n",
       "2019-09-04    1.700000e-07\n",
       "2019-09-03    1.700000e-07\n",
       "2019-09-02    1.700000e-07\n",
       "2019-09-01    1.700000e-07\n",
       "Name: price, Length: 840, dtype: float64"
      ]
     },
     "execution_count": 373,
     "metadata": {},
     "output_type": "execute_result"
    }
   ],
   "source": [
    "y"
   ]
  },
  {
   "cell_type": "code",
   "execution_count": 374,
   "metadata": {},
   "outputs": [
    {
     "name": "stdout",
     "output_type": "stream",
     "text": [
      "<class 'pandas.core.frame.DataFrame'>\n",
      "DatetimeIndex: 210 entries, 2020-11-06 to 2020-09-12\n",
      "Data columns (total 1 columns):\n",
      " #   Column  Non-Null Count  Dtype  \n",
      "---  ------  --------------  -----  \n",
      " 0   price   210 non-null    float64\n",
      "dtypes: float64(1)\n",
      "memory usage: 3.3 KB\n"
     ]
    }
   ],
   "source": [
    "copy_y_test_luna=y_test.copy()\n",
    "y_luna_df=pd.DataFrame(copy_y_test)\n",
    "y_luna_df.info()"
   ]
  },
  {
   "cell_type": "code",
   "execution_count": 375,
   "metadata": {},
   "outputs": [],
   "source": [
    "copy_y_train_luna=y_train.copy()\n",
    "y_luna_df_train=pd.DataFrame(copy_y_train_luna)"
   ]
  },
  {
   "cell_type": "code",
   "execution_count": 376,
   "metadata": {},
   "outputs": [
    {
     "data": {
      "text/html": [
       "<div>\n",
       "<style scoped>\n",
       "    .dataframe tbody tr th:only-of-type {\n",
       "        vertical-align: middle;\n",
       "    }\n",
       "\n",
       "    .dataframe tbody tr th {\n",
       "        vertical-align: top;\n",
       "    }\n",
       "\n",
       "    .dataframe thead th {\n",
       "        text-align: right;\n",
       "    }\n",
       "</style>\n",
       "<table border=\"1\" class=\"dataframe\">\n",
       "  <thead>\n",
       "    <tr style=\"text-align: right;\">\n",
       "      <th></th>\n",
       "      <th>open</th>\n",
       "      <th>high</th>\n",
       "      <th>low</th>\n",
       "      <th>vol</th>\n",
       "    </tr>\n",
       "    <tr>\n",
       "      <th>date</th>\n",
       "      <th></th>\n",
       "      <th></th>\n",
       "      <th></th>\n",
       "      <th></th>\n",
       "    </tr>\n",
       "  </thead>\n",
       "  <tbody>\n",
       "    <tr>\n",
       "      <th>2022-03-01</th>\n",
       "      <td>1.200000e-07</td>\n",
       "      <td>1.200000e-07</td>\n",
       "      <td>9.000000e-08</td>\n",
       "      <td>9120.0</td>\n",
       "    </tr>\n",
       "    <tr>\n",
       "      <th>2022-02-26</th>\n",
       "      <td>8.000000e-08</td>\n",
       "      <td>1.200000e-07</td>\n",
       "      <td>8.000000e-08</td>\n",
       "      <td>840.0</td>\n",
       "    </tr>\n",
       "    <tr>\n",
       "      <th>2022-02-21</th>\n",
       "      <td>1.000000e-07</td>\n",
       "      <td>1.000000e-07</td>\n",
       "      <td>1.000000e-07</td>\n",
       "      <td>0.0</td>\n",
       "    </tr>\n",
       "    <tr>\n",
       "      <th>2022-02-13</th>\n",
       "      <td>1.900000e-07</td>\n",
       "      <td>1.900000e-07</td>\n",
       "      <td>1.900000e-07</td>\n",
       "      <td>0.0</td>\n",
       "    </tr>\n",
       "    <tr>\n",
       "      <th>2022-02-12</th>\n",
       "      <td>1.900000e-07</td>\n",
       "      <td>1.900000e-07</td>\n",
       "      <td>1.900000e-07</td>\n",
       "      <td>0.0</td>\n",
       "    </tr>\n",
       "    <tr>\n",
       "      <th>...</th>\n",
       "      <td>...</td>\n",
       "      <td>...</td>\n",
       "      <td>...</td>\n",
       "      <td>...</td>\n",
       "    </tr>\n",
       "    <tr>\n",
       "      <th>2019-09-09</th>\n",
       "      <td>1.700000e-07</td>\n",
       "      <td>1.700000e-07</td>\n",
       "      <td>1.700000e-07</td>\n",
       "      <td>0.0</td>\n",
       "    </tr>\n",
       "    <tr>\n",
       "      <th>2019-09-08</th>\n",
       "      <td>1.700000e-07</td>\n",
       "      <td>1.700000e-07</td>\n",
       "      <td>1.700000e-07</td>\n",
       "      <td>0.0</td>\n",
       "    </tr>\n",
       "    <tr>\n",
       "      <th>2019-09-06</th>\n",
       "      <td>1.700000e-07</td>\n",
       "      <td>1.700000e-07</td>\n",
       "      <td>1.700000e-07</td>\n",
       "      <td>0.0</td>\n",
       "    </tr>\n",
       "    <tr>\n",
       "      <th>2019-09-04</th>\n",
       "      <td>1.700000e-07</td>\n",
       "      <td>1.700000e-07</td>\n",
       "      <td>1.700000e-07</td>\n",
       "      <td>0.0</td>\n",
       "    </tr>\n",
       "    <tr>\n",
       "      <th>2019-09-03</th>\n",
       "      <td>1.700000e-07</td>\n",
       "      <td>1.800000e-07</td>\n",
       "      <td>1.600000e-07</td>\n",
       "      <td>4480.0</td>\n",
       "    </tr>\n",
       "  </tbody>\n",
       "</table>\n",
       "<p>210 rows × 4 columns</p>\n",
       "</div>"
      ],
      "text/plain": [
       "                    open          high           low     vol\n",
       "date                                                        \n",
       "2022-03-01  1.200000e-07  1.200000e-07  9.000000e-08  9120.0\n",
       "2022-02-26  8.000000e-08  1.200000e-07  8.000000e-08   840.0\n",
       "2022-02-21  1.000000e-07  1.000000e-07  1.000000e-07     0.0\n",
       "2022-02-13  1.900000e-07  1.900000e-07  1.900000e-07     0.0\n",
       "2022-02-12  1.900000e-07  1.900000e-07  1.900000e-07     0.0\n",
       "...                  ...           ...           ...     ...\n",
       "2019-09-09  1.700000e-07  1.700000e-07  1.700000e-07     0.0\n",
       "2019-09-08  1.700000e-07  1.700000e-07  1.700000e-07     0.0\n",
       "2019-09-06  1.700000e-07  1.700000e-07  1.700000e-07     0.0\n",
       "2019-09-04  1.700000e-07  1.700000e-07  1.700000e-07     0.0\n",
       "2019-09-03  1.700000e-07  1.800000e-07  1.600000e-07  4480.0\n",
       "\n",
       "[210 rows x 4 columns]"
      ]
     },
     "execution_count": 376,
     "metadata": {},
     "output_type": "execute_result"
    }
   ],
   "source": [
    "X_train.sort_values(\"date\",ascending=False)\n",
    "X_test.sort_values(\"date\",ascending=False)"
   ]
  },
  {
   "cell_type": "code",
   "execution_count": 377,
   "metadata": {},
   "outputs": [],
   "source": [
    "#scale the data\n",
    "scaler = StandardScaler()\n",
    "X_scaler = scaler.fit(X_train)\n",
    "X_train_scaled = X_scaler.transform(X_train)\n",
    "X_test_scaled = X_scaler.transform(X_test)"
   ]
  },
  {
   "cell_type": "code",
   "execution_count": 378,
   "metadata": {},
   "outputs": [
    {
     "data": {
      "text/html": [
       "<div>\n",
       "<style scoped>\n",
       "    .dataframe tbody tr th:only-of-type {\n",
       "        vertical-align: middle;\n",
       "    }\n",
       "\n",
       "    .dataframe tbody tr th {\n",
       "        vertical-align: top;\n",
       "    }\n",
       "\n",
       "    .dataframe thead th {\n",
       "        text-align: right;\n",
       "    }\n",
       "</style>\n",
       "<table border=\"1\" class=\"dataframe\">\n",
       "  <thead>\n",
       "    <tr style=\"text-align: right;\">\n",
       "      <th></th>\n",
       "      <th>open</th>\n",
       "      <th>high</th>\n",
       "      <th>low</th>\n",
       "      <th>vol</th>\n",
       "    </tr>\n",
       "    <tr>\n",
       "      <th>date</th>\n",
       "      <th></th>\n",
       "      <th></th>\n",
       "      <th></th>\n",
       "      <th></th>\n",
       "    </tr>\n",
       "  </thead>\n",
       "  <tbody>\n",
       "    <tr>\n",
       "      <th>2019-09-03</th>\n",
       "      <td>1.700000e-07</td>\n",
       "      <td>1.800000e-07</td>\n",
       "      <td>1.600000e-07</td>\n",
       "      <td>4480.0</td>\n",
       "    </tr>\n",
       "    <tr>\n",
       "      <th>2019-09-04</th>\n",
       "      <td>1.700000e-07</td>\n",
       "      <td>1.700000e-07</td>\n",
       "      <td>1.700000e-07</td>\n",
       "      <td>0.0</td>\n",
       "    </tr>\n",
       "    <tr>\n",
       "      <th>2019-09-06</th>\n",
       "      <td>1.700000e-07</td>\n",
       "      <td>1.700000e-07</td>\n",
       "      <td>1.700000e-07</td>\n",
       "      <td>0.0</td>\n",
       "    </tr>\n",
       "    <tr>\n",
       "      <th>2019-09-08</th>\n",
       "      <td>1.700000e-07</td>\n",
       "      <td>1.700000e-07</td>\n",
       "      <td>1.700000e-07</td>\n",
       "      <td>0.0</td>\n",
       "    </tr>\n",
       "    <tr>\n",
       "      <th>2019-09-09</th>\n",
       "      <td>1.700000e-07</td>\n",
       "      <td>1.700000e-07</td>\n",
       "      <td>1.700000e-07</td>\n",
       "      <td>0.0</td>\n",
       "    </tr>\n",
       "    <tr>\n",
       "      <th>...</th>\n",
       "      <td>...</td>\n",
       "      <td>...</td>\n",
       "      <td>...</td>\n",
       "      <td>...</td>\n",
       "    </tr>\n",
       "    <tr>\n",
       "      <th>2022-02-12</th>\n",
       "      <td>1.900000e-07</td>\n",
       "      <td>1.900000e-07</td>\n",
       "      <td>1.900000e-07</td>\n",
       "      <td>0.0</td>\n",
       "    </tr>\n",
       "    <tr>\n",
       "      <th>2022-02-13</th>\n",
       "      <td>1.900000e-07</td>\n",
       "      <td>1.900000e-07</td>\n",
       "      <td>1.900000e-07</td>\n",
       "      <td>0.0</td>\n",
       "    </tr>\n",
       "    <tr>\n",
       "      <th>2022-02-21</th>\n",
       "      <td>1.000000e-07</td>\n",
       "      <td>1.000000e-07</td>\n",
       "      <td>1.000000e-07</td>\n",
       "      <td>0.0</td>\n",
       "    </tr>\n",
       "    <tr>\n",
       "      <th>2022-02-26</th>\n",
       "      <td>8.000000e-08</td>\n",
       "      <td>1.200000e-07</td>\n",
       "      <td>8.000000e-08</td>\n",
       "      <td>840.0</td>\n",
       "    </tr>\n",
       "    <tr>\n",
       "      <th>2022-03-01</th>\n",
       "      <td>1.200000e-07</td>\n",
       "      <td>1.200000e-07</td>\n",
       "      <td>9.000000e-08</td>\n",
       "      <td>9120.0</td>\n",
       "    </tr>\n",
       "  </tbody>\n",
       "</table>\n",
       "<p>210 rows × 4 columns</p>\n",
       "</div>"
      ],
      "text/plain": [
       "                    open          high           low     vol\n",
       "date                                                        \n",
       "2019-09-03  1.700000e-07  1.800000e-07  1.600000e-07  4480.0\n",
       "2019-09-04  1.700000e-07  1.700000e-07  1.700000e-07     0.0\n",
       "2019-09-06  1.700000e-07  1.700000e-07  1.700000e-07     0.0\n",
       "2019-09-08  1.700000e-07  1.700000e-07  1.700000e-07     0.0\n",
       "2019-09-09  1.700000e-07  1.700000e-07  1.700000e-07     0.0\n",
       "...                  ...           ...           ...     ...\n",
       "2022-02-12  1.900000e-07  1.900000e-07  1.900000e-07     0.0\n",
       "2022-02-13  1.900000e-07  1.900000e-07  1.900000e-07     0.0\n",
       "2022-02-21  1.000000e-07  1.000000e-07  1.000000e-07     0.0\n",
       "2022-02-26  8.000000e-08  1.200000e-07  8.000000e-08   840.0\n",
       "2022-03-01  1.200000e-07  1.200000e-07  9.000000e-08  9120.0\n",
       "\n",
       "[210 rows x 4 columns]"
      ]
     },
     "execution_count": 378,
     "metadata": {},
     "output_type": "execute_result"
    }
   ],
   "source": [
    "X_test.sort_values(\"date\",ascending=True)"
   ]
  },
  {
   "cell_type": "code",
   "execution_count": 379,
   "metadata": {},
   "outputs": [
    {
     "data": {
      "text/plain": [
       "array([1.17161933e-07, 1.48486334e-07, 8.12143150e-08, 6.13369898e-08,\n",
       "       2.98990954e-07, 5.06446767e-08, 5.06446767e-08, 1.59917039e-07,\n",
       "       9.03800811e-08, 1.59917039e-07, 1.10247783e-07, 4.07108256e-08,\n",
       "       1.09115167e-07, 1.10247783e-07, 9.11421932e-08, 9.03800811e-08,\n",
       "       1.89718592e-07, 1.00313932e-07, 9.03800811e-08, 1.07362584e-07,\n",
       "       8.04462300e-08, 1.00313932e-07, 1.40049337e-07, 1.66909279e-07,\n",
       "       1.70589332e-07, 8.73795156e-08, 4.93771165e-08, 1.69850890e-07,\n",
       "       1.49983188e-07, 1.53962142e-07, 1.80700920e-07, 1.00313932e-07,\n",
       "       1.69850890e-07, 1.10247783e-07, 1.28610004e-07, 5.06446767e-08,\n",
       "       9.03800811e-08, 1.00313932e-07, 9.03800811e-08, 2.37882366e-07,\n",
       "       1.10247783e-07, 1.48533195e-07, 1.99652443e-07, 1.48481799e-07,\n",
       "       1.10247783e-07, 1.07231732e-07, 1.69850890e-07, 1.10247783e-07,\n",
       "       1.30115485e-07, 4.07108256e-08, 1.79784741e-07, 5.06446767e-08,\n",
       "       9.03800811e-08, 1.20181634e-07, 1.22082263e-07, 8.12417462e-08,\n",
       "       8.12437372e-08, 1.89718592e-07, 1.66829308e-07, 2.20283364e-07,\n",
       "       5.75767456e-08, 1.66904634e-07, 1.69850890e-07, 7.05123789e-08,\n",
       "       1.69266577e-07, 3.53462663e-07, 8.19680208e-08, 1.99652443e-07,\n",
       "       1.21052808e-07, 4.07108256e-08, 1.00313932e-07, 4.07108256e-08,\n",
       "       1.06932476e-07, 2.69189401e-07, 6.59871965e-08, 1.20181634e-07,\n",
       "       7.13109922e-08, 5.06446767e-08, 1.00313932e-07, 8.59649552e-08,\n",
       "       5.06446767e-08, 6.05785278e-08, 1.69850890e-07, 1.11112320e-07,\n",
       "       2.98990954e-07, 1.89718592e-07, 1.00313932e-07, 1.30115485e-07,\n",
       "       1.00313932e-07, 1.60740207e-07, 4.45177360e-08, 9.03800811e-08,\n",
       "       1.79784741e-07, 5.06446767e-08, 1.41519915e-07, 5.06446767e-08,\n",
       "       9.03800811e-08, 1.35728118e-07, 6.47523301e-08, 1.10247783e-07,\n",
       "       9.11299155e-08, 1.69850890e-07, 1.99652443e-07, 2.98990954e-07,\n",
       "       1.00313932e-07, 1.21663827e-07, 7.05123789e-08, 8.04462300e-08,\n",
       "       1.00313932e-07, 1.89718592e-07, 2.08909721e-07, 1.27210265e-07,\n",
       "       1.10247783e-07, 6.05785278e-08, 1.20181634e-07, 2.98990954e-07,\n",
       "       2.98990954e-07, 5.06446767e-08, 7.12680757e-08, 1.10247783e-07,\n",
       "       1.79080085e-07, 1.58433679e-07, 1.51483520e-07, 9.19685694e-08,\n",
       "       1.31060214e-07, 1.69850890e-07, 1.38554031e-07, 1.00313932e-07,\n",
       "       1.20181634e-07, 8.50146232e-08, 6.75713213e-08, 1.71327220e-07,\n",
       "       1.89718592e-07, 1.10247783e-07, 9.03800811e-08, 1.49983188e-07,\n",
       "       7.05123789e-08, 1.15676301e-07, 1.72257127e-07, 5.22073930e-08,\n",
       "       7.01156600e-08, 1.59917039e-07, 1.70624063e-07, 6.05785278e-08,\n",
       "       1.69850890e-07, 1.00313932e-07, 2.18110120e-07, 1.00313932e-07,\n",
       "       1.00516127e-07, 1.07360593e-07, 1.00313932e-07, 1.59917039e-07,\n",
       "       1.69850890e-07, 1.69850890e-07, 2.08106253e-07, 8.04462300e-08,\n",
       "       1.89718592e-07, 1.49983188e-07, 6.75166802e-08, 1.08753934e-07,\n",
       "       1.10146712e-07, 2.10747079e-07, 1.59917039e-07, 4.07108256e-08,\n",
       "       7.05123789e-08, 2.89023196e-07, 5.28824554e-08, 1.20935893e-07,\n",
       "       7.05123789e-08, 4.07108256e-08, 1.10247783e-07, 7.89461685e-08,\n",
       "       9.03800811e-08, 1.10247783e-07, 1.18732343e-07, 1.09055548e-07,\n",
       "       7.05123789e-08, 8.04462300e-08, 1.89718592e-07, 1.00313932e-07,\n",
       "       1.60836805e-07, 1.33426464e-07, 9.03800811e-08, 1.01821454e-07,\n",
       "       1.69850890e-07, 7.05123789e-08, 1.08789753e-07, 9.42672299e-08,\n",
       "       1.37685772e-07, 1.40049337e-07, 1.51465823e-07, 1.91928940e-07,\n",
       "       1.12058044e-07, 1.00313932e-07, 1.00313932e-07, 3.03423949e-07,\n",
       "       1.49983188e-07, 1.28670286e-07, 9.03800811e-08, 4.07108256e-08,\n",
       "       1.99652443e-07, 7.05123789e-08, 1.20181634e-07, 1.58656336e-07,\n",
       "       9.12438434e-08, 1.44326163e-07, 1.00313932e-07, 1.00313932e-07,\n",
       "       1.99679764e-07, 7.05123789e-08, 9.03800811e-08, 6.13300214e-08,\n",
       "       1.69850890e-07, 2.98990954e-07, 7.05123789e-08, 1.00313932e-07,\n",
       "       1.28612659e-07, 5.22751967e-08, 1.89718592e-07, 8.12863219e-08,\n",
       "       1.11024828e-07, 1.30115485e-07, 1.59917039e-07, 4.07108256e-08,\n",
       "       1.79805314e-07, 1.59917039e-07, 1.07248545e-07, 1.67094882e-07,\n",
       "       1.01066753e-07, 4.07108256e-08, 1.59917039e-07, 1.99652443e-07,\n",
       "       1.59917039e-07, 7.05123789e-08, 6.05785278e-08, 9.03800811e-08,\n",
       "       1.59917039e-07, 1.00313932e-07, 1.30115485e-07, 1.30920846e-07,\n",
       "       1.69850890e-07, 8.12102225e-08, 1.49983188e-07, 5.06446767e-08,\n",
       "       1.38579140e-07, 1.69850890e-07, 7.05123789e-08, 1.11734953e-07,\n",
       "       1.10247783e-07, 4.07108256e-08, 1.20181634e-07, 9.03800811e-08,\n",
       "       1.00313932e-07, 1.12812169e-07, 1.78364650e-07, 7.05123789e-08,\n",
       "       2.98990954e-07, 5.22530748e-08, 6.05785278e-08, 1.02690083e-07,\n",
       "       1.71331644e-07, 8.04462300e-08, 2.89057103e-07, 9.03800811e-08,\n",
       "       7.34788656e-08, 7.05123789e-08, 1.99652443e-07, 5.83977019e-08,\n",
       "       1.76854855e-07, 1.59917039e-07, 1.20181634e-07, 1.21718689e-07,\n",
       "       8.04462300e-08, 2.69189401e-07, 1.00313932e-07, 1.99652443e-07,\n",
       "       1.59917039e-07, 8.04462300e-08, 2.98990954e-07, 1.89718592e-07,\n",
       "       1.69850890e-07, 3.08924805e-07, 1.83948967e-07, 1.30115485e-07,\n",
       "       1.10247783e-07, 1.20381174e-07, 2.99738355e-07, 9.03800811e-08,\n",
       "       4.29836675e-08, 1.29448437e-07, 1.61392927e-07, 9.03800811e-08,\n",
       "       5.06446767e-08, 6.05785278e-08, 2.04602402e-07, 1.40049337e-07,\n",
       "       2.50790176e-07, 1.69850890e-07, 1.40049337e-07, 7.05123789e-08,\n",
       "       1.43046020e-07, 1.20181634e-07, 8.04462300e-08, 1.79784741e-07,\n",
       "       1.59917039e-07, 1.69850890e-07, 1.58435449e-07, 1.89718592e-07,\n",
       "       1.56901541e-07, 1.00385054e-07, 1.10247783e-07, 6.18266584e-08,\n",
       "       1.10247783e-07, 1.49983188e-07, 1.90533133e-07, 9.03800811e-08,\n",
       "       1.49983188e-07, 6.05785278e-08, 9.32870477e-08, 1.78355027e-07,\n",
       "       9.03800811e-08, 1.00313932e-07, 1.10247783e-07, 1.52196300e-07,\n",
       "       7.05123789e-08, 1.48539758e-07, 1.69850890e-07, 1.87357078e-07,\n",
       "       9.03800811e-08, 7.05123789e-08, 1.38545957e-07, 1.20181634e-07,\n",
       "       1.20181634e-07, 6.20601673e-08, 9.88176314e-08, 1.45708204e-07,\n",
       "       6.05785278e-08, 1.60656808e-07, 7.05123789e-08, 6.76415584e-08,\n",
       "       9.03800811e-08, 1.00313932e-07, 7.89459472e-08, 1.20181634e-07,\n",
       "       1.20976044e-07, 1.18692523e-07, 1.19637571e-07, 1.00313932e-07,\n",
       "       5.06446767e-08, 1.18756013e-07, 1.69850890e-07, 7.49913651e-08,\n",
       "       9.03800811e-08, 6.05785278e-08, 1.20181634e-07, 1.25110836e-07,\n",
       "       9.88400851e-08, 1.00313932e-07, 2.08079375e-07, 6.05785278e-08,\n",
       "       1.30115485e-07, 1.31054794e-07, 1.69850890e-07, 1.10247783e-07,\n",
       "       1.79784741e-07, 6.05785278e-08, 7.05123789e-08, 1.69850890e-07,\n",
       "       1.30115485e-07, 1.99652443e-07, 1.71492605e-07, 1.59917039e-07,\n",
       "       1.10247783e-07, 1.69850890e-07, 1.59295265e-07, 1.37423295e-07,\n",
       "       4.91534639e-08, 2.99757159e-07, 2.89057103e-07, 1.30115485e-07,\n",
       "       9.03800811e-08, 8.90106495e-08, 1.61388945e-07, 1.69850890e-07,\n",
       "       1.20181634e-07, 1.89718592e-07, 1.11031010e-07, 1.43779460e-07,\n",
       "       1.30115485e-07, 1.12933199e-07, 1.58452040e-07, 1.20181634e-07,\n",
       "       1.49983188e-07, 8.04462300e-08, 9.03800811e-08, 3.05904219e-07,\n",
       "       7.05123789e-08, 1.59917039e-07, 1.68366535e-07, 8.04462300e-08,\n",
       "       7.05123789e-08, 2.01227646e-07, 6.44639709e-08, 1.59917039e-07,\n",
       "       1.69850890e-07, 1.99652443e-07, 1.10247783e-07, 1.00313932e-07,\n",
       "       1.79784741e-07, 1.99652443e-07, 1.51475335e-07, 1.89718592e-07,\n",
       "       1.99652443e-07, 5.06446767e-08, 1.69850890e-07, 1.82183651e-07,\n",
       "       1.39309617e-07, 7.05123789e-08, 1.20181634e-07, 1.89718592e-07,\n",
       "       4.07108256e-08, 1.49983188e-07, 1.21681746e-07, 1.30115485e-07,\n",
       "       2.98990954e-07, 1.89718592e-07, 1.40049337e-07, 1.98328140e-07,\n",
       "       1.00313932e-07, 9.03800811e-08, 1.99652443e-07, 9.03800811e-08,\n",
       "       1.40049337e-07, 5.06446767e-08, 8.74029648e-08, 1.08816963e-07,\n",
       "       7.12597799e-08, 1.69850890e-07, 4.24822622e-08, 1.28834210e-07,\n",
       "       1.00313932e-07, 7.66460965e-08, 8.04462300e-08, 9.03800811e-08,\n",
       "       2.79123252e-07, 1.19545924e-07, 9.03800811e-08, 7.05123789e-08,\n",
       "       1.00313932e-07, 1.40802600e-07, 1.00313932e-07, 2.89057103e-07,\n",
       "       9.03800811e-08, 1.41013754e-07, 1.89718592e-07, 7.05123789e-08,\n",
       "       1.39030095e-07, 1.98159239e-07, 8.04462300e-08, 1.38550824e-07,\n",
       "       1.00313932e-07, 6.75831565e-08, 5.06446767e-08, 2.03424180e-07,\n",
       "       1.58427264e-07, 7.05123789e-08, 9.03800811e-08, 9.19060750e-08,\n",
       "       1.00313932e-07, 2.89057103e-07, 6.05785278e-08, 1.49983188e-07,\n",
       "       9.74545452e-08, 1.00313932e-07, 9.11280352e-08, 1.20181634e-07,\n",
       "       4.07108256e-08, 5.06446767e-08, 9.03800811e-08, 1.18682126e-07,\n",
       "       5.13986037e-08, 1.89718592e-07, 1.68352930e-07, 6.05785278e-08,\n",
       "       9.03800811e-08, 6.85811411e-08, 1.69850890e-07, 1.20024275e-07,\n",
       "       1.99652443e-07, 1.10247783e-07, 9.29012415e-08, 1.08873706e-07,\n",
       "       1.79784741e-07, 4.15311184e-08, 1.08767631e-07, 1.30115485e-07,\n",
       "       1.40168574e-07, 1.06710123e-07, 1.10247783e-07, 1.10247783e-07,\n",
       "       4.07108256e-08, 1.70670076e-07, 1.19449105e-07, 7.05123789e-08,\n",
       "       8.04462300e-08, 1.00313932e-07, 1.29770864e-07, 1.00313932e-07,\n",
       "       9.03800811e-08, 1.00313932e-07, 1.79784741e-07, 1.41541595e-07,\n",
       "       1.99652443e-07, 1.49983188e-07, 1.33178977e-07, 8.04462300e-08,\n",
       "       7.16346358e-08, 1.10247783e-07, 8.74281838e-08, 1.10247783e-07,\n",
       "       1.92112095e-07, 1.27250306e-07, 1.49983188e-07, 1.78287002e-07,\n",
       "       1.69850890e-07, 1.28772490e-07, 9.03800811e-08, 1.08833002e-07,\n",
       "       7.05123789e-08, 9.18712330e-08, 8.82004598e-08, 9.03800811e-08,\n",
       "       1.69901549e-07, 1.20181634e-07, 7.94030966e-08, 9.74241974e-08,\n",
       "       1.08783117e-07, 7.05123789e-08, 1.40309380e-07, 1.69850890e-07,\n",
       "       1.27798552e-07, 1.16989850e-07, 3.11378479e-07, 1.75359992e-07,\n",
       "       1.00313932e-07, 6.61002395e-08, 8.88779180e-08, 7.05123789e-08,\n",
       "       1.23430175e-07, 5.06446767e-08, 1.78277047e-07, 7.05123789e-08,\n",
       "       7.05123789e-08, 6.87874280e-08, 1.00313932e-07, 1.32727663e-07,\n",
       "       1.10247783e-07, 1.48507128e-07, 1.15885856e-07, 1.89718592e-07,\n",
       "       5.06446767e-08, 7.61296572e-08, 1.41673773e-07, 1.10247783e-07,\n",
       "       1.00313932e-07, 1.10994189e-07, 1.89718592e-07, 1.78501695e-07,\n",
       "       1.69850890e-07, 1.89718592e-07, 8.13099923e-08, 1.47171211e-07,\n",
       "       5.06446767e-08, 1.40192687e-07, 1.89718592e-07, 2.28103147e-07,\n",
       "       1.99652443e-07, 1.13525083e-07, 9.73337188e-08, 8.96225416e-08,\n",
       "       7.05123789e-08, 8.04462300e-08, 1.10247783e-07, 1.69850890e-07,\n",
       "       8.19508763e-08, 8.04462300e-08, 6.60223703e-08, 6.90178478e-08,\n",
       "       5.06446767e-08, 7.05123789e-08, 1.20181634e-07, 1.69850890e-07,\n",
       "       1.99652443e-07, 1.22109694e-07, 1.10247783e-07, 1.18713539e-07,\n",
       "       1.07301859e-07, 2.11943837e-07, 1.00313932e-07, 1.01416279e-07,\n",
       "       1.20181634e-07, 1.79784741e-07, 1.01067638e-07, 9.03800811e-08,\n",
       "       9.03800811e-08, 2.69189401e-07, 2.98990954e-07, 7.20255421e-08,\n",
       "       1.11720487e-07, 6.28197354e-08, 1.10247783e-07, 1.95446148e-07,\n",
       "       9.03800811e-08, 9.88352183e-08, 1.70031737e-07, 1.20181634e-07,\n",
       "       1.69850890e-07, 1.05313767e-07, 9.45774898e-08, 1.10247783e-07,\n",
       "       1.00313932e-07, 1.09104884e-07, 1.30115485e-07, 1.20181634e-07,\n",
       "       4.31691598e-08, 1.29062176e-07, 7.75418948e-08, 1.69850890e-07,\n",
       "       2.79123252e-07, 1.92240748e-07])"
      ]
     },
     "execution_count": 379,
     "metadata": {},
     "output_type": "execute_result"
    }
   ],
   "source": [
    "#set up model to run linear regression\n",
    "from sklearn.linear_model import LinearRegression\n",
    "\n",
    "model = LinearRegression()\n",
    "model = model.fit(X_train_scaled, y_train)\n",
    "model.predict(X_train_scaled)\n"
   ]
  },
  {
   "cell_type": "code",
   "execution_count": 380,
   "metadata": {},
   "outputs": [],
   "source": [
    "#predict X_train values\n",
    "luna_training_predictions = model.predict(X_train_scaled)"
   ]
  },
  {
   "cell_type": "code",
   "execution_count": 381,
   "metadata": {},
   "outputs": [
    {
     "data": {
      "text/plain": [
       "3.346418624115675e-17"
      ]
     },
     "execution_count": 381,
     "metadata": {},
     "output_type": "execute_result"
    }
   ],
   "source": [
    "#evaluate mean squared error\n",
    "from sklearn.metrics import mean_squared_error\n",
    "mean_squared_error(y_train, luna_training_predictions)"
   ]
  },
  {
   "cell_type": "code",
   "execution_count": 382,
   "metadata": {},
   "outputs": [
    {
     "data": {
      "text/plain": [
       "0.9897396573984404"
      ]
     },
     "execution_count": 382,
     "metadata": {},
     "output_type": "execute_result"
    }
   ],
   "source": [
    "#evaluate r2 score\n",
    "from sklearn.metrics import r2_score\n",
    "r2_score(y_train, luna_training_predictions)"
   ]
  },
  {
   "cell_type": "code",
   "execution_count": 383,
   "metadata": {},
   "outputs": [
    {
     "data": {
      "text/html": [
       "<div>\n",
       "<style scoped>\n",
       "    .dataframe tbody tr th:only-of-type {\n",
       "        vertical-align: middle;\n",
       "    }\n",
       "\n",
       "    .dataframe tbody tr th {\n",
       "        vertical-align: top;\n",
       "    }\n",
       "\n",
       "    .dataframe thead th {\n",
       "        text-align: right;\n",
       "    }\n",
       "</style>\n",
       "<table border=\"1\" class=\"dataframe\">\n",
       "  <thead>\n",
       "    <tr style=\"text-align: right;\">\n",
       "      <th></th>\n",
       "      <th>prediction</th>\n",
       "    </tr>\n",
       "  </thead>\n",
       "  <tbody>\n",
       "    <tr>\n",
       "      <th>0</th>\n",
       "      <td>1.171619e-07</td>\n",
       "    </tr>\n",
       "    <tr>\n",
       "      <th>1</th>\n",
       "      <td>1.484863e-07</td>\n",
       "    </tr>\n",
       "    <tr>\n",
       "      <th>2</th>\n",
       "      <td>8.121432e-08</td>\n",
       "    </tr>\n",
       "    <tr>\n",
       "      <th>3</th>\n",
       "      <td>6.133699e-08</td>\n",
       "    </tr>\n",
       "    <tr>\n",
       "      <th>4</th>\n",
       "      <td>2.989910e-07</td>\n",
       "    </tr>\n",
       "    <tr>\n",
       "      <th>...</th>\n",
       "      <td>...</td>\n",
       "    </tr>\n",
       "    <tr>\n",
       "      <th>625</th>\n",
       "      <td>1.290622e-07</td>\n",
       "    </tr>\n",
       "    <tr>\n",
       "      <th>626</th>\n",
       "      <td>7.754189e-08</td>\n",
       "    </tr>\n",
       "    <tr>\n",
       "      <th>627</th>\n",
       "      <td>1.698509e-07</td>\n",
       "    </tr>\n",
       "    <tr>\n",
       "      <th>628</th>\n",
       "      <td>2.791233e-07</td>\n",
       "    </tr>\n",
       "    <tr>\n",
       "      <th>629</th>\n",
       "      <td>1.922407e-07</td>\n",
       "    </tr>\n",
       "  </tbody>\n",
       "</table>\n",
       "<p>630 rows × 1 columns</p>\n",
       "</div>"
      ],
      "text/plain": [
       "       prediction\n",
       "0    1.171619e-07\n",
       "1    1.484863e-07\n",
       "2    8.121432e-08\n",
       "3    6.133699e-08\n",
       "4    2.989910e-07\n",
       "..            ...\n",
       "625  1.290622e-07\n",
       "626  7.754189e-08\n",
       "627  1.698509e-07\n",
       "628  2.791233e-07\n",
       "629  1.922407e-07\n",
       "\n",
       "[630 rows x 1 columns]"
      ]
     },
     "execution_count": 383,
     "metadata": {},
     "output_type": "execute_result"
    }
   ],
   "source": [
    "luna_training_prediction_df = pd.DataFrame(luna_training_predictions, columns=[\"prediction\"])\n",
    "luna_training_prediction_df"
   ]
  },
  {
   "cell_type": "code",
   "execution_count": 384,
   "metadata": {},
   "outputs": [],
   "source": [
    "compare_luna = y_train\n"
   ]
  },
  {
   "cell_type": "code",
   "execution_count": 385,
   "metadata": {},
   "outputs": [
    {
     "data": {
      "text/plain": [
       "0      1.200000e-07\n",
       "1      1.500000e-07\n",
       "2      8.000000e-08\n",
       "3      6.000000e-08\n",
       "4      3.000000e-07\n",
       "           ...     \n",
       "625    1.300000e-07\n",
       "626    8.000000e-08\n",
       "627    1.700000e-07\n",
       "628    2.800000e-07\n",
       "629    1.900000e-07\n",
       "Name: price, Length: 630, dtype: float64"
      ]
     },
     "execution_count": 385,
     "metadata": {},
     "output_type": "execute_result"
    }
   ],
   "source": [
    "y_train=y_train.reset_index(drop=True)\n",
    "y_train"
   ]
  },
  {
   "cell_type": "code",
   "execution_count": 386,
   "metadata": {},
   "outputs": [],
   "source": [
    "frames = [luna_training_prediction_df,y_train]\n",
    "model_performance=pd.concat(frames)"
   ]
  },
  {
   "cell_type": "code",
   "execution_count": 387,
   "metadata": {},
   "outputs": [
    {
     "data": {
      "text/html": [
       "<div>\n",
       "<style scoped>\n",
       "    .dataframe tbody tr th:only-of-type {\n",
       "        vertical-align: middle;\n",
       "    }\n",
       "\n",
       "    .dataframe tbody tr th {\n",
       "        vertical-align: top;\n",
       "    }\n",
       "\n",
       "    .dataframe thead th {\n",
       "        text-align: right;\n",
       "    }\n",
       "</style>\n",
       "<table border=\"1\" class=\"dataframe\">\n",
       "  <thead>\n",
       "    <tr style=\"text-align: right;\">\n",
       "      <th></th>\n",
       "      <th>prediction</th>\n",
       "      <th>0</th>\n",
       "    </tr>\n",
       "  </thead>\n",
       "  <tbody>\n",
       "    <tr>\n",
       "      <th>0</th>\n",
       "      <td>1.171619e-07</td>\n",
       "      <td>NaN</td>\n",
       "    </tr>\n",
       "    <tr>\n",
       "      <th>1</th>\n",
       "      <td>1.484863e-07</td>\n",
       "      <td>NaN</td>\n",
       "    </tr>\n",
       "    <tr>\n",
       "      <th>2</th>\n",
       "      <td>8.121432e-08</td>\n",
       "      <td>NaN</td>\n",
       "    </tr>\n",
       "    <tr>\n",
       "      <th>3</th>\n",
       "      <td>6.133699e-08</td>\n",
       "      <td>NaN</td>\n",
       "    </tr>\n",
       "    <tr>\n",
       "      <th>4</th>\n",
       "      <td>2.989910e-07</td>\n",
       "      <td>NaN</td>\n",
       "    </tr>\n",
       "    <tr>\n",
       "      <th>...</th>\n",
       "      <td>...</td>\n",
       "      <td>...</td>\n",
       "    </tr>\n",
       "    <tr>\n",
       "      <th>625</th>\n",
       "      <td>NaN</td>\n",
       "      <td>1.300000e-07</td>\n",
       "    </tr>\n",
       "    <tr>\n",
       "      <th>626</th>\n",
       "      <td>NaN</td>\n",
       "      <td>8.000000e-08</td>\n",
       "    </tr>\n",
       "    <tr>\n",
       "      <th>627</th>\n",
       "      <td>NaN</td>\n",
       "      <td>1.700000e-07</td>\n",
       "    </tr>\n",
       "    <tr>\n",
       "      <th>628</th>\n",
       "      <td>NaN</td>\n",
       "      <td>2.800000e-07</td>\n",
       "    </tr>\n",
       "    <tr>\n",
       "      <th>629</th>\n",
       "      <td>NaN</td>\n",
       "      <td>1.900000e-07</td>\n",
       "    </tr>\n",
       "  </tbody>\n",
       "</table>\n",
       "<p>1260 rows × 2 columns</p>\n",
       "</div>"
      ],
      "text/plain": [
       "       prediction             0\n",
       "0    1.171619e-07           NaN\n",
       "1    1.484863e-07           NaN\n",
       "2    8.121432e-08           NaN\n",
       "3    6.133699e-08           NaN\n",
       "4    2.989910e-07           NaN\n",
       "..            ...           ...\n",
       "625           NaN  1.300000e-07\n",
       "626           NaN  8.000000e-08\n",
       "627           NaN  1.700000e-07\n",
       "628           NaN  2.800000e-07\n",
       "629           NaN  1.900000e-07\n",
       "\n",
       "[1260 rows x 2 columns]"
      ]
     },
     "execution_count": 387,
     "metadata": {},
     "output_type": "execute_result"
    }
   ],
   "source": [
    "model_performance"
   ]
  },
  {
   "cell_type": "code",
   "execution_count": 388,
   "metadata": {},
   "outputs": [],
   "source": [
    "# #adjust column names\n",
    "# model_performance.columns=['prediction', 'actual']\n",
    "# model_performance\n",
    "\n",
    "# compare_luna=y_train['price']\n",
    "# compare_luna\n",
    "\n",
    "# # #plot x_test\n",
    "# # name = 'SKLearn Luna Actual Vs. Predicted'\n",
    "# # ax = model_performance.plot(figsize=(20,10), title=name)\n",
    "# # ax.figure.savefig('bitcoin.png')"
   ]
  },
  {
   "cell_type": "code",
   "execution_count": 389,
   "metadata": {},
   "outputs": [
    {
     "data": {
      "image/png": "[encoded data removed]",
      "text/plain": [
       "<Figure size 1440x720 with 1 Axes>"
      ]
     },
     "metadata": {
      "needs_background": "light"
     },
     "output_type": "display_data"
    }
   ],
   "source": [
    "predictions_actual_y_luna_train=y_luna_df_train\n",
    "predictions_actual_y_luna_train['predictions']=luna_training_prediction_df['prediction'].values\n",
    "\n",
    "#plot x_test\n",
    "name = 'SKLearn Luna train Actual Vs. Predicted'\n",
    "ax = predictions_actual_y_luna_train.plot(figsize=(20,10), title=name)\n",
    "ax.figure.savefig('luna_train_sklearn.png')"
   ]
  },
  {
   "cell_type": "code",
   "execution_count": 390,
   "metadata": {},
   "outputs": [
    {
     "data": {
      "text/plain": [
       "array([1.10247783e-07, 1.50715103e-07, 2.98990954e-07, 7.05123789e-08,\n",
       "       1.00313932e-07, 5.06446767e-08, 1.69850890e-07, 8.04462300e-08,\n",
       "       7.05123789e-08, 1.00313932e-07, 1.10247783e-07, 1.10247783e-07,\n",
       "       8.21445537e-08, 1.00313932e-07, 5.01468607e-08, 1.10247783e-07,\n",
       "       7.74321701e-08, 1.20181634e-07, 1.00313932e-07, 2.98990954e-07,\n",
       "       2.19520145e-07, 1.18812977e-07, 9.74454345e-08, 1.10247783e-07,\n",
       "       8.04462300e-08, 1.17398859e-07, 1.59917039e-07, 9.03800811e-08,\n",
       "       1.79784741e-07, 1.79784741e-07, 1.01412187e-07, 1.69850890e-07,\n",
       "       1.30115485e-07, 6.05785278e-08, 1.89718592e-07, 1.69850890e-07,\n",
       "       1.10247783e-07, 2.99224230e-07, 1.89718592e-07, 1.99652443e-07,\n",
       "       1.89718592e-07, 1.69850890e-07, 1.69850890e-07, 2.27311826e-07,\n",
       "       4.07108256e-08, 1.69850890e-07, 7.12625452e-08, 4.40623818e-08,\n",
       "       1.05741626e-07, 1.10247783e-07, 1.00313932e-07, 8.88788028e-08,\n",
       "       1.89718592e-07, 1.69850890e-07, 1.01144622e-07, 1.10247783e-07,\n",
       "       5.06446767e-08, 1.79784741e-07, 6.05785278e-08, 1.49983188e-07,\n",
       "       1.30115485e-07, 1.00313932e-07, 1.30859900e-07, 1.10994509e-07,\n",
       "       2.69189401e-07, 1.00313932e-07, 2.94556803e-07, 1.99652443e-07,\n",
       "       9.14708143e-08, 1.69850890e-07, 1.89718592e-07, 9.03800811e-08,\n",
       "       1.69850890e-07, 1.69850890e-07, 7.05123789e-08, 9.03800811e-08,\n",
       "       1.00313932e-07, 8.04462300e-08, 1.99652443e-07, 1.66895232e-07,\n",
       "       8.04462300e-08, 1.69850890e-07, 1.49983188e-07, 1.00313932e-07,\n",
       "       1.00313932e-07, 9.03800811e-08, 7.05123789e-08, 1.51456310e-07,\n",
       "       2.70660864e-07, 8.11919719e-08, 1.40049337e-07, 1.70845946e-07,\n",
       "       1.70593535e-07, 3.24266440e-07, 1.07228967e-07, 8.04462300e-08,\n",
       "       1.79784741e-07, 8.04462300e-08, 9.03800811e-08, 1.10419671e-07,\n",
       "       7.21015309e-08, 1.74358156e-07, 6.05785278e-08, 1.12709200e-07,\n",
       "       1.10247783e-07, 9.03800811e-08, 9.88105524e-08, 1.11049383e-07,\n",
       "       1.10247783e-07, 2.98990954e-07, 1.92950452e-07, 6.05785278e-08,\n",
       "       1.40791981e-07, 2.39408421e-07, 1.99652443e-07, 7.26793553e-08,\n",
       "       6.91010262e-08, 8.04462300e-08, 1.00313932e-07, 1.86711058e-07,\n",
       "       1.79784741e-07, 8.89341076e-08, 1.14133162e-07, 7.05123789e-08,\n",
       "       1.89718592e-07, 2.16504316e-07, 1.79784741e-07, 7.05123789e-08,\n",
       "       5.21653614e-08, 7.05123789e-08, 1.65434768e-07, 1.02563866e-07,\n",
       "       1.79784741e-07, 5.21394788e-08, 1.40049337e-07, 1.89718592e-07,\n",
       "       1.60663112e-07, 5.06446767e-08, 9.03800811e-08, 1.15907425e-07,\n",
       "       1.00313932e-07, 9.03800811e-08, 1.78525698e-07, 6.14013037e-08,\n",
       "       9.03800811e-08, 1.01086663e-07, 8.13520239e-08, 2.64697622e-07,\n",
       "       1.60678930e-07, 1.69850890e-07, 1.48477596e-07, 7.05123789e-08,\n",
       "       8.04462300e-08, 1.10247783e-07, 1.04052928e-07, 1.10247783e-07,\n",
       "       1.41053794e-07, 2.20270422e-07, 1.49983188e-07, 1.69850890e-07,\n",
       "       1.82032364e-07, 8.27917424e-08, 9.12456132e-08, 5.52192713e-08,\n",
       "       1.69850890e-07, 9.03800811e-08, 8.04462300e-08, 1.20181634e-07,\n",
       "       1.08770618e-07, 6.05785278e-08, 1.20181634e-07, 2.23560378e-07,\n",
       "       1.59259281e-07, 1.87108146e-07, 1.69850890e-07, 1.89718592e-07,\n",
       "       1.08765530e-07, 9.03800811e-08, 1.08842404e-07, 1.19037175e-07,\n",
       "       1.20181634e-07, 8.04462300e-08, 1.20181634e-07, 1.00313932e-07,\n",
       "       1.69850890e-07, 1.38645616e-07, 1.89718592e-07, 1.00313932e-07,\n",
       "       9.43962007e-08, 9.03800811e-08, 6.05785278e-08, 1.99652443e-07,\n",
       "       1.20181634e-07, 2.87578610e-07, 8.88789135e-08, 9.03800811e-08,\n",
       "       1.49983188e-07, 9.75406693e-08, 1.69117586e-07, 8.04462300e-08,\n",
       "       9.03800811e-08, 9.26757086e-08, 1.20181634e-07, 1.98145966e-07,\n",
       "       1.69850890e-07, 1.59917039e-07, 8.36790645e-08, 1.69850890e-07,\n",
       "       1.00313932e-07, 9.11658636e-08])"
      ]
     },
     "execution_count": 390,
     "metadata": {},
     "output_type": "execute_result"
    }
   ],
   "source": [
    "#predict the test values\n",
    "luna_testing_predictions = model.predict(X_test_scaled)\n",
    "luna_testing_predictions"
   ]
  },
  {
   "cell_type": "code",
   "execution_count": 391,
   "metadata": {},
   "outputs": [
    {
     "data": {
      "text/plain": [
       "2.8583038772205247e-17"
      ]
     },
     "execution_count": 391,
     "metadata": {},
     "output_type": "execute_result"
    }
   ],
   "source": [
    "#calculate mean squared error for test\n",
    "mean_squared_error(y_test, luna_testing_predictions)"
   ]
  },
  {
   "cell_type": "code",
   "execution_count": 392,
   "metadata": {},
   "outputs": [
    {
     "data": {
      "text/plain": [
       "0.9914750146262179"
      ]
     },
     "execution_count": 392,
     "metadata": {},
     "output_type": "execute_result"
    }
   ],
   "source": [
    "#calculate r2 score for test\n",
    "r2_score(y_test, luna_testing_predictions)"
   ]
  },
  {
   "cell_type": "code",
   "execution_count": 393,
   "metadata": {},
   "outputs": [
    {
     "data": {
      "text/html": [
       "<div>\n",
       "<style scoped>\n",
       "    .dataframe tbody tr th:only-of-type {\n",
       "        vertical-align: middle;\n",
       "    }\n",
       "\n",
       "    .dataframe tbody tr th {\n",
       "        vertical-align: top;\n",
       "    }\n",
       "\n",
       "    .dataframe thead th {\n",
       "        text-align: right;\n",
       "    }\n",
       "</style>\n",
       "<table border=\"1\" class=\"dataframe\">\n",
       "  <thead>\n",
       "    <tr style=\"text-align: right;\">\n",
       "      <th></th>\n",
       "      <th>prediction</th>\n",
       "    </tr>\n",
       "  </thead>\n",
       "  <tbody>\n",
       "    <tr>\n",
       "      <th>0</th>\n",
       "      <td>1.102478e-07</td>\n",
       "    </tr>\n",
       "    <tr>\n",
       "      <th>1</th>\n",
       "      <td>1.507151e-07</td>\n",
       "    </tr>\n",
       "    <tr>\n",
       "      <th>2</th>\n",
       "      <td>2.989910e-07</td>\n",
       "    </tr>\n",
       "    <tr>\n",
       "      <th>3</th>\n",
       "      <td>7.051238e-08</td>\n",
       "    </tr>\n",
       "    <tr>\n",
       "      <th>4</th>\n",
       "      <td>1.003139e-07</td>\n",
       "    </tr>\n",
       "    <tr>\n",
       "      <th>...</th>\n",
       "      <td>...</td>\n",
       "    </tr>\n",
       "    <tr>\n",
       "      <th>205</th>\n",
       "      <td>1.599170e-07</td>\n",
       "    </tr>\n",
       "    <tr>\n",
       "      <th>206</th>\n",
       "      <td>8.367906e-08</td>\n",
       "    </tr>\n",
       "    <tr>\n",
       "      <th>207</th>\n",
       "      <td>1.698509e-07</td>\n",
       "    </tr>\n",
       "    <tr>\n",
       "      <th>208</th>\n",
       "      <td>1.003139e-07</td>\n",
       "    </tr>\n",
       "    <tr>\n",
       "      <th>209</th>\n",
       "      <td>9.116586e-08</td>\n",
       "    </tr>\n",
       "  </tbody>\n",
       "</table>\n",
       "<p>210 rows × 1 columns</p>\n",
       "</div>"
      ],
      "text/plain": [
       "       prediction\n",
       "0    1.102478e-07\n",
       "1    1.507151e-07\n",
       "2    2.989910e-07\n",
       "3    7.051238e-08\n",
       "4    1.003139e-07\n",
       "..            ...\n",
       "205  1.599170e-07\n",
       "206  8.367906e-08\n",
       "207  1.698509e-07\n",
       "208  1.003139e-07\n",
       "209  9.116586e-08\n",
       "\n",
       "[210 rows x 1 columns]"
      ]
     },
     "execution_count": 393,
     "metadata": {},
     "output_type": "execute_result"
    }
   ],
   "source": [
    "luna_testing_prediction_df = pd.DataFrame(luna_testing_predictions, columns=[\"prediction\"])\n",
    "luna_testing_prediction_df"
   ]
  },
  {
   "cell_type": "code",
   "execution_count": 394,
   "metadata": {},
   "outputs": [
    {
     "data": {
      "text/html": [
       "<div>\n",
       "<style scoped>\n",
       "    .dataframe tbody tr th:only-of-type {\n",
       "        vertical-align: middle;\n",
       "    }\n",
       "\n",
       "    .dataframe tbody tr th {\n",
       "        vertical-align: top;\n",
       "    }\n",
       "\n",
       "    .dataframe thead th {\n",
       "        text-align: right;\n",
       "    }\n",
       "</style>\n",
       "<table border=\"1\" class=\"dataframe\">\n",
       "  <thead>\n",
       "    <tr style=\"text-align: right;\">\n",
       "      <th></th>\n",
       "      <th>date</th>\n",
       "      <th>price</th>\n",
       "    </tr>\n",
       "  </thead>\n",
       "  <tbody>\n",
       "    <tr>\n",
       "      <th>0</th>\n",
       "      <td>2020-11-06</td>\n",
       "      <td>1.100000e-07</td>\n",
       "    </tr>\n",
       "    <tr>\n",
       "      <th>1</th>\n",
       "      <td>2021-11-10</td>\n",
       "      <td>1.500000e-07</td>\n",
       "    </tr>\n",
       "    <tr>\n",
       "      <th>2</th>\n",
       "      <td>2021-07-06</td>\n",
       "      <td>3.000000e-07</td>\n",
       "    </tr>\n",
       "    <tr>\n",
       "      <th>3</th>\n",
       "      <td>2020-07-12</td>\n",
       "      <td>7.000000e-08</td>\n",
       "    </tr>\n",
       "    <tr>\n",
       "      <th>4</th>\n",
       "      <td>2019-10-24</td>\n",
       "      <td>1.000000e-07</td>\n",
       "    </tr>\n",
       "    <tr>\n",
       "      <th>...</th>\n",
       "      <td>...</td>\n",
       "      <td>...</td>\n",
       "    </tr>\n",
       "    <tr>\n",
       "      <th>205</th>\n",
       "      <td>2021-09-22</td>\n",
       "      <td>1.600000e-07</td>\n",
       "    </tr>\n",
       "    <tr>\n",
       "      <th>206</th>\n",
       "      <td>2020-09-28</td>\n",
       "      <td>8.000000e-08</td>\n",
       "    </tr>\n",
       "    <tr>\n",
       "      <th>207</th>\n",
       "      <td>2021-12-25</td>\n",
       "      <td>1.700000e-07</td>\n",
       "    </tr>\n",
       "    <tr>\n",
       "      <th>208</th>\n",
       "      <td>2020-03-27</td>\n",
       "      <td>1.000000e-07</td>\n",
       "    </tr>\n",
       "    <tr>\n",
       "      <th>209</th>\n",
       "      <td>2020-09-12</td>\n",
       "      <td>9.000000e-08</td>\n",
       "    </tr>\n",
       "  </tbody>\n",
       "</table>\n",
       "<p>210 rows × 2 columns</p>\n",
       "</div>"
      ],
      "text/plain": [
       "          date         price\n",
       "0   2020-11-06  1.100000e-07\n",
       "1   2021-11-10  1.500000e-07\n",
       "2   2021-07-06  3.000000e-07\n",
       "3   2020-07-12  7.000000e-08\n",
       "4   2019-10-24  1.000000e-07\n",
       "..         ...           ...\n",
       "205 2021-09-22  1.600000e-07\n",
       "206 2020-09-28  8.000000e-08\n",
       "207 2021-12-25  1.700000e-07\n",
       "208 2020-03-27  1.000000e-07\n",
       "209 2020-09-12  9.000000e-08\n",
       "\n",
       "[210 rows x 2 columns]"
      ]
     },
     "execution_count": 394,
     "metadata": {},
     "output_type": "execute_result"
    }
   ],
   "source": [
    "y_test=y_test.reset_index()\n",
    "y_test"
   ]
  },
  {
   "cell_type": "code",
   "execution_count": 395,
   "metadata": {},
   "outputs": [],
   "source": [
    "testing_frames = [luna_testing_prediction_df,y_test]\n",
    "testing_model_performance=pd.concat(testing_frames)"
   ]
  },
  {
   "cell_type": "code",
   "execution_count": 396,
   "metadata": {},
   "outputs": [],
   "source": [
    "predictions_actual_y_luna_test['predictions']=luna_testing_prediction_df['prediction'].values"
   ]
  },
  {
   "cell_type": "code",
   "execution_count": 397,
   "metadata": {},
   "outputs": [
    {
     "data": {
      "image/png": "[encoded data removed]",
      "text/plain": [
       "<Figure size 1440x720 with 1 Axes>"
      ]
     },
     "metadata": {
      "needs_background": "light"
     },
     "output_type": "display_data"
    }
   ],
   "source": [
    "#adjust column names\n",
    "# predictions_actual_y_luna_test.columns=['prediction', 'actual']\n",
    "\n",
    "predictions_actual_y_luna_test=y_luna_df\n",
    "predictions_actual_y_luna_test['predictions']=luna_testing_prediction_df['prediction'].values\n",
    "\n",
    "#plot x_test\n",
    "name = 'SKLearn Luna Actual Vs. Predicted'\n",
    "ax = predictions_actual_y_luna_test.plot(figsize=(20,10), title=name)\n",
    "ax.figure.savefig('luna_test_sklearn.png')"
   ]
  },
  {
   "cell_type": "code",
   "execution_count": 398,
   "metadata": {},
   "outputs": [],
   "source": [
    "#set X and y for 'future predictions'"
   ]
  },
  {
   "cell_type": "code",
   "execution_count": 399,
   "metadata": {},
   "outputs": [],
   "source": [
    "y = luna_df_4_clean[\"price\"]\n",
    "X = luna_df_4_clean.drop(columns=\"price\")"
   ]
  },
  {
   "cell_type": "code",
   "execution_count": 400,
   "metadata": {},
   "outputs": [],
   "source": [
    "copy_y_future_luna=y.copy()\n",
    "y_future_luna_df=pd.DataFrame(copy_y_future_luna)"
   ]
  },
  {
   "cell_type": "code",
   "execution_count": 401,
   "metadata": {},
   "outputs": [],
   "source": [
    "Luna_df_4_scaled = X_scaler.transform(X)"
   ]
  },
  {
   "cell_type": "code",
   "execution_count": 402,
   "metadata": {},
   "outputs": [],
   "source": [
    "model = model.fit(Luna_df_4_scaled, y)\n",
    "\n",
    "Luna_4_df_predictions=model.predict(Luna_df_4_scaled)"
   ]
  },
  {
   "cell_type": "code",
   "execution_count": 403,
   "metadata": {},
   "outputs": [
    {
     "data": {
      "text/plain": [
       "1.2927942202804768e-16"
      ]
     },
     "execution_count": 403,
     "metadata": {},
     "output_type": "execute_result"
    }
   ],
   "source": [
    "mean_squared_error(y, Luna_4_df_predictions)"
   ]
  },
  {
   "cell_type": "code",
   "execution_count": 404,
   "metadata": {},
   "outputs": [
    {
     "data": {
      "text/plain": [
       "0.9999933517480298"
      ]
     },
     "execution_count": 404,
     "metadata": {},
     "output_type": "execute_result"
    }
   ],
   "source": [
    "r2_score(y, Luna_4_df_predictions)"
   ]
  },
  {
   "cell_type": "code",
   "execution_count": 405,
   "metadata": {},
   "outputs": [
    {
     "data": {
      "text/html": [
       "<div>\n",
       "<style scoped>\n",
       "    .dataframe tbody tr th:only-of-type {\n",
       "        vertical-align: middle;\n",
       "    }\n",
       "\n",
       "    .dataframe tbody tr th {\n",
       "        vertical-align: top;\n",
       "    }\n",
       "\n",
       "    .dataframe thead th {\n",
       "        text-align: right;\n",
       "    }\n",
       "</style>\n",
       "<table border=\"1\" class=\"dataframe\">\n",
       "  <thead>\n",
       "    <tr style=\"text-align: right;\">\n",
       "      <th></th>\n",
       "      <th>prediction</th>\n",
       "    </tr>\n",
       "  </thead>\n",
       "  <tbody>\n",
       "    <tr>\n",
       "      <th>0</th>\n",
       "      <td>1.358543e-08</td>\n",
       "    </tr>\n",
       "    <tr>\n",
       "      <th>1</th>\n",
       "      <td>1.358543e-08</td>\n",
       "    </tr>\n",
       "    <tr>\n",
       "      <th>2</th>\n",
       "      <td>1.358543e-08</td>\n",
       "    </tr>\n",
       "    <tr>\n",
       "      <th>3</th>\n",
       "      <td>1.358543e-08</td>\n",
       "    </tr>\n",
       "    <tr>\n",
       "      <th>4</th>\n",
       "      <td>1.358543e-08</td>\n",
       "    </tr>\n",
       "    <tr>\n",
       "      <th>...</th>\n",
       "      <td>...</td>\n",
       "    </tr>\n",
       "    <tr>\n",
       "      <th>78</th>\n",
       "      <td>1.138729e-07</td>\n",
       "    </tr>\n",
       "    <tr>\n",
       "      <th>79</th>\n",
       "      <td>1.138729e-07</td>\n",
       "    </tr>\n",
       "    <tr>\n",
       "      <th>80</th>\n",
       "      <td>1.138729e-07</td>\n",
       "    </tr>\n",
       "    <tr>\n",
       "      <th>81</th>\n",
       "      <td>1.138729e-07</td>\n",
       "    </tr>\n",
       "    <tr>\n",
       "      <th>82</th>\n",
       "      <td>9.390909e-08</td>\n",
       "    </tr>\n",
       "  </tbody>\n",
       "</table>\n",
       "<p>83 rows × 1 columns</p>\n",
       "</div>"
      ],
      "text/plain": [
       "      prediction\n",
       "0   1.358543e-08\n",
       "1   1.358543e-08\n",
       "2   1.358543e-08\n",
       "3   1.358543e-08\n",
       "4   1.358543e-08\n",
       "..           ...\n",
       "78  1.138729e-07\n",
       "79  1.138729e-07\n",
       "80  1.138729e-07\n",
       "81  1.138729e-07\n",
       "82  9.390909e-08\n",
       "\n",
       "[83 rows x 1 columns]"
      ]
     },
     "execution_count": 405,
     "metadata": {},
     "output_type": "execute_result"
    }
   ],
   "source": [
    "Luna_4_df_predictions_df = pd.DataFrame(Luna_4_df_predictions, columns=[\"prediction\"])\n",
    "Luna_4_df_predictions_df"
   ]
  },
  {
   "cell_type": "code",
   "execution_count": 406,
   "metadata": {},
   "outputs": [
    {
     "data": {
      "text/plain": [
       "0     1.000000e-08\n",
       "1     1.000000e-08\n",
       "2     1.000000e-08\n",
       "3     1.000000e-08\n",
       "4     1.000000e-08\n",
       "          ...     \n",
       "78    1.100000e-07\n",
       "79    1.100000e-07\n",
       "80    1.100000e-07\n",
       "81    1.100000e-07\n",
       "82    1.100000e-07\n",
       "Name: price, Length: 83, dtype: float64"
      ]
     },
     "execution_count": 406,
     "metadata": {},
     "output_type": "execute_result"
    }
   ],
   "source": [
    "y=y.reset_index(drop=True)\n",
    "y"
   ]
  },
  {
   "cell_type": "code",
   "execution_count": 407,
   "metadata": {},
   "outputs": [],
   "source": [
    "future_frames = [Luna_4_df_predictions_df,y]\n",
    "future_model_performance=pd.concat(future_frames)"
   ]
  },
  {
   "cell_type": "code",
   "execution_count": 408,
   "metadata": {},
   "outputs": [
    {
     "data": {
      "text/html": [
       "<div>\n",
       "<style scoped>\n",
       "    .dataframe tbody tr th:only-of-type {\n",
       "        vertical-align: middle;\n",
       "    }\n",
       "\n",
       "    .dataframe tbody tr th {\n",
       "        vertical-align: top;\n",
       "    }\n",
       "\n",
       "    .dataframe thead th {\n",
       "        text-align: right;\n",
       "    }\n",
       "</style>\n",
       "<table border=\"1\" class=\"dataframe\">\n",
       "  <thead>\n",
       "    <tr style=\"text-align: right;\">\n",
       "      <th></th>\n",
       "      <th>price</th>\n",
       "    </tr>\n",
       "    <tr>\n",
       "      <th>date</th>\n",
       "      <th></th>\n",
       "    </tr>\n",
       "  </thead>\n",
       "  <tbody>\n",
       "    <tr>\n",
       "      <th>2022-06-01</th>\n",
       "      <td>1.000000e-08</td>\n",
       "    </tr>\n",
       "    <tr>\n",
       "      <th>2022-05-31</th>\n",
       "      <td>1.000000e-08</td>\n",
       "    </tr>\n",
       "    <tr>\n",
       "      <th>2022-05-30</th>\n",
       "      <td>1.000000e-08</td>\n",
       "    </tr>\n",
       "    <tr>\n",
       "      <th>2022-05-19</th>\n",
       "      <td>1.000000e-08</td>\n",
       "    </tr>\n",
       "    <tr>\n",
       "      <th>2022-05-18</th>\n",
       "      <td>1.000000e-08</td>\n",
       "    </tr>\n",
       "    <tr>\n",
       "      <th>...</th>\n",
       "      <td>...</td>\n",
       "    </tr>\n",
       "    <tr>\n",
       "      <th>2022-03-05</th>\n",
       "      <td>1.100000e-07</td>\n",
       "    </tr>\n",
       "    <tr>\n",
       "      <th>2022-03-04</th>\n",
       "      <td>1.100000e-07</td>\n",
       "    </tr>\n",
       "    <tr>\n",
       "      <th>2022-03-03</th>\n",
       "      <td>1.100000e-07</td>\n",
       "    </tr>\n",
       "    <tr>\n",
       "      <th>2022-03-02</th>\n",
       "      <td>1.100000e-07</td>\n",
       "    </tr>\n",
       "    <tr>\n",
       "      <th>2022-03-01</th>\n",
       "      <td>1.100000e-07</td>\n",
       "    </tr>\n",
       "  </tbody>\n",
       "</table>\n",
       "<p>83 rows × 1 columns</p>\n",
       "</div>"
      ],
      "text/plain": [
       "                   price\n",
       "date                    \n",
       "2022-06-01  1.000000e-08\n",
       "2022-05-31  1.000000e-08\n",
       "2022-05-30  1.000000e-08\n",
       "2022-05-19  1.000000e-08\n",
       "2022-05-18  1.000000e-08\n",
       "...                  ...\n",
       "2022-03-05  1.100000e-07\n",
       "2022-03-04  1.100000e-07\n",
       "2022-03-03  1.100000e-07\n",
       "2022-03-02  1.100000e-07\n",
       "2022-03-01  1.100000e-07\n",
       "\n",
       "[83 rows x 1 columns]"
      ]
     },
     "execution_count": 408,
     "metadata": {},
     "output_type": "execute_result"
    }
   ],
   "source": [
    "y_future_luna_df"
   ]
  },
  {
   "cell_type": "code",
   "execution_count": 410,
   "metadata": {},
   "outputs": [
    {
     "data": {
      "image/png": "[encoded data removed]",
      "text/plain": [
       "<Figure size 1440x720 with 1 Axes>"
      ]
     },
     "metadata": {
      "needs_background": "light"
     },
     "output_type": "display_data"
    }
   ],
   "source": [
    "predictions_actual_y_luna_future=y_future_luna_df\n",
    "predictions_actual_y_luna_future['predictions']=Luna_4_df_predictions_df['prediction'].values\n",
    "\n",
    "#plot future\n",
    "name = 'SKLearn Luna Future Actual Vs. Predicted'\n",
    "ax = predictions_actual_y_luna_future.plot(figsize=(20,10), title=name)\n",
    "ax.figure.savefig('luna_future_sklearn.png')"
   ]
  },
  {
   "cell_type": "code",
   "execution_count": null,
   "metadata": {},
   "outputs": [],
   "source": [
    "#BTC"
   ]
  },
  {
   "cell_type": "code",
   "execution_count": 411,
   "metadata": {},
   "outputs": [],
   "source": [
    "#set X and y for sklearn btc_model\n",
    "y = btc_df_all_clean[\"price\"]\n",
    "X = btc_df_all_clean.drop(columns=\"price\")"
   ]
  },
  {
   "cell_type": "code",
   "execution_count": 412,
   "metadata": {},
   "outputs": [
    {
     "data": {
      "text/plain": [
       "open    0\n",
       "high    0\n",
       "low     0\n",
       "vol     0\n",
       "dtype: int64"
      ]
     },
     "execution_count": 412,
     "metadata": {},
     "output_type": "execute_result"
    }
   ],
   "source": [
    "X.isnull().sum()"
   ]
  },
  {
   "cell_type": "code",
   "execution_count": 413,
   "metadata": {},
   "outputs": [
    {
     "data": {
      "text/plain": [
       "(229, 4)"
      ]
     },
     "execution_count": 413,
     "metadata": {},
     "output_type": "execute_result"
    }
   ],
   "source": [
    "#separate into test and train sets\n",
    "X_train, X_test, y_train, y_test = train_test_split(X, \n",
    "                                                    y, \n",
    "                                                    random_state=1, \n",
    "                                           \n",
    "                                                   )\n",
    "X_train.shape\n",
    "X_test.shape"
   ]
  },
  {
   "cell_type": "code",
   "execution_count": 414,
   "metadata": {},
   "outputs": [
    {
     "data": {
      "text/html": [
       "<div>\n",
       "<style scoped>\n",
       "    .dataframe tbody tr th:only-of-type {\n",
       "        vertical-align: middle;\n",
       "    }\n",
       "\n",
       "    .dataframe tbody tr th {\n",
       "        vertical-align: top;\n",
       "    }\n",
       "\n",
       "    .dataframe thead th {\n",
       "        text-align: right;\n",
       "    }\n",
       "</style>\n",
       "<table border=\"1\" class=\"dataframe\">\n",
       "  <thead>\n",
       "    <tr style=\"text-align: right;\">\n",
       "      <th></th>\n",
       "      <th>open</th>\n",
       "      <th>high</th>\n",
       "      <th>low</th>\n",
       "      <th>vol</th>\n",
       "    </tr>\n",
       "    <tr>\n",
       "      <th>date</th>\n",
       "      <th></th>\n",
       "      <th></th>\n",
       "      <th></th>\n",
       "      <th></th>\n",
       "    </tr>\n",
       "  </thead>\n",
       "  <tbody>\n",
       "    <tr>\n",
       "      <th>2022-02-27</th>\n",
       "      <td>39116.6</td>\n",
       "      <td>39838.5</td>\n",
       "      <td>37062.3</td>\n",
       "      <td>66140.0</td>\n",
       "    </tr>\n",
       "    <tr>\n",
       "      <th>2022-02-26</th>\n",
       "      <td>39221.6</td>\n",
       "      <td>40094.5</td>\n",
       "      <td>38639.1</td>\n",
       "      <td>41550.0</td>\n",
       "    </tr>\n",
       "    <tr>\n",
       "      <th>2022-02-23</th>\n",
       "      <td>38248.2</td>\n",
       "      <td>39194.5</td>\n",
       "      <td>37099.5</td>\n",
       "      <td>64840.0</td>\n",
       "    </tr>\n",
       "    <tr>\n",
       "      <th>2022-02-21</th>\n",
       "      <td>38355.0</td>\n",
       "      <td>39444.1</td>\n",
       "      <td>36868.9</td>\n",
       "      <td>91820.0</td>\n",
       "    </tr>\n",
       "    <tr>\n",
       "      <th>2022-02-16</th>\n",
       "      <td>44540.9</td>\n",
       "      <td>44552.9</td>\n",
       "      <td>43377.6</td>\n",
       "      <td>41400.0</td>\n",
       "    </tr>\n",
       "    <tr>\n",
       "      <th>...</th>\n",
       "      <td>...</td>\n",
       "      <td>...</td>\n",
       "      <td>...</td>\n",
       "      <td>...</td>\n",
       "    </tr>\n",
       "    <tr>\n",
       "      <th>2019-09-18</th>\n",
       "      <td>10195.7</td>\n",
       "      <td>10257.5</td>\n",
       "      <td>10119.3</td>\n",
       "      <td>318820.0</td>\n",
       "    </tr>\n",
       "    <tr>\n",
       "      <th>2019-09-16</th>\n",
       "      <td>10311.3</td>\n",
       "      <td>10360.5</td>\n",
       "      <td>10108.5</td>\n",
       "      <td>372530.0</td>\n",
       "    </tr>\n",
       "    <tr>\n",
       "      <th>2019-09-11</th>\n",
       "      <td>10104.9</td>\n",
       "      <td>10257.5</td>\n",
       "      <td>9908.9</td>\n",
       "      <td>413060.0</td>\n",
       "    </tr>\n",
       "    <tr>\n",
       "      <th>2019-09-09</th>\n",
       "      <td>10402.1</td>\n",
       "      <td>10478.0</td>\n",
       "      <td>10095.7</td>\n",
       "      <td>473760.0</td>\n",
       "    </tr>\n",
       "    <tr>\n",
       "      <th>2019-09-04</th>\n",
       "      <td>10611.6</td>\n",
       "      <td>10783.6</td>\n",
       "      <td>10388.6</td>\n",
       "      <td>504450.0</td>\n",
       "    </tr>\n",
       "  </tbody>\n",
       "</table>\n",
       "<p>229 rows × 4 columns</p>\n",
       "</div>"
      ],
      "text/plain": [
       "               open     high      low       vol\n",
       "date                                           \n",
       "2022-02-27  39116.6  39838.5  37062.3   66140.0\n",
       "2022-02-26  39221.6  40094.5  38639.1   41550.0\n",
       "2022-02-23  38248.2  39194.5  37099.5   64840.0\n",
       "2022-02-21  38355.0  39444.1  36868.9   91820.0\n",
       "2022-02-16  44540.9  44552.9  43377.6   41400.0\n",
       "...             ...      ...      ...       ...\n",
       "2019-09-18  10195.7  10257.5  10119.3  318820.0\n",
       "2019-09-16  10311.3  10360.5  10108.5  372530.0\n",
       "2019-09-11  10104.9  10257.5   9908.9  413060.0\n",
       "2019-09-09  10402.1  10478.0  10095.7  473760.0\n",
       "2019-09-04  10611.6  10783.6  10388.6  504450.0\n",
       "\n",
       "[229 rows x 4 columns]"
      ]
     },
     "execution_count": 414,
     "metadata": {},
     "output_type": "execute_result"
    }
   ],
   "source": [
    "X_train.sort_values(\"date\",ascending=False)\n",
    "X_test.sort_values(\"date\",ascending=False)\n"
   ]
  },
  {
   "cell_type": "code",
   "execution_count": 415,
   "metadata": {},
   "outputs": [],
   "source": [
    "copy_y_test_btc=y_test.copy()\n",
    "y_btc_test_df=pd.DataFrame(copy_y_test_btc)"
   ]
  },
  {
   "cell_type": "code",
   "execution_count": 416,
   "metadata": {},
   "outputs": [],
   "source": [
    "copy_y_train_btc=y_train.copy()\n",
    "y_btc_train_df=pd.DataFrame(copy_y_train_btc)"
   ]
  },
  {
   "cell_type": "code",
   "execution_count": 417,
   "metadata": {},
   "outputs": [],
   "source": [
    "#scale the data\n",
    "scaler = StandardScaler()\n",
    "X_scaler = scaler.fit(X_train)\n",
    "X_train_scaled = X_scaler.transform(X_train)\n",
    "X_test_scaled = X_scaler.transform(X_test)"
   ]
  },
  {
   "cell_type": "code",
   "execution_count": 418,
   "metadata": {},
   "outputs": [
    {
     "data": {
      "text/plain": [
       "array([[ 1.09842273e+00,  1.05989034e+00,  1.14293331e+00,\n",
       "        -3.31873220e-01],\n",
       "       [-1.12856779e+00, -1.09901284e+00, -1.12689261e+00,\n",
       "         1.15430577e+00],\n",
       "       [ 2.03333827e+00,  2.04137140e+00,  1.93449661e+00,\n",
       "        -2.93807073e-01],\n",
       "       [ 5.01639512e-01,  4.54057704e-01,  4.23711017e-01,\n",
       "        -3.00691290e-01],\n",
       "       [-1.02899873e+00, -9.80603073e-01, -1.01891594e+00,\n",
       "         1.11371487e+00],\n",
       "       [-1.00835757e+00, -1.01559075e+00, -1.00049107e+00,\n",
       "         1.21080638e-01],\n",
       "       [-9.00113009e-01, -8.86566458e-01, -8.86743594e-01,\n",
       "        -3.04571780e-01],\n",
       "       [ 2.17520831e-01,  1.92593358e-01,  2.28974348e-01,\n",
       "        -3.14695151e-01],\n",
       "       [-1.00635035e+00, -1.01185806e+00, -1.00279619e+00,\n",
       "        -2.69917619e-04],\n",
       "       [ 6.84461278e-01,  7.46641211e-01,  7.01934528e-01,\n",
       "        -2.81045294e-01],\n",
       "       [ 1.00834654e+00,  1.04181547e+00,  1.05640329e+00,\n",
       "        -3.11529061e-01],\n",
       "       [ 1.52207363e+00,  1.51186271e+00,  1.58788984e+00,\n",
       "        -3.25467976e-01],\n",
       "       [-9.57132293e-01, -9.61964777e-01, -9.45569460e-01,\n",
       "        -7.41534746e-02],\n",
       "       [-1.07797883e+00, -1.07579169e+00, -1.07807340e+00,\n",
       "         7.24042228e-01],\n",
       "       [ 1.53860726e+00,  1.50759175e+00,  1.44421331e+00,\n",
       "        -2.94359110e-01],\n",
       "       [-1.05684620e+00, -1.06262666e+00, -1.04722980e+00,\n",
       "         3.68301654e-02],\n",
       "       [ 1.29520186e+00,  1.23118155e+00,  8.71314944e-01,\n",
       "        -2.19647498e-01],\n",
       "       [-1.04120237e+00, -1.04811847e+00, -1.03565609e+00,\n",
       "         3.32175753e-02],\n",
       "       [ 1.51338261e+00,  1.54202103e+00,  1.58927504e+00,\n",
       "        -3.17723232e-01],\n",
       "       [ 5.48912441e-01,  5.42455039e-01,  5.51866796e-01,\n",
       "        -3.19273804e-01],\n",
       "       [ 1.41738308e+00,  1.40899240e+00,  1.44914444e+00,\n",
       "        -3.01316390e-01],\n",
       "       [ 7.63094295e-01,  7.34215681e-01,  8.02022469e-01,\n",
       "        -3.41160418e-01],\n",
       "       [-9.42186847e-01, -9.39784954e-01, -9.32113157e-01,\n",
       "         2.13100210e-01],\n",
       "       [-1.01924720e+00, -1.02866522e+00, -1.18915743e+00,\n",
       "         2.24214191e+00],\n",
       "       [-9.87762958e-01, -9.89723512e-01, -9.81076772e-01,\n",
       "         2.64593826e-01],\n",
       "       [-2.15384970e-01, -2.16790134e-01, -2.54869606e-01,\n",
       "        -2.46331956e-01],\n",
       "       [ 4.68370503e-01,  4.57302427e-01,  4.78584496e-01,\n",
       "        -3.07226425e-01],\n",
       "       [ 1.69034829e+00,  1.66218144e+00,  1.67570879e+00,\n",
       "        -3.00382799e-01],\n",
       "       [-4.81893994e-01, -4.91660973e-01, -4.87878655e-01,\n",
       "        -2.66603052e-01],\n",
       "       [-1.36085083e-02,  2.85713281e-02,  3.17453751e-02,\n",
       "        -2.42167330e-01],\n",
       "       [-9.55859680e-01, -9.66919898e-01, -9.58180733e-01,\n",
       "        -1.31453512e-02],\n",
       "       [ 1.44756885e+00,  1.43262606e+00,  1.42059525e+00,\n",
       "        -2.67585352e-01],\n",
       "       [-9.35880686e-01, -9.39815138e-01, -9.22299041e-01,\n",
       "        -1.23260346e-01],\n",
       "       [-1.04575481e+00, -9.91710591e-01, -1.03628719e+00,\n",
       "         5.86033167e-01],\n",
       "       [-8.21842117e-01, -8.27396788e-01, -8.05957639e-01,\n",
       "         3.32662843e-02],\n",
       "       [ 4.82389943e-01,  5.25758547e-01,  5.08037541e-01,\n",
       "        -2.84341275e-01],\n",
       "       [-7.33592075e-01, -7.41680751e-01, -7.29851441e-01,\n",
       "        -2.83610639e-01],\n",
       "       [ 5.99268611e-01,  5.87730250e-01,  6.34209103e-01,\n",
       "        -3.38181046e-01],\n",
       "       [ 1.45929137e+00,  1.43169037e+00,  1.48519193e+00,\n",
       "        -2.93596001e-01],\n",
       "       [-6.97969249e-01, -6.37447154e-01, -6.78229724e-01,\n",
       "        -1.87231605e-01],\n",
       "       [-7.55526548e-01, -7.63724749e-01, -7.48147949e-01,\n",
       "        -2.99278727e-01],\n",
       "       [ 4.07709269e-01,  4.03585904e-01,  4.53768420e-01,\n",
       "        -3.21417004e-01],\n",
       "       [-9.29646950e-01, -9.33018825e-01, -9.24721817e-01,\n",
       "         1.10031795e-01],\n",
       "       [-1.05267658e+00, -1.06230471e+00, -1.07098691e+00,\n",
       "         7.40278589e-01],\n",
       "       [ 1.17775931e+00,  1.14876558e+00,  1.21652581e+00,\n",
       "        -3.45657890e-01],\n",
       "       [ 5.93836725e-01,  5.74851968e-01,  5.49877231e-01,\n",
       "        -3.18218441e-01],\n",
       "       [-6.23857630e-01, -6.36717720e-01, -6.62965698e-01,\n",
       "        -2.41428575e-01],\n",
       "       [ 1.18517771e+00,  1.18255095e+00,  1.24561518e+00,\n",
       "        -3.26214848e-01],\n",
       "       [ 1.36969112e+00,  1.29304258e+00,  9.79425323e-01,\n",
       "        -1.16132584e-01],\n",
       "       [-1.10729549e+00, -1.11440138e+00, -1.11734591e+00,\n",
       "         3.71851221e-01],\n",
       "       [-9.48617165e-01, -9.58438341e-01, -9.45895706e-01,\n",
       "         6.36769870e-02],\n",
       "       [-8.38898240e-01, -8.46165878e-01, -8.29212014e-01,\n",
       "        -3.14402896e-01],\n",
       "       [-7.28253307e-01, -7.21684200e-01, -7.13421487e-01,\n",
       "        -2.88497784e-01],\n",
       "       [-9.69454915e-01, -9.76774802e-01, -9.66278048e-01,\n",
       "         2.65300108e-01],\n",
       "       [ 1.74444987e+00,  1.71531442e+00,  1.75911541e+00,\n",
       "        -3.03654426e-01],\n",
       "       [-1.08681469e+00, -1.06908090e+00, -1.08358749e+00,\n",
       "         8.78287650e-01],\n",
       "       [ 4.20709583e-01,  3.99727450e-01,  4.31316289e-01,\n",
       "        -2.86297757e-01],\n",
       "       [-9.13459929e-01, -9.25281795e-01, -9.11859174e-01,\n",
       "         7.80869489e-01],\n",
       "       [-9.37867204e-01, -9.50092611e-01, -9.39087330e-01,\n",
       "         1.42269088e-01],\n",
       "       [ 8.74447960e-01,  8.12013586e-01,  8.87637931e-01,\n",
       "        -3.38302818e-01],\n",
       "       [ 1.10483753e+00,  1.05322482e+00,  1.04716679e+00,\n",
       "        -3.12008033e-01],\n",
       "       [ 7.89472569e-01,  7.59881695e-01,  1.86161269e-01,\n",
       "         1.20942629e-01],\n",
       "       [ 1.09570161e+00,  1.10390790e+00,  1.16763708e+00,\n",
       "        -3.06796162e-01],\n",
       "       [-9.75393777e-01, -9.86574370e-01, -9.71524722e-01,\n",
       "         4.65232724e-02],\n",
       "       [ 8.89652068e-01,  1.01671791e+00,  9.23123851e-01,\n",
       "        -2.53573373e-01],\n",
       "       [ 9.58818084e-01,  9.51727858e-01,  1.00186676e+00,\n",
       "        -3.41931645e-01],\n",
       "       [-1.01404294e+00, -1.01882038e+00, -1.02324806e+00,\n",
       "         8.78287650e-01],\n",
       "       [ 4.33647818e-01,  4.22063221e-01,  3.79865717e-01,\n",
       "        -2.68957324e-01],\n",
       "       [-1.04920018e+00, -1.05697732e+00, -1.04766836e+00,\n",
       "         1.22890993e-01],\n",
       "       [-9.34499435e-01, -9.46495747e-01, -9.31824349e-01,\n",
       "         2.89175675e-01],\n",
       "       [-1.05409922e+00, -1.06046351e+00, -1.04898939e+00,\n",
       "         1.04300360e-01],\n",
       "       [-1.01809875e+00, -1.01229572e+00, -1.01036402e+00,\n",
       "         4.52893091e-02],\n",
       "       [ 4.01170313e-01,  6.09281251e-01,  4.52238808e-01,\n",
       "        -2.27708851e-01],\n",
       "       [ 1.35071056e+00,  1.35166392e+00,  1.43726588e+00,\n",
       "        -3.38862973e-01],\n",
       "       [ 6.47281311e-01,  6.51512962e-01,  4.47152582e-01,\n",
       "        -1.96737994e-01],\n",
       "       [ 5.54437445e-01,  5.55011364e-01,  5.39533634e-01,\n",
       "        -2.97370954e-01],\n",
       "       [ 9.72470224e-01,  9.60541432e-01,  1.00661069e+00,\n",
       "        -3.26783121e-01],\n",
       "       [-4.38004354e-01, -4.58926995e-01, -4.57371996e-01,\n",
       "        -2.89585620e-01],\n",
       "       [-9.25704952e-01, -9.36852127e-01, -9.15554844e-01,\n",
       "        -2.19860494e-02],\n",
       "       [-7.28237787e-01, -7.22257686e-01, -7.21288825e-01,\n",
       "        -2.84097730e-01],\n",
       "       [-9.53883508e-01, -9.65224592e-01, -9.48195472e-01,\n",
       "        -2.36096854e-02],\n",
       "       [-9.57220238e-01, -9.67407864e-01, -9.59068550e-01,\n",
       "         2.37479105e-01],\n",
       "       [-5.86879419e-01, -6.00512642e-01, -5.78018772e-01,\n",
       "        -2.79567786e-01],\n",
       "       [ 8.84018426e-01,  9.35735647e-01,  9.20214380e-01,\n",
       "        -3.08655225e-01],\n",
       "       [ 7.51790799e-01,  7.21759967e-01,  7.55470934e-01,\n",
       "        -3.23194885e-01],\n",
       "       [-9.39812337e-01, -9.52622992e-01, -9.36835699e-01,\n",
       "        -1.19217492e-01],\n",
       "       [ 9.61182248e-01,  9.81277479e-01,  1.03952408e+00,\n",
       "        -3.46550889e-01],\n",
       "       [-9.15963770e-01, -9.28637191e-01, -9.25898441e-01,\n",
       "         4.08959423e-01],\n",
       "       [-1.09912697e+00, -1.10160862e+00, -1.09290422e+00,\n",
       "         4.80496826e-01],\n",
       "       [-9.76687083e-01, -9.69093108e-01, -9.64267090e-01,\n",
       "         3.99932006e-01],\n",
       "       [-6.09021297e-02, -2.56795615e-03, -4.93507803e-02,\n",
       "        -1.84195406e-01],\n",
       "       [-9.68663411e-01, -9.77393563e-01, -9.60892318e-01,\n",
       "         1.37698553e-01],\n",
       "       [-9.36739441e-01, -9.32893061e-01, -9.40146292e-01,\n",
       "         4.72378646e-01],\n",
       "       [-9.83376063e-01, -9.74475827e-01, -9.71246611e-01,\n",
       "         5.29205906e-01],\n",
       "       [ 1.11593879e-01,  2.20503010e-01,  1.46455547e-01,\n",
       "        -2.75841541e-01],\n",
       "       [-5.12555697e-01, -5.06833199e-01, -4.94745862e-01,\n",
       "        -3.07681043e-01],\n",
       "       [ 1.21587563e+00,  1.14554601e+00,  1.17631735e+00,\n",
       "        -3.05140053e-01],\n",
       "       [ 1.10052823e+00,  1.15202539e+00,  1.08306988e+00,\n",
       "        -2.47095065e-01],\n",
       "       [ 9.27287279e-01,  8.95566473e-01,  9.11015317e-01,\n",
       "        -3.06097998e-01],\n",
       "       [ 5.64173454e-01,  5.24827890e-01,  4.27406687e-01,\n",
       "        -2.09889446e-01],\n",
       "       [ 1.03227270e+00,  1.08476655e+00,  1.08175420e+00,\n",
       "        -3.16659750e-01],\n",
       "       [-1.00134267e+00, -1.00797948e+00, -9.92575601e-01,\n",
       "         3.80722470e-02],\n",
       "       [-9.45601175e-01, -9.55817410e-01, -9.35546761e-01,\n",
       "        -9.91493511e-02],\n",
       "       [-9.80794624e-01, -9.92233771e-01, -9.87901193e-01,\n",
       "         2.14764437e-01],\n",
       "       [-1.04018842e+00, -1.04714757e+00, -1.03175719e+00,\n",
       "         8.03842016e-02],\n",
       "       [-9.46092632e-01, -9.53422854e-01, -9.34851483e-01,\n",
       "         2.41527726e-04],\n",
       "       [ 8.23222688e-01,  8.31979954e-01,  8.72261591e-01,\n",
       "        -3.11399170e-01],\n",
       "       [-9.48824094e-01, -9.59021888e-01, -9.40606245e-01,\n",
       "         1.57133476e-01],\n",
       "       [-9.57215065e-01, -9.68977404e-01, -9.54608074e-01,\n",
       "        -1.16920047e-01],\n",
       "       [-1.00657798e+00, -9.93813373e-01, -9.97897152e-01,\n",
       "         1.44753252e-01],\n",
       "       [ 1.82500216e+00,  1.74391326e+00,  1.81638492e+00,\n",
       "        -3.31394247e-01],\n",
       "       [-9.48063630e-01, -9.55143312e-01, -9.36926620e-01,\n",
       "         9.73430798e-02],\n",
       "       [ 7.35184747e-01,  6.95852485e-01,  6.90788687e-01,\n",
       "        -3.02501644e-01],\n",
       "       [-9.29522792e-01, -9.36671026e-01, -9.28652812e-01,\n",
       "         7.39383666e-02],\n",
       "       [-9.52233249e-01, -9.37606713e-01, -9.46644467e-01,\n",
       "         5.69796807e-01],\n",
       "       [ 1.57489743e+00,  1.58177770e+00,  1.63948481e+00,\n",
       "        -3.35761828e-01],\n",
       "       [ 1.23911893e+00,  1.39986693e+00,  1.28550809e+00,\n",
       "        -2.58720299e-01],\n",
       "       [ 2.04577422e-01,  2.12876653e-01,  1.83230405e-01,\n",
       "        -2.44724557e-01],\n",
       "       [-1.06344724e+00, -1.06827097e+00, -1.05613471e+00,\n",
       "         2.79732309e-02],\n",
       "       [-9.00826914e-01, -9.02035489e-01, -8.85770205e-01,\n",
       "        -3.00463981e-01],\n",
       "       [-9.12792583e-01, -9.22424426e-01, -9.04398307e-01,\n",
       "        -9.82807059e-02],\n",
       "       [ 1.55235252e+00,  1.56133846e+00,  1.57903841e+00,\n",
       "        -3.03735608e-01],\n",
       "       [-1.11048220e+00, -1.08425312e+00, -1.12489235e+00,\n",
       "         1.43032390e+00],\n",
       "       [-9.07660744e-01, -9.09209095e-01, -8.97242291e-01,\n",
       "         9.46732219e+00],\n",
       "       [-1.05802570e+00, -1.05718861e+00, -1.04975419e+00,\n",
       "         4.26868128e-01],\n",
       "       [ 4.23948022e-01,  3.86255559e-01,  3.92867416e-01,\n",
       "        -2.84990730e-01],\n",
       "       [-1.05252656e+00, -1.04179001e+00, -1.05186677e+00,\n",
       "         4.16972066e-01],\n",
       "       [ 1.13267465e+00,  1.07835759e+00,  1.11472642e+00,\n",
       "        -3.11626479e-01],\n",
       "       [-1.06932919e+00, -1.05684653e+00, -1.06414110e+00,\n",
       "         3.88185000e-01],\n",
       "       [-9.81710285e-01, -9.88485990e-01, -9.81082121e-01,\n",
       "         1.58781467e-01],\n",
       "       [-8.68799479e-01, -8.83553142e-01, -8.61788462e-01,\n",
       "        -3.26815594e-01],\n",
       "       [-9.69967064e-01, -9.82137399e-01, -1.00364122e+00,\n",
       "         5.29205906e-01],\n",
       "       [ 1.41254611e+00,  1.40961116e+00,  1.46114601e+00,\n",
       "        -2.87133929e-01],\n",
       "       [-7.60668734e-01, -7.67155604e-01, -7.43655383e-01,\n",
       "        -3.30347002e-01],\n",
       "       [-8.96326209e-01, -9.08062123e-01, -8.91690764e-01,\n",
       "        -6.94855211e-02],\n",
       "       [-4.27782062e-01, -4.52085408e-01, -4.21025002e-01,\n",
       "        -3.21595604e-01],\n",
       "       [ 8.41292762e-01,  8.04558268e-01,  8.32010344e-01,\n",
       "        -3.28544766e-01],\n",
       "       [-9.49377629e-01, -9.61637790e-01, -9.41125029e-01,\n",
       "        -8.45934542e-02],\n",
       "       [-9.15912038e-01, -8.57429345e-01, -9.03130761e-01,\n",
       "         3.66022368e-01],\n",
       "       [ 8.66584658e-01,  8.72496238e-01,  8.80412389e-01,\n",
       "        -2.99100127e-01],\n",
       "       [ 1.52781074e+00,  1.44830135e+00,  1.44192959e+00,\n",
       "        -2.64484207e-01],\n",
       "       [ 1.06376212e+00,  1.05996077e+00,  1.07916028e+00,\n",
       "        -3.17585223e-01],\n",
       "       [ 9.70437147e-01,  9.92641557e-01,  9.80008287e-01,\n",
       "        -2.14524927e-01],\n",
       "       [-4.70321490e-01, -4.95992302e-01, -4.73545231e-01,\n",
       "        -3.02655890e-01],\n",
       "       [-1.00823858e+00, -1.01749734e+00, -1.00282293e+00,\n",
       "        -7.89107282e-02],\n",
       "       [-1.01259444e+00, -1.01386023e+00, -1.01076514e+00,\n",
       "         8.38425463e-02],\n",
       "       [ 1.00804132e+00,  1.01328705e+00,  1.01150438e+00,\n",
       "        -3.24680512e-01],\n",
       "       [ 3.32309517e-01,  4.70522789e-01,  3.03299566e-01,\n",
       "        -2.01487129e-01],\n",
       "       [-9.91260058e-01, -1.00000602e+00, -9.80354753e-01,\n",
       "         1.05840892e-02],\n",
       "       [ 5.51623211e-01,  6.30248704e-01,  6.14752016e-01,\n",
       "        -2.45252238e-01],\n",
       "       [-1.07186407e+00, -1.08112410e+00, -1.07834616e+00,\n",
       "         6.42860428e-01],\n",
       "       [ 1.10323900e+00,  1.30340055e+00,  1.17849411e+00,\n",
       "        -2.66570579e-01],\n",
       "       [-9.07003745e-01, -9.13243619e-01, -9.02365955e-01,\n",
       "        -3.65825372e-02],\n",
       "       [-9.79832404e-01, -9.86881235e-01, -9.75589425e-01,\n",
       "         1.82916816e-01],\n",
       "       [-2.33310194e-01, -2.16528544e-01, -2.13072703e-01,\n",
       "        -2.63225889e-01],\n",
       "       [-5.85322278e-01, -6.07852257e-01, -5.91694355e-01,\n",
       "        -3.04011626e-01],\n",
       "       [-1.02920566e+00, -1.03748886e+00, -1.03266105e+00,\n",
       "         1.56256713e-01],\n",
       "       [-4.35469474e-01, -4.43432812e-01, -4.22367423e-01,\n",
       "        -2.90754638e-01],\n",
       "       [ 1.49205858e+00,  1.42632275e+00,  1.43744237e+00,\n",
       "        -2.90519210e-01],\n",
       "       [ 6.11104950e-01,  6.26350005e-01,  6.47296375e-01,\n",
       "        -2.51016146e-01],\n",
       "       [-9.28317431e-01, -9.41510443e-01, -9.29251821e-01,\n",
       "         1.51929723e-01],\n",
       "       [-7.94325734e-01, -8.06399151e-01, -7.98978118e-01,\n",
       "         1.20690966e-01],\n",
       "       [ 1.12644609e+00,  1.13197854e+00,  1.09409806e+00,\n",
       "        -2.99108245e-01],\n",
       "       [ 3.03836087e-01,  3.10349152e-01,  3.49717394e-01,\n",
       "        -3.42913945e-01],\n",
       "       [-8.63734892e-01, -8.74397488e-01, -8.53707193e-01,\n",
       "        -3.20377877e-01],\n",
       "       [-1.00205140e+00, -1.00694821e+00, -9.90505812e-01,\n",
       "        -2.76850118e-02],\n",
       "       [ 9.28885805e-01,  9.21861310e-01,  9.94084992e-01,\n",
       "        -3.10676652e-01],\n",
       "       [ 3.19531652e-01,  3.26909818e-01,  3.52043901e-01,\n",
       "        -3.26701939e-01],\n",
       "       [-8.90733953e-01, -8.97487846e-01, -8.78148888e-01,\n",
       "        -3.20345404e-01],\n",
       "       [ 6.73721663e-01,  7.83027390e-01,  7.38318960e-01,\n",
       "        -2.95617428e-01],\n",
       "       [ 8.82218144e-01,  8.85057594e-01,  9.33226775e-01,\n",
       "        -3.53759833e-01],\n",
       "       [ 6.47198539e-01,  6.07847535e-01,  6.08392897e-01,\n",
       "        -2.71636324e-01],\n",
       "       [-8.80791014e-01, -8.86777743e-01, -8.76710198e-01,\n",
       "         3.76095107e-02],\n",
       "       [-9.48689590e-01, -9.47879156e-01, -9.39787956e-01,\n",
       "         2.49299175e-01],\n",
       "       [-4.76425895e-01, -4.85679615e-01, -4.68774555e-01,\n",
       "        -2.68527061e-01],\n",
       "       [-9.89392523e-01, -9.90095775e-01, -9.91350842e-01,\n",
       "         1.93202550e-01],\n",
       "       [ 1.90165900e+00,  1.86618652e+00,  1.96963489e+00,\n",
       "        -3.44326508e-01],\n",
       "       [ 7.34160449e-01,  7.38431306e-01,  7.75858624e-01,\n",
       "        -3.21757967e-01],\n",
       "       [ 1.14159329e+00,  1.15944047e+00,  1.18160147e+00,\n",
       "        -2.75435632e-01],\n",
       "       [ 1.76948311e+00,  1.70950913e+00,  1.77695731e+00,\n",
       "        -3.31272475e-01],\n",
       "       [-9.22466514e-01, -9.30699728e-01, -9.22438096e-01,\n",
       "         8.37696750e-01],\n",
       "       [ 1.88800686e+00,  1.83589237e+00,  1.95749962e+00,\n",
       "        -3.47281526e-01],\n",
       "       [ 3.13028908e-01,  3.34566360e-01,  3.63724571e-01,\n",
       "        -3.04019744e-01],\n",
       "       [ 5.04174392e-01,  5.85707957e-01,  5.34356487e-01,\n",
       "        -2.31954659e-01],\n",
       "       [ 7.53632467e-01,  7.20064662e-01,  8.07547255e-01,\n",
       "        -3.50902234e-01],\n",
       "       [-8.26498020e-01, -8.40405865e-01, -8.16156833e-01,\n",
       "        -6.55887946e-02],\n",
       "       [-9.44426853e-01, -9.53090836e-01, -9.41183861e-01,\n",
       "         1.82859989e-01],\n",
       "       [-1.06126931e+00, -1.06667628e+00, -1.07017932e+00,\n",
       "         6.50978608e-01],\n",
       "       [-9.51798699e-01, -9.60918417e-01, -9.43922186e-01,\n",
       "        -3.21906017e-02],\n",
       "       [-8.64164270e-01, -8.66982414e-01, -8.49856422e-01,\n",
       "        -3.29997920e-01],\n",
       "       [-9.37696488e-01, -9.47974737e-01, -9.59876142e-01,\n",
       "         7.72751309e-01],\n",
       "       [ 9.97963876e-01,  1.00624424e+00,  9.34200164e-01,\n",
       "        -2.18145635e-01],\n",
       "       [-9.00247513e-01, -9.07463484e-01, -8.90797599e-01,\n",
       "         2.22752726e-01],\n",
       "       [ 8.76724179e-01,  8.48797180e-01,  8.84257811e-01,\n",
       "        -2.86468239e-01],\n",
       "       [ 3.05460480e-01,  2.77413951e-01,  3.18419188e-01,\n",
       "        -3.07835289e-01],\n",
       "       [-1.07577503e+00, -1.07020272e+00, -1.06747309e+00,\n",
       "         3.70235704e-01],\n",
       "       [ 1.95948014e+00,  1.90658207e+00,  1.96060697e+00,\n",
       "        -3.28455466e-01],\n",
       "       [ 7.12577755e-01,  7.14515934e-01,  7.69905974e-01,\n",
       "        -3.46583362e-01],\n",
       "       [ 1.09988675e+00,  1.06290869e+00,  1.15890866e+00,\n",
       "        -3.38716846e-01],\n",
       "       [ 1.27739562e+00,  1.24577526e+00,  1.26542525e+00,\n",
       "        -2.55537972e-01],\n",
       "       [-1.03967110e+00, -1.04293698e+00, -1.03010457e+00,\n",
       "         3.76251275e-01],\n",
       "       [-1.18065182e+00, -1.13072561e+00, -1.22537072e+00,\n",
       "         3.01336901e+00],\n",
       "       [-8.91628920e-01, -9.02151192e-01, -8.92375346e-01,\n",
       "         1.26948160e-02],\n",
       "       [-1.10872330e+00, -1.10537149e+00, -1.11746892e+00,\n",
       "         9.59469451e-01],\n",
       "       [-1.05374744e+00, -1.04982887e+00, -1.04987186e+00,\n",
       "         1.35807017e-01],\n",
       "       [-9.47706678e-01, -9.47376098e-01, -9.38515063e-01,\n",
       "         5.21087726e-01],\n",
       "       [-9.02306457e-01, -9.13243619e-01, -8.91113149e-01,\n",
       "        -1.13088266e-01],\n",
       "       [ 1.72137212e+00,  1.80321373e+00,  1.81149659e+00,\n",
       "        -3.18932841e-01],\n",
       "       [-9.46853096e-01, -9.47184936e-01, -9.37974885e-01,\n",
       "         1.97488949e-01],\n",
       "       [-8.63279648e-01, -8.73914552e-01, -8.57103358e-01,\n",
       "        -3.09223497e-01],\n",
       "       [ 1.03427474e+00,  9.85281820e-01,  1.00242298e+00,\n",
       "        -3.17114368e-01],\n",
       "       [-1.05598745e+00, -1.05627304e+00, -1.04845991e+00,\n",
       "         2.73556297e-01],\n",
       "       [-8.72265540e-01, -8.78577899e-01, -8.60847163e-01,\n",
       "        -3.13225760e-01],\n",
       "       [-1.05746699e+00, -1.06717431e+00, -1.05101104e+00,\n",
       "         8.61948958e-03],\n",
       "       [-8.27372295e-01, -8.23276744e-01, -8.14883939e-01,\n",
       "         9.95025157e-02],\n",
       "       [-8.39322444e-01, -8.53621196e-01, -8.96985573e-01,\n",
       "         7.46213171e+00],\n",
       "       [-1.00115126e+00, -1.00235027e+00, -9.94410065e-01,\n",
       "         6.15581420e-02],\n",
       "       [ 1.92884947e+00,  1.86996448e+00,  1.99710372e+00,\n",
       "        -3.31020811e-01],\n",
       "       [ 1.74195638e+00,  1.71134026e+00,  1.75593853e+00,\n",
       "        -3.22220704e-01],\n",
       "       [-6.23045433e-01, -6.26616317e-01, -6.18125616e-01,\n",
       "        -2.20808398e-01],\n",
       "       [-9.00568253e-01, -9.04284158e-01, -8.85230027e-01,\n",
       "         2.80180732e-01],\n",
       "       [ 7.61899281e-01,  7.11658565e-01,  7.69082337e-01,\n",
       "        -3.28260630e-01],\n",
       "       [-8.43461024e-01, -8.33247351e-01, -8.31918250e-01,\n",
       "         1.24490274e-01],\n",
       "       [-8.77733639e-01, -8.78477287e-01, -8.68099447e-01,\n",
       "        -3.07145243e-01],\n",
       "       [ 1.15265365e+00,  1.18051859e+00,  1.21467531e+00,\n",
       "        -3.25394912e-01],\n",
       "       [-7.58646003e-01, -7.73997191e-01, -7.51009285e-01,\n",
       "        -3.11886260e-01],\n",
       "       [ 1.10837601e+00,  1.05028696e+00,  1.15777482e+00,\n",
       "        -3.42094009e-01],\n",
       "       [-9.29884918e-01, -9.42682568e-01, -9.36546891e-01,\n",
       "         3.89548854e-01],\n",
       "       [-8.21531724e-01, -8.30525808e-01, -8.25163357e-01,\n",
       "         4.77978267e-02]])"
      ]
     },
     "execution_count": 418,
     "metadata": {},
     "output_type": "execute_result"
    }
   ],
   "source": [
    "X_test_scaled"
   ]
  },
  {
   "cell_type": "code",
   "execution_count": 419,
   "metadata": {},
   "outputs": [
    {
     "data": {
      "text/html": [
       "<div>\n",
       "<style scoped>\n",
       "    .dataframe tbody tr th:only-of-type {\n",
       "        vertical-align: middle;\n",
       "    }\n",
       "\n",
       "    .dataframe tbody tr th {\n",
       "        vertical-align: top;\n",
       "    }\n",
       "\n",
       "    .dataframe thead th {\n",
       "        text-align: right;\n",
       "    }\n",
       "</style>\n",
       "<table border=\"1\" class=\"dataframe\">\n",
       "  <thead>\n",
       "    <tr style=\"text-align: right;\">\n",
       "      <th></th>\n",
       "      <th>open</th>\n",
       "      <th>high</th>\n",
       "      <th>low</th>\n",
       "      <th>vol</th>\n",
       "    </tr>\n",
       "    <tr>\n",
       "      <th>date</th>\n",
       "      <th></th>\n",
       "      <th></th>\n",
       "      <th></th>\n",
       "      <th></th>\n",
       "    </tr>\n",
       "  </thead>\n",
       "  <tbody>\n",
       "    <tr>\n",
       "      <th>2019-09-04</th>\n",
       "      <td>10611.6</td>\n",
       "      <td>10783.6</td>\n",
       "      <td>10388.6</td>\n",
       "      <td>504450.0</td>\n",
       "    </tr>\n",
       "    <tr>\n",
       "      <th>2019-09-09</th>\n",
       "      <td>10402.1</td>\n",
       "      <td>10478.0</td>\n",
       "      <td>10095.7</td>\n",
       "      <td>473760.0</td>\n",
       "    </tr>\n",
       "    <tr>\n",
       "      <th>2019-09-11</th>\n",
       "      <td>10104.9</td>\n",
       "      <td>10257.5</td>\n",
       "      <td>9908.9</td>\n",
       "      <td>413060.0</td>\n",
       "    </tr>\n",
       "    <tr>\n",
       "      <th>2019-09-16</th>\n",
       "      <td>10311.3</td>\n",
       "      <td>10360.5</td>\n",
       "      <td>10108.5</td>\n",
       "      <td>372530.0</td>\n",
       "    </tr>\n",
       "    <tr>\n",
       "      <th>2019-09-18</th>\n",
       "      <td>10195.7</td>\n",
       "      <td>10257.5</td>\n",
       "      <td>10119.3</td>\n",
       "      <td>318820.0</td>\n",
       "    </tr>\n",
       "    <tr>\n",
       "      <th>...</th>\n",
       "      <td>...</td>\n",
       "      <td>...</td>\n",
       "      <td>...</td>\n",
       "      <td>...</td>\n",
       "    </tr>\n",
       "    <tr>\n",
       "      <th>2022-02-16</th>\n",
       "      <td>44540.9</td>\n",
       "      <td>44552.9</td>\n",
       "      <td>43377.6</td>\n",
       "      <td>41400.0</td>\n",
       "    </tr>\n",
       "    <tr>\n",
       "      <th>2022-02-21</th>\n",
       "      <td>38355.0</td>\n",
       "      <td>39444.1</td>\n",
       "      <td>36868.9</td>\n",
       "      <td>91820.0</td>\n",
       "    </tr>\n",
       "    <tr>\n",
       "      <th>2022-02-23</th>\n",
       "      <td>38248.2</td>\n",
       "      <td>39194.5</td>\n",
       "      <td>37099.5</td>\n",
       "      <td>64840.0</td>\n",
       "    </tr>\n",
       "    <tr>\n",
       "      <th>2022-02-26</th>\n",
       "      <td>39221.6</td>\n",
       "      <td>40094.5</td>\n",
       "      <td>38639.1</td>\n",
       "      <td>41550.0</td>\n",
       "    </tr>\n",
       "    <tr>\n",
       "      <th>2022-02-27</th>\n",
       "      <td>39116.6</td>\n",
       "      <td>39838.5</td>\n",
       "      <td>37062.3</td>\n",
       "      <td>66140.0</td>\n",
       "    </tr>\n",
       "  </tbody>\n",
       "</table>\n",
       "<p>229 rows × 4 columns</p>\n",
       "</div>"
      ],
      "text/plain": [
       "               open     high      low       vol\n",
       "date                                           \n",
       "2019-09-04  10611.6  10783.6  10388.6  504450.0\n",
       "2019-09-09  10402.1  10478.0  10095.7  473760.0\n",
       "2019-09-11  10104.9  10257.5   9908.9  413060.0\n",
       "2019-09-16  10311.3  10360.5  10108.5  372530.0\n",
       "2019-09-18  10195.7  10257.5  10119.3  318820.0\n",
       "...             ...      ...      ...       ...\n",
       "2022-02-16  44540.9  44552.9  43377.6   41400.0\n",
       "2022-02-21  38355.0  39444.1  36868.9   91820.0\n",
       "2022-02-23  38248.2  39194.5  37099.5   64840.0\n",
       "2022-02-26  39221.6  40094.5  38639.1   41550.0\n",
       "2022-02-27  39116.6  39838.5  37062.3   66140.0\n",
       "\n",
       "[229 rows x 4 columns]"
      ]
     },
     "execution_count": 419,
     "metadata": {},
     "output_type": "execute_result"
    }
   ],
   "source": [
    "X_test.sort_values(\"date\",ascending=True)"
   ]
  },
  {
   "cell_type": "code",
   "execution_count": 420,
   "metadata": {},
   "outputs": [
    {
     "data": {
      "text/plain": [
       "array([[ 0.27827001,  0.26039047,  0.0761362 , -0.1646793 ],\n",
       "       [-0.85522494, -0.8676213 , -0.85141278,  0.03492239],\n",
       "       [ 1.54162325,  1.46236181,  1.15377965, -0.17305726],\n",
       "       ...,\n",
       "       [-0.88305689, -0.8944695 , -0.87236204, -0.04548818],\n",
       "       [ 0.27049465,  0.28512583,  0.29875887, -0.31740662],\n",
       "       [ 0.38464703,  0.40756006,  0.42113849, -0.31473574]])"
      ]
     },
     "execution_count": 420,
     "metadata": {},
     "output_type": "execute_result"
    }
   ],
   "source": [
    "X_train_scaled"
   ]
  },
  {
   "cell_type": "code",
   "execution_count": 421,
   "metadata": {},
   "outputs": [
    {
     "data": {
      "text/plain": [
       "array([30446.4112195 , 10980.03899148, 51646.77262849, 55514.06298395,\n",
       "       47274.84840159, 36407.54628658,  9257.89005887,  9145.86249768,\n",
       "       42442.28696454,  7545.70347214,  7622.88616775,  9684.67993065,\n",
       "       60242.53982372, 35040.42373718,  8807.02824671,  8669.20275159,\n",
       "       61319.15895117, 10630.62358576, 59523.9615665 , 36281.40991718,\n",
       "        7480.41260003, 46345.85001892, 10266.07267019,  9073.19178536,\n",
       "       48384.27806819, 62809.5243214 ,  9763.07387671,  9912.40911446,\n",
       "        6865.83508618,  8754.3278309 , 42729.51521803,  8331.73622862,\n",
       "       29959.2160626 ,  8760.40687304, 44360.67791265, 18039.3925541 ,\n",
       "       50515.0195627 ,  7459.5167762 , 56866.08865038, 58103.24269967,\n",
       "       10734.84200132, 10865.17400062, 23369.74671782,  9139.98232237,\n",
       "       36107.46979026, 38694.1449005 , 41310.72952722,  8024.2629371 ,\n",
       "       11440.73335339, 36156.38351382,  9648.03481109,  8129.70677607,\n",
       "        9434.51483537, 34198.60454268, 10095.82619745, 33842.5417792 ,\n",
       "       13049.57827467, 58103.46702674, 62739.8931532 ,  9980.59054112,\n",
       "       48058.72514504, 10185.73394995,  9162.33405519, 65970.50133998,\n",
       "        6111.83215063, 57493.77285166, 47086.58271417, 47553.32739997,\n",
       "       34580.89608558, 10682.896304  ,  7351.83158467, 42453.68519956,\n",
       "       56241.68385073, 13046.93403678, 56731.39262968, 50547.55017252,\n",
       "       53398.13391716, 56243.71089033,  7182.52242465, 61755.10459682,\n",
       "       54484.66074509,  8831.69114209, 23258.58002743,  8891.21128914,\n",
       "       56749.28467131,  9180.57528285, 11461.21320745, 44278.7705077 ,\n",
       "       48611.96143027,  9568.18860547,  6472.57652857, 54438.98171516,\n",
       "       36687.10418054, 45467.42851458, 11338.49981366, 58250.49797275,\n",
       "        7110.12154319, 11392.89122606, 43223.8548087 , 51805.79924402,\n",
       "        8125.26116515, 11337.62644668,  7327.33604292, 40091.27227811,\n",
       "       40873.75758006, 10186.00296308,  9702.23329231, 51302.36770134,\n",
       "       56700.46231681, 37266.48857149,  7688.21257212, 11439.09708651,\n",
       "        7777.75106602,  7070.73752547, 10314.81761015,  9307.29244313,\n",
       "       46709.78724477, 56126.86124925, 32012.30464942, 56987.86075153,\n",
       "       38178.21260089,  7535.86861241, 45222.57494699,  9157.35632292,\n",
       "       40698.78046095, 47536.995794  ,  8551.41259374, 61760.30042359,\n",
       "       44474.67246302, 55548.9987971 , 33279.81198586, 10955.33044894,\n",
       "       18947.80054712, 10967.89188203,  9922.37848464, 57157.42656007,\n",
       "       46985.0969694 , 45425.06971189,  9863.30732773, 48704.09057416,\n",
       "       57642.78784747,  8150.46160097,  9321.18170292,  7520.4971035 ,\n",
       "       59313.41135336,  7607.37616537,  9694.09566613, 37698.91259404,\n",
       "       42966.23461399, 10293.96649056, 27159.94208316, 10618.8639676 ,\n",
       "       54422.30361121, 33191.89742185,  8059.76549142,  7076.79258091,\n",
       "       11483.52281177, 41453.59605315, 50974.33788142, 32137.1793489 ,\n",
       "       47316.22968528, 37490.45728856, 48872.27851175, 31626.81698314,\n",
       "       60410.18785688, 48433.42768138, 40495.42998813, 60612.06224919,\n",
       "       38687.95329808,  9297.43637488,  9893.9615401 ,  7225.25656271,\n",
       "       50079.22332915, 37429.44273841, 26411.2919871 , 34283.52302407,\n",
       "       47891.85438949, 52963.38150568,  7950.77126844, 37223.65918148,\n",
       "       46890.39852309,  5758.05336956, 35574.91081229,  7729.94151392,\n",
       "       11293.28938667, 38420.88718746, 16101.59236127, 61147.8969365 ,\n",
       "       11346.90516439, 49516.36438763, 35125.8227166 , 51013.60477198,\n",
       "        8051.61319966, 58633.9266049 , 13883.04446911,  7126.65157164,\n",
       "       44228.7295095 , 51241.99641335, 61440.3474687 , 37705.88166173,\n",
       "       39211.31862159, 36248.43356425, 17826.1587211 , 32211.11263837,\n",
       "        9100.06072688, 58339.82592164, 38124.88462434,  9717.2540562 ,\n",
       "       57088.87540972,  9268.35098152,  6904.18155546, 32724.48352061,\n",
       "       26539.36901309,  9405.4747277 ,  9134.1755893 , 11788.7100232 ,\n",
       "       13446.79760887, 19225.88666427,  9156.87256139, 32295.35724915,\n",
       "        8525.05669718,  7078.44741758,  8247.96719599, 31865.76350882,\n",
       "        9550.72609571, 18924.35948688, 60072.57633402,  9268.91552317,\n",
       "        8917.11761648, 41629.48433051, 48437.63674128,  8270.09892284,\n",
       "        9513.76705863, 23427.78953937,  7066.94228465, 56017.9151964 ,\n",
       "       40464.51428585, 10723.62910944, 59579.47171878, 42120.68655648,\n",
       "       37051.22185945,  8764.45891823, 57694.28871801, 47222.38529691,\n",
       "       32914.85679402,  8352.37837381, 57606.59282832, 10618.1092574 ,\n",
       "       47368.54383366, 49348.49017893,  7062.73832597, 23691.65897152,\n",
       "        9871.9731911 , 41888.31027464,  7720.68614099, 63587.84995182,\n",
       "       11351.52715428, 37815.30715309, 16948.77625097,  6768.15016248,\n",
       "        9747.98316078,  9197.09518626, 34152.21947574,  9143.10555533,\n",
       "        6728.85388071, 10375.14357814, 48825.98925382, 33665.20169299,\n",
       "       11719.15727995,  9358.13716456,  6548.53032363, 23329.07808385,\n",
       "       10366.27927286,  7226.12772507, 37658.60103421, 10213.77547226,\n",
       "        9412.50564534, 11386.87227154, 11408.69580296, 17822.31844679,\n",
       "       33864.99653241, 42080.77094144,  9787.43311599, 37469.16811997,\n",
       "        7450.46820521, 51952.24556897, 11707.53000912, 10030.89962961,\n",
       "       11250.15447198, 56410.21508072, 60078.32576921, 46956.66766472,\n",
       "       45440.62493458, 54720.73271822,  9300.58326231,  8772.04511005,\n",
       "       10786.206793  ,  6670.84252964, 13386.92904049, 34554.72061837,\n",
       "       34307.77031075, 33459.38162891, 19158.46837832, 56986.78255646,\n",
       "        7327.87948419, 10152.76935823, 10614.68317165, 11763.59691945,\n",
       "       38563.78691603, 47915.17957837,  8715.54408192,  8189.69847588,\n",
       "       30945.1419199 , 42769.29739639, 46693.347312  , 49055.36712663,\n",
       "       11742.55670482, 33047.2769198 , 10061.1670276 , 56766.59764414,\n",
       "        6495.13907235, 11644.12741491, 56096.33793607, 41396.29960224,\n",
       "       57395.78667961, 28624.8359833 ,  7205.39965819, 60670.03561481,\n",
       "       42463.97379449, 10141.41300505, 67357.55958667, 35149.6012224 ,\n",
       "       60277.89867968, 49647.49999562, 49053.04304093, 19339.90415989,\n",
       "       11562.56045423, 57691.20707289,  9793.89764217, 33230.31619562,\n",
       "        7168.29568568,  7991.40572971, 37167.82315511,  8253.77452143,\n",
       "       48281.89659229,  7518.87796584,  8739.4562851 ,  8035.72441905,\n",
       "       49758.15762803,  9661.82621776, 56336.28078209, 48722.94795545,\n",
       "        9143.08880922,  8923.7898895 ,  7381.81403287,  9132.2932955 ,\n",
       "       63024.24127769,  8545.61987155, 43082.55049641,  9269.96197885,\n",
       "       10099.01224014, 54642.42425064,  9529.98279093, 36622.69210856,\n",
       "       45623.75522209, 39773.79101998,  5210.37023315, 17288.01107461,\n",
       "        7015.91913595, 32538.5266768 , 55308.02907197, 51541.39088679,\n",
       "       10274.75617726,  7234.50853044, 22860.88470447,  8992.4613568 ,\n",
       "       47649.86703521,  9722.31940164, 11542.0278522 ,  9324.86574045,\n",
       "       36841.02743771, 54915.61185504, 10592.03232938,  7878.22561785,\n",
       "       10329.13114471,  8237.64784197, 39590.26540493, 21178.8139823 ,\n",
       "       63855.60573076, 49176.65771809, 45660.10666548, 10640.90677225,\n",
       "       36914.89369031, 36499.78719355,  9226.56030666, 62295.26629501,\n",
       "       57829.61518943, 42223.56007237,  9197.61545459, 35371.35851168,\n",
       "        8095.63815788, 55073.85245705, 36245.61410343, 47721.63720996,\n",
       "        9683.03275347, 57314.86636779,  7213.49314642, 35695.75106484,\n",
       "       32200.16063146, 58309.30634147, 17584.13196713, 18703.55282558,\n",
       "       47242.91832713, 47899.1554014 , 53939.90984647, 44224.87608418,\n",
       "       11337.89342825, 48542.00225677, 59988.96285638,  8915.94872881,\n",
       "        7427.85527962, 11343.39784414, 50017.6212011 ,  8944.21648481,\n",
       "        7405.50391286,  8706.57649249, 31980.04411776,  6165.29402759,\n",
       "       58969.05555287, 48387.74787556, 18788.44142094,  7956.82062415,\n",
       "       41532.5579785 , 37242.74185643,  8206.37522321, 10338.8168349 ,\n",
       "       33969.20356227, 11457.47636798, 15831.17976207, 38901.69612714,\n",
       "       42969.28672082, 67054.86331328, 41316.79541147, 39500.03051431,\n",
       "        9314.20735269, 44941.34223148,  9158.63757661,  8039.83411278,\n",
       "        9250.07567554, 10690.59232158, 37137.0734931 ,  9115.6192065 ,\n",
       "       63571.79459313, 61059.50672329, 58011.86069736, 32162.38331003,\n",
       "       38725.1751849 , 44608.73140037, 44684.49289038,  8760.53457051,\n",
       "        7214.08738629,  7767.90178708, 43757.22573316,  7256.04540663,\n",
       "       10010.90177974,  9501.77226597, 11411.06123316, 15330.07908082,\n",
       "       11638.27640017, 48417.19340167, 34589.87249639, 45355.44246599,\n",
       "        7229.19143425, 63016.8857189 , 18967.07530877,  8119.69769618,\n",
       "       33584.90352657,  9787.02095663, 11620.96178508, 19061.10498289,\n",
       "       29299.50330287,  7190.50102247, 56557.71983748,  6979.24156206,\n",
       "        6856.00104748, 34839.43675139,  7484.08937226, 57433.78766335,\n",
       "       44368.93449473, 32829.81815534, 60535.50843139, 46813.43775911,\n",
       "       19156.46471799, 61826.54627616, 10291.98673722,  6893.6750697 ,\n",
       "        5307.21930421,  8981.15276187,  9460.83405916, 41088.06508761,\n",
       "        8104.70084863,  9429.98037122,  9023.05214861, 11567.34533202,\n",
       "        9551.72164645, 32630.8308037 , 34700.85014976,  8882.90330295,\n",
       "       11893.04132555, 55015.22837074, 47492.2415726 ,  8130.34550951,\n",
       "        7348.98284703,  7275.22880888,  9111.70988779,  9403.66903391,\n",
       "       13737.61139103, 38790.77039252,  9728.6922177 , 43998.45100449,\n",
       "       45822.67415937, 32135.43383821,  9215.47619186, 11432.10697143,\n",
       "       51933.27979772, 57539.53929334,  6735.79598562, 46178.75200462,\n",
       "       16691.59959833, 10653.6124706 ,  7269.45617196, 32380.94971436,\n",
       "        9395.5497817 ,  8645.54342036, 13153.90284582, 61958.81983287,\n",
       "       55486.89491586,  8746.08375637, 13333.14676319, 11745.13058097,\n",
       "        9077.97700317, 48827.51099714, 55320.1336849 , 39992.95617414,\n",
       "        8744.4248616 , 15261.76087277,  5339.6402993 , 43609.12965731,\n",
       "        9307.10793075, 40015.28924672, 36401.04790739, 58835.63606841,\n",
       "       38634.72948056, 10335.21793686,  9809.39878521, 11613.24562801,\n",
       "        8698.19773093, 11648.24252868,  8250.38538405, 10853.7611671 ,\n",
       "        9148.58211841, 58157.2636698 , 48304.09350166,  6214.27194048,\n",
       "       48020.43074682, 36993.13841696, 10505.7484465 , 48480.4810723 ,\n",
       "        9216.22435272, 10527.4744594 ,  7420.31127125, 17590.2451739 ,\n",
       "       11723.84959183,  8929.70916854, 19004.75991194, 32902.0232251 ,\n",
       "        8617.37897489, 49784.79316057, 63034.44053915,  6772.16760642,\n",
       "       47488.80042862,  8249.67458201, 58424.51826963, 50029.02779352,\n",
       "        9575.05690032, 58597.58069717, 33540.61157731,  7478.73252496,\n",
       "       46821.83530029, 10101.43969033,  9448.15634124,  7755.86644908,\n",
       "        8107.52103729, 39586.15154142, 43738.55542376,  9149.67466908,\n",
       "       47563.17224136,  9186.45770996,  9977.8053929 , 43353.59076599,\n",
       "       55743.12080438, 47142.35621318, 40039.6706839 , 61027.36049083,\n",
       "        6717.0855412 ,  8807.37564449, 43666.09886524,  9628.61271257,\n",
       "        8994.1372668 , 34179.64647105, 15918.58311892,  9611.71314776,\n",
       "       47162.41281189, 40969.81212329, 45923.31537481, 51473.81819844,\n",
       "       42258.39040194, 18627.32739277, 58790.46208697,  9351.07894442,\n",
       "       58610.89250168,  7282.84396588, 36743.96413525,  9378.79924902,\n",
       "       42048.16416516, 11931.35481962,  7313.86226942, 10491.83034577,\n",
       "        8536.96304721, 12277.13458241, 18958.40134096, 38346.02969547,\n",
       "       46517.44903902, 10108.05203373, 19615.05180722,  9652.61940765,\n",
       "       24416.70565086,  9481.93089216,  9767.25397683,  8745.68181137,\n",
       "       37139.3707    , 39239.99069158, 55952.30052442, 10640.74446948,\n",
       "       53036.72179086, 10406.68566169,  7215.89632744, 61245.71420275,\n",
       "       37747.09293771, 33920.70170743, 57134.88132953, 48565.17023739,\n",
       "        8002.71131715, 15460.97040366, 11421.07579255,  9819.84621909,\n",
       "       39989.010147  , 11184.55580699, 11786.7470854 , 30437.87303074,\n",
       "        8920.71892552, 13671.1729444 , 31288.24041159, 18083.05893235,\n",
       "       54156.99078391, 34584.66476115, 35703.99519966, 49929.90803522,\n",
       "       39078.01031014, 37669.90365676, 11006.90184418, 10168.31758679,\n",
       "       10001.19150392, 60767.76774059, 55452.82091016,  9302.2848602 ,\n",
       "        8880.96789834,  4815.17504875, 10422.27266901,  8395.65654621,\n",
       "       47674.13967798, 10538.7719656 , 33522.78322596, 35974.29872434])"
      ]
     },
     "execution_count": 421,
     "metadata": {},
     "output_type": "execute_result"
    }
   ],
   "source": [
    "#set up btc_model to run linear regression\n",
    "from sklearn.linear_model import LinearRegression\n",
    "\n",
    "btc_model = LinearRegression()\n",
    "btc_model = model.fit(X_train_scaled, y_train)\n",
    "btc_model.predict(X_train_scaled)\n"
   ]
  },
  {
   "cell_type": "code",
   "execution_count": 422,
   "metadata": {},
   "outputs": [],
   "source": [
    "#predict X_train values\n",
    "btc_training_predictions = btc_model.predict(X_train_scaled)"
   ]
  },
  {
   "cell_type": "code",
   "execution_count": 423,
   "metadata": {},
   "outputs": [
    {
     "data": {
      "text/plain": [
       "321949.2994094856"
      ]
     },
     "execution_count": 423,
     "metadata": {},
     "output_type": "execute_result"
    }
   ],
   "source": [
    "#evaluate mean squared error\n",
    "from sklearn.metrics import mean_squared_error\n",
    "mean_squared_error(y_train, btc_training_predictions)"
   ]
  },
  {
   "cell_type": "code",
   "execution_count": 424,
   "metadata": {},
   "outputs": [
    {
     "data": {
      "text/plain": [
       "0.9991402832072426"
      ]
     },
     "execution_count": 424,
     "metadata": {},
     "output_type": "execute_result"
    }
   ],
   "source": [
    "#evaluate r2 score\n",
    "from sklearn.metrics import r2_score\n",
    "r2_score(y_train, btc_training_predictions)"
   ]
  },
  {
   "cell_type": "code",
   "execution_count": 425,
   "metadata": {},
   "outputs": [
    {
     "data": {
      "text/html": [
       "<div>\n",
       "<style scoped>\n",
       "    .dataframe tbody tr th:only-of-type {\n",
       "        vertical-align: middle;\n",
       "    }\n",
       "\n",
       "    .dataframe tbody tr th {\n",
       "        vertical-align: top;\n",
       "    }\n",
       "\n",
       "    .dataframe thead th {\n",
       "        text-align: right;\n",
       "    }\n",
       "</style>\n",
       "<table border=\"1\" class=\"dataframe\">\n",
       "  <thead>\n",
       "    <tr style=\"text-align: right;\">\n",
       "      <th></th>\n",
       "      <th>prediction</th>\n",
       "    </tr>\n",
       "  </thead>\n",
       "  <tbody>\n",
       "    <tr>\n",
       "      <th>0</th>\n",
       "      <td>30446.411220</td>\n",
       "    </tr>\n",
       "    <tr>\n",
       "      <th>1</th>\n",
       "      <td>10980.038991</td>\n",
       "    </tr>\n",
       "    <tr>\n",
       "      <th>2</th>\n",
       "      <td>51646.772628</td>\n",
       "    </tr>\n",
       "    <tr>\n",
       "      <th>3</th>\n",
       "      <td>55514.062984</td>\n",
       "    </tr>\n",
       "    <tr>\n",
       "      <th>4</th>\n",
       "      <td>47274.848402</td>\n",
       "    </tr>\n",
       "    <tr>\n",
       "      <th>...</th>\n",
       "      <td>...</td>\n",
       "    </tr>\n",
       "    <tr>\n",
       "      <th>679</th>\n",
       "      <td>8395.656546</td>\n",
       "    </tr>\n",
       "    <tr>\n",
       "      <th>680</th>\n",
       "      <td>47674.139678</td>\n",
       "    </tr>\n",
       "    <tr>\n",
       "      <th>681</th>\n",
       "      <td>10538.771966</td>\n",
       "    </tr>\n",
       "    <tr>\n",
       "      <th>682</th>\n",
       "      <td>33522.783226</td>\n",
       "    </tr>\n",
       "    <tr>\n",
       "      <th>683</th>\n",
       "      <td>35974.298724</td>\n",
       "    </tr>\n",
       "  </tbody>\n",
       "</table>\n",
       "<p>684 rows × 1 columns</p>\n",
       "</div>"
      ],
      "text/plain": [
       "       prediction\n",
       "0    30446.411220\n",
       "1    10980.038991\n",
       "2    51646.772628\n",
       "3    55514.062984\n",
       "4    47274.848402\n",
       "..            ...\n",
       "679   8395.656546\n",
       "680  47674.139678\n",
       "681  10538.771966\n",
       "682  33522.783226\n",
       "683  35974.298724\n",
       "\n",
       "[684 rows x 1 columns]"
      ]
     },
     "execution_count": 425,
     "metadata": {},
     "output_type": "execute_result"
    }
   ],
   "source": [
    "btc_training_prediction_df = pd.DataFrame(btc_training_predictions, columns=[\"prediction\"])\n",
    "btc_training_prediction_df"
   ]
  },
  {
   "cell_type": "code",
   "execution_count": 426,
   "metadata": {},
   "outputs": [
    {
     "data": {
      "text/plain": [
       "0      32022.6\n",
       "1      11096.2\n",
       "2      54111.8\n",
       "3      55862.9\n",
       "4      47123.3\n",
       "        ...   \n",
       "679     8439.9\n",
       "680    46704.5\n",
       "681    10566.9\n",
       "682    33797.4\n",
       "683    36269.5\n",
       "Name: price, Length: 684, dtype: float64"
      ]
     },
     "execution_count": 426,
     "metadata": {},
     "output_type": "execute_result"
    }
   ],
   "source": [
    "y_train=y_train.reset_index(drop=True)\n",
    "y_train"
   ]
  },
  {
   "cell_type": "code",
   "execution_count": 427,
   "metadata": {},
   "outputs": [],
   "source": [
    "frames = [btc_training_prediction_df,y_train]\n",
    "btc_model_performance=pd.concat(frames)"
   ]
  },
  {
   "cell_type": "code",
   "execution_count": 428,
   "metadata": {},
   "outputs": [
    {
     "data": {
      "text/html": [
       "<div>\n",
       "<style scoped>\n",
       "    .dataframe tbody tr th:only-of-type {\n",
       "        vertical-align: middle;\n",
       "    }\n",
       "\n",
       "    .dataframe tbody tr th {\n",
       "        vertical-align: top;\n",
       "    }\n",
       "\n",
       "    .dataframe thead th {\n",
       "        text-align: right;\n",
       "    }\n",
       "</style>\n",
       "<table border=\"1\" class=\"dataframe\">\n",
       "  <thead>\n",
       "    <tr style=\"text-align: right;\">\n",
       "      <th></th>\n",
       "      <th>prediction</th>\n",
       "      <th>0</th>\n",
       "    </tr>\n",
       "  </thead>\n",
       "  <tbody>\n",
       "    <tr>\n",
       "      <th>0</th>\n",
       "      <td>30446.411220</td>\n",
       "      <td>NaN</td>\n",
       "    </tr>\n",
       "    <tr>\n",
       "      <th>1</th>\n",
       "      <td>10980.038991</td>\n",
       "      <td>NaN</td>\n",
       "    </tr>\n",
       "    <tr>\n",
       "      <th>2</th>\n",
       "      <td>51646.772628</td>\n",
       "      <td>NaN</td>\n",
       "    </tr>\n",
       "    <tr>\n",
       "      <th>3</th>\n",
       "      <td>55514.062984</td>\n",
       "      <td>NaN</td>\n",
       "    </tr>\n",
       "    <tr>\n",
       "      <th>4</th>\n",
       "      <td>47274.848402</td>\n",
       "      <td>NaN</td>\n",
       "    </tr>\n",
       "    <tr>\n",
       "      <th>...</th>\n",
       "      <td>...</td>\n",
       "      <td>...</td>\n",
       "    </tr>\n",
       "    <tr>\n",
       "      <th>679</th>\n",
       "      <td>NaN</td>\n",
       "      <td>8439.9</td>\n",
       "    </tr>\n",
       "    <tr>\n",
       "      <th>680</th>\n",
       "      <td>NaN</td>\n",
       "      <td>46704.5</td>\n",
       "    </tr>\n",
       "    <tr>\n",
       "      <th>681</th>\n",
       "      <td>NaN</td>\n",
       "      <td>10566.9</td>\n",
       "    </tr>\n",
       "    <tr>\n",
       "      <th>682</th>\n",
       "      <td>NaN</td>\n",
       "      <td>33797.4</td>\n",
       "    </tr>\n",
       "    <tr>\n",
       "      <th>683</th>\n",
       "      <td>NaN</td>\n",
       "      <td>36269.5</td>\n",
       "    </tr>\n",
       "  </tbody>\n",
       "</table>\n",
       "<p>1368 rows × 2 columns</p>\n",
       "</div>"
      ],
      "text/plain": [
       "       prediction        0\n",
       "0    30446.411220      NaN\n",
       "1    10980.038991      NaN\n",
       "2    51646.772628      NaN\n",
       "3    55514.062984      NaN\n",
       "4    47274.848402      NaN\n",
       "..            ...      ...\n",
       "679           NaN   8439.9\n",
       "680           NaN  46704.5\n",
       "681           NaN  10566.9\n",
       "682           NaN  33797.4\n",
       "683           NaN  36269.5\n",
       "\n",
       "[1368 rows x 2 columns]"
      ]
     },
     "execution_count": 428,
     "metadata": {},
     "output_type": "execute_result"
    }
   ],
   "source": [
    "btc_model_performance"
   ]
  },
  {
   "cell_type": "code",
   "execution_count": 429,
   "metadata": {},
   "outputs": [
    {
     "data": {
      "image/png": "[encoded data removed]",
      "text/plain": [
       "<Figure size 1440x720 with 1 Axes>"
      ]
     },
     "metadata": {
      "needs_background": "light"
     },
     "output_type": "display_data"
    }
   ],
   "source": [
    "predictions_actual_y_btc_train=y_btc_train_df\n",
    "predictions_actual_y_btc_train['predictions']=btc_training_prediction_df.values\n",
    "\n",
    "#plot x_test\n",
    "name = 'SKLearn BTC Actual Vs. Predicted'\n",
    "ax = predictions_actual_y_btc_train.plot(figsize=(20,10), title=name)\n",
    "ax.figure.savefig('btc_train_sklearn.png')"
   ]
  },
  {
   "cell_type": "code",
   "execution_count": 430,
   "metadata": {},
   "outputs": [
    {
     "data": {
      "text/plain": [
       "array([48763.25699047,  6419.2454953 , 66043.5074312 , 35654.5174807 ,\n",
       "        8781.4885614 ,  8157.33606465, 10691.2344429 , 31591.95563448,\n",
       "        8178.56359583, 42263.46591436, 48360.46783372, 57712.24881579,\n",
       "        9234.85402271,  6886.127191  , 55821.19715542,  7266.21959754,\n",
       "       46742.92338154,  7501.70069422, 58360.3838418 , 38237.41884316,\n",
       "       55329.95343003, 42387.76594575,  9635.7630259 ,  5858.84716044,\n",
       "        8636.46028148, 23059.33939018, 36679.54041226, 59721.17271153,\n",
       "       18137.69943341, 28720.14439132,  8987.72639454, 55122.54168999,\n",
       "        9685.49392431,  8555.20607931, 11887.44442773, 38109.41412045,\n",
       "       13411.27110132, 39486.25553416, 55726.78288689, 15520.75196739,\n",
       "       13026.81395593, 36042.26247891,  9715.73950034,  6953.5939526 ,\n",
       "       50404.09487946, 38342.88185469, 14956.51534487, 51271.38968266,\n",
       "       48340.42181108,  6039.37043509,  9207.4962746 , 11457.59041539,\n",
       "       13906.04423173,  8853.67601333, 61085.83632698,  7032.88180164,\n",
       "       35583.23981806,  9834.54578803,  9326.45001154, 43641.29328384,\n",
       "       47480.67212663, 35525.11381763, 49867.82972894,  8678.31587457,\n",
       "       47585.8257944 , 46613.62402363,  7891.868139  , 35265.28937801,\n",
       "        7284.98731001,  9439.52173156,  7256.8137796 ,  8203.01548285,\n",
       "       39801.366235  , 54836.89810655, 38005.66958042, 38266.42248366,\n",
       "       46688.25264074, 18632.1560696 ,  9712.31204212, 13805.38910701,\n",
       "        9112.69126273,  8981.16641931, 16207.51784818, 46149.08687887,\n",
       "       41744.45612944,  9327.81075348, 47554.1168387 ,  9640.6878952 ,\n",
       "        6466.59875356,  9087.97675565, 27709.27911577,  8896.88832433,\n",
       "        9611.30070909,  8978.11542358, 32225.53293168, 18096.90411166,\n",
       "       49498.11444282, 49717.73453335, 44879.66522561, 36338.04661399,\n",
       "       49182.79570654,  8314.55431285,  9343.61936782,  8442.51470052,\n",
       "        7553.32118372,  9399.21670668, 44345.35107021,  9259.1428814 ,\n",
       "        9005.8805178 ,  8561.71322208, 61440.02497814,  9363.87824817,\n",
       "       40704.60202461,  9603.76186634,  9608.60986875, 59028.24495148,\n",
       "       55100.66598972, 31564.87186024,  7129.46190214, 10430.54990592,\n",
       "        9969.70515342, 58195.80579306,  6523.23304259, 10184.46614302,\n",
       "        7345.1983664 , 34866.84926323,  7543.00305552, 48425.35029226,\n",
       "        7301.55195592,  8597.85442539, 10713.63082267,  8332.6311649 ,\n",
       "       55527.64162226, 13068.77724164, 10207.00979801, 19068.34251211,\n",
       "       43206.15428229,  9212.98189766, 11185.81855083, 44729.25573084,\n",
       "       54834.89949328, 48385.83074307, 46982.60310543, 18106.45341291,\n",
       "        8096.1382532 ,  8114.08762484, 47334.63095249, 36291.02545262,\n",
       "        8496.16694348, 40513.68434207,  6725.16781524, 53514.29816014,\n",
       "       10099.48206755,  8670.52404602, 23724.99343454, 15902.77007019,\n",
       "        7605.26206284, 19286.94584412, 54750.18832155, 40212.20449764,\n",
       "        9496.92037953, 12066.2967061 , 49219.53568868, 34223.16653669,\n",
       "       10919.9131076 ,  8364.43430207, 46289.45400862, 34389.1034675 ,\n",
       "       10497.52128663, 43445.82549419, 45402.45442377, 39066.35142283,\n",
       "       10604.2460223 ,  9467.65099624, 18408.94278071,  8528.99292529,\n",
       "       64623.11628764, 42457.78463159, 50563.43400845, 60931.45942171,\n",
       "        9706.75416563, 64076.23490453, 34726.944798  , 39270.90832425,\n",
       "       42291.90628689, 11583.75061473,  9314.72678795,  6971.73611444,\n",
       "        9218.20697892, 11102.20913843,  9121.2420362 , 46423.72600842,\n",
       "       10266.22504516, 44242.74475818, 33253.77506507,  7087.98929145,\n",
       "       64661.20116334, 42177.4565635 , 48985.89158859, 51702.08433936,\n",
       "        7641.30444861,  5237.47740292, 10257.64269063,  6212.07214755,\n",
       "        7434.80533491,  9479.80693215, 10181.12245473, 63506.04205873,\n",
       "        9482.5863267 , 10885.03410634, 46458.95227301,  7356.70275169,\n",
       "       10849.28764821,  7147.32407039, 11915.29692301, 10507.49541018,\n",
       "        8393.01518865, 64729.77201085, 61003.17227576, 15644.06447122,\n",
       "       10390.29726229, 41615.53937153, 11703.51607993, 10823.51288276,\n",
       "       51210.54165414, 12840.46644134, 48659.02138663,  9406.79147956,\n",
       "       11607.74540571])"
      ]
     },
     "execution_count": 430,
     "metadata": {},
     "output_type": "execute_result"
    }
   ],
   "source": [
    "#predict the test values\n",
    "btc_testing_predictions = btc_model.predict(X_test_scaled)\n",
    "btc_testing_predictions"
   ]
  },
  {
   "cell_type": "code",
   "execution_count": 431,
   "metadata": {},
   "outputs": [
    {
     "data": {
      "text/plain": [
       "270971.1565064623"
      ]
     },
     "execution_count": 431,
     "metadata": {},
     "output_type": "execute_result"
    }
   ],
   "source": [
    "#calculate mean squared error for test\n",
    "mean_squared_error(y_test, btc_testing_predictions)"
   ]
  },
  {
   "cell_type": "code",
   "execution_count": 432,
   "metadata": {},
   "outputs": [
    {
     "data": {
      "text/plain": [
       "0.9992588308421535"
      ]
     },
     "execution_count": 432,
     "metadata": {},
     "output_type": "execute_result"
    }
   ],
   "source": [
    "#calculate r2 score for test\n",
    "r2_score(y_test, btc_testing_predictions)"
   ]
  },
  {
   "cell_type": "code",
   "execution_count": 433,
   "metadata": {},
   "outputs": [
    {
     "data": {
      "text/html": [
       "<div>\n",
       "<style scoped>\n",
       "    .dataframe tbody tr th:only-of-type {\n",
       "        vertical-align: middle;\n",
       "    }\n",
       "\n",
       "    .dataframe tbody tr th {\n",
       "        vertical-align: top;\n",
       "    }\n",
       "\n",
       "    .dataframe thead th {\n",
       "        text-align: right;\n",
       "    }\n",
       "</style>\n",
       "<table border=\"1\" class=\"dataframe\">\n",
       "  <thead>\n",
       "    <tr style=\"text-align: right;\">\n",
       "      <th></th>\n",
       "      <th>prediction</th>\n",
       "    </tr>\n",
       "  </thead>\n",
       "  <tbody>\n",
       "    <tr>\n",
       "      <th>0</th>\n",
       "      <td>48763.256990</td>\n",
       "    </tr>\n",
       "    <tr>\n",
       "      <th>1</th>\n",
       "      <td>6419.245495</td>\n",
       "    </tr>\n",
       "    <tr>\n",
       "      <th>2</th>\n",
       "      <td>66043.507431</td>\n",
       "    </tr>\n",
       "    <tr>\n",
       "      <th>3</th>\n",
       "      <td>35654.517481</td>\n",
       "    </tr>\n",
       "    <tr>\n",
       "      <th>4</th>\n",
       "      <td>8781.488561</td>\n",
       "    </tr>\n",
       "    <tr>\n",
       "      <th>...</th>\n",
       "      <td>...</td>\n",
       "    </tr>\n",
       "    <tr>\n",
       "      <th>224</th>\n",
       "      <td>51210.541654</td>\n",
       "    </tr>\n",
       "    <tr>\n",
       "      <th>225</th>\n",
       "      <td>12840.466441</td>\n",
       "    </tr>\n",
       "    <tr>\n",
       "      <th>226</th>\n",
       "      <td>48659.021387</td>\n",
       "    </tr>\n",
       "    <tr>\n",
       "      <th>227</th>\n",
       "      <td>9406.791480</td>\n",
       "    </tr>\n",
       "    <tr>\n",
       "      <th>228</th>\n",
       "      <td>11607.745406</td>\n",
       "    </tr>\n",
       "  </tbody>\n",
       "</table>\n",
       "<p>229 rows × 1 columns</p>\n",
       "</div>"
      ],
      "text/plain": [
       "       prediction\n",
       "0    48763.256990\n",
       "1     6419.245495\n",
       "2    66043.507431\n",
       "3    35654.517481\n",
       "4     8781.488561\n",
       "..            ...\n",
       "224  51210.541654\n",
       "225  12840.466441\n",
       "226  48659.021387\n",
       "227   9406.791480\n",
       "228  11607.745406\n",
       "\n",
       "[229 rows x 1 columns]"
      ]
     },
     "execution_count": 433,
     "metadata": {},
     "output_type": "execute_result"
    }
   ],
   "source": [
    "btc_testing_prediction_df = pd.DataFrame(btc_testing_predictions, columns=[\"prediction\"])\n",
    "btc_testing_prediction_df\n"
   ]
  },
  {
   "cell_type": "code",
   "execution_count": 434,
   "metadata": {},
   "outputs": [],
   "source": [
    "y_test=y_test.reset_index(drop=True)\n"
   ]
  },
  {
   "cell_type": "code",
   "execution_count": 435,
   "metadata": {},
   "outputs": [
    {
     "data": {
      "text/html": [
       "<div>\n",
       "<style scoped>\n",
       "    .dataframe tbody tr th:only-of-type {\n",
       "        vertical-align: middle;\n",
       "    }\n",
       "\n",
       "    .dataframe tbody tr th {\n",
       "        vertical-align: top;\n",
       "    }\n",
       "\n",
       "    .dataframe thead th {\n",
       "        text-align: right;\n",
       "    }\n",
       "</style>\n",
       "<table border=\"1\" class=\"dataframe\">\n",
       "  <thead>\n",
       "    <tr style=\"text-align: right;\">\n",
       "      <th></th>\n",
       "      <th>prediction</th>\n",
       "      <th>actual</th>\n",
       "    </tr>\n",
       "  </thead>\n",
       "  <tbody>\n",
       "    <tr>\n",
       "      <th>0</th>\n",
       "      <td>48763.256990</td>\n",
       "      <td>NaN</td>\n",
       "    </tr>\n",
       "    <tr>\n",
       "      <th>1</th>\n",
       "      <td>6419.245495</td>\n",
       "      <td>NaN</td>\n",
       "    </tr>\n",
       "    <tr>\n",
       "      <th>2</th>\n",
       "      <td>66043.507431</td>\n",
       "      <td>NaN</td>\n",
       "    </tr>\n",
       "    <tr>\n",
       "      <th>3</th>\n",
       "      <td>35654.517481</td>\n",
       "      <td>NaN</td>\n",
       "    </tr>\n",
       "    <tr>\n",
       "      <th>4</th>\n",
       "      <td>8781.488561</td>\n",
       "      <td>NaN</td>\n",
       "    </tr>\n",
       "    <tr>\n",
       "      <th>...</th>\n",
       "      <td>...</td>\n",
       "      <td>...</td>\n",
       "    </tr>\n",
       "    <tr>\n",
       "      <th>224</th>\n",
       "      <td>NaN</td>\n",
       "      <td>51768.6</td>\n",
       "    </tr>\n",
       "    <tr>\n",
       "      <th>225</th>\n",
       "      <td>NaN</td>\n",
       "      <td>12934.1</td>\n",
       "    </tr>\n",
       "    <tr>\n",
       "      <th>226</th>\n",
       "      <td>NaN</td>\n",
       "      <td>48897.1</td>\n",
       "    </tr>\n",
       "    <tr>\n",
       "      <th>227</th>\n",
       "      <td>NaN</td>\n",
       "      <td>9317.2</td>\n",
       "    </tr>\n",
       "    <tr>\n",
       "      <th>228</th>\n",
       "      <td>NaN</td>\n",
       "      <td>11592.0</td>\n",
       "    </tr>\n",
       "  </tbody>\n",
       "</table>\n",
       "<p>458 rows × 2 columns</p>\n",
       "</div>"
      ],
      "text/plain": [
       "       prediction   actual\n",
       "0    48763.256990      NaN\n",
       "1     6419.245495      NaN\n",
       "2    66043.507431      NaN\n",
       "3    35654.517481      NaN\n",
       "4     8781.488561      NaN\n",
       "..            ...      ...\n",
       "224           NaN  51768.6\n",
       "225           NaN  12934.1\n",
       "226           NaN  48897.1\n",
       "227           NaN   9317.2\n",
       "228           NaN  11592.0\n",
       "\n",
       "[458 rows x 2 columns]"
      ]
     },
     "execution_count": 435,
     "metadata": {},
     "output_type": "execute_result"
    }
   ],
   "source": [
    "testing_frames = [btc_testing_prediction_df,y_test]\n",
    "testing_btc_model_performance=pd.concat(testing_frames)\n",
    "testing_btc_model_performance.columns=['prediction','actual']\n",
    "testing_btc_model_performance"
   ]
  },
  {
   "cell_type": "code",
   "execution_count": 436,
   "metadata": {},
   "outputs": [
    {
     "data": {
      "image/png": "[encoded data removed]",
      "text/plain": [
       "<Figure size 1440x720 with 1 Axes>"
      ]
     },
     "metadata": {
      "needs_background": "light"
     },
     "output_type": "display_data"
    }
   ],
   "source": [
    "predictions_actual_y_btc_test=y_btc_test_df\n",
    "predictions_actual_y_btc_test['predictions']=btc_testing_prediction_df.values\n",
    "\n",
    "#plot x_test\n",
    "name = 'SKLearn BTC Actual Vs. Predicted'\n",
    "ax = predictions_actual_y_btc_test.plot(figsize=(20,10), title=name)\n",
    "ax.figure.savefig('btc_test_sklearn.png')"
   ]
  },
  {
   "cell_type": "code",
   "execution_count": 437,
   "metadata": {},
   "outputs": [],
   "source": [
    "#set X and y for 'future predictions'"
   ]
  },
  {
   "cell_type": "code",
   "execution_count": 438,
   "metadata": {},
   "outputs": [],
   "source": [
    "y = btc_df_4_clean[\"price\"]\n",
    "X = btc_df_4_clean.drop(columns=\"price\")"
   ]
  },
  {
   "cell_type": "code",
   "execution_count": 439,
   "metadata": {},
   "outputs": [],
   "source": [
    "copy_y_future_btc=y.copy()\n",
    "y_df_future_btc=pd.DataFrame(copy_y_future_btc)"
   ]
  },
  {
   "cell_type": "code",
   "execution_count": 440,
   "metadata": {},
   "outputs": [],
   "source": [
    "btc_df_4_scaled = X_scaler.transform(X)"
   ]
  },
  {
   "cell_type": "code",
   "execution_count": 441,
   "metadata": {},
   "outputs": [],
   "source": [
    "btc_model = btc_model.fit(btc_df_4_scaled, y)\n",
    "\n",
    "btc_4_df_predictions=btc_model.predict(btc_df_4_scaled)"
   ]
  },
  {
   "cell_type": "code",
   "execution_count": 442,
   "metadata": {},
   "outputs": [
    {
     "data": {
      "text/plain": [
       "171788.2226985277"
      ]
     },
     "execution_count": 442,
     "metadata": {},
     "output_type": "execute_result"
    }
   ],
   "source": [
    "mean_squared_error(y, btc_4_df_predictions)"
   ]
  },
  {
   "cell_type": "code",
   "execution_count": 443,
   "metadata": {},
   "outputs": [
    {
     "data": {
      "text/plain": [
       "0.9945473886866197"
      ]
     },
     "execution_count": 443,
     "metadata": {},
     "output_type": "execute_result"
    }
   ],
   "source": [
    "r2_score(y, btc_4_df_predictions)"
   ]
  },
  {
   "cell_type": "code",
   "execution_count": 444,
   "metadata": {},
   "outputs": [
    {
     "data": {
      "text/html": [
       "<div>\n",
       "<style scoped>\n",
       "    .dataframe tbody tr th:only-of-type {\n",
       "        vertical-align: middle;\n",
       "    }\n",
       "\n",
       "    .dataframe tbody tr th {\n",
       "        vertical-align: top;\n",
       "    }\n",
       "\n",
       "    .dataframe thead th {\n",
       "        text-align: right;\n",
       "    }\n",
       "</style>\n",
       "<table border=\"1\" class=\"dataframe\">\n",
       "  <thead>\n",
       "    <tr style=\"text-align: right;\">\n",
       "      <th></th>\n",
       "      <th>prediction</th>\n",
       "    </tr>\n",
       "  </thead>\n",
       "  <tbody>\n",
       "    <tr>\n",
       "      <th>0</th>\n",
       "      <td>29906.619173</td>\n",
       "    </tr>\n",
       "    <tr>\n",
       "      <th>1</th>\n",
       "      <td>31908.602347</td>\n",
       "    </tr>\n",
       "    <tr>\n",
       "      <th>2</th>\n",
       "      <td>31559.374155</td>\n",
       "    </tr>\n",
       "    <tr>\n",
       "      <th>3</th>\n",
       "      <td>29435.470185</td>\n",
       "    </tr>\n",
       "    <tr>\n",
       "      <th>4</th>\n",
       "      <td>29162.410008</td>\n",
       "    </tr>\n",
       "    <tr>\n",
       "      <th>...</th>\n",
       "      <td>...</td>\n",
       "    </tr>\n",
       "    <tr>\n",
       "      <th>88</th>\n",
       "      <td>39150.434493</td>\n",
       "    </tr>\n",
       "    <tr>\n",
       "      <th>89</th>\n",
       "      <td>39418.789156</td>\n",
       "    </tr>\n",
       "    <tr>\n",
       "      <th>90</th>\n",
       "      <td>42178.069859</td>\n",
       "    </tr>\n",
       "    <tr>\n",
       "      <th>91</th>\n",
       "      <td>44134.740614</td>\n",
       "    </tr>\n",
       "    <tr>\n",
       "      <th>92</th>\n",
       "      <td>44229.109895</td>\n",
       "    </tr>\n",
       "  </tbody>\n",
       "</table>\n",
       "<p>93 rows × 1 columns</p>\n",
       "</div>"
      ],
      "text/plain": [
       "      prediction\n",
       "0   29906.619173\n",
       "1   31908.602347\n",
       "2   31559.374155\n",
       "3   29435.470185\n",
       "4   29162.410008\n",
       "..           ...\n",
       "88  39150.434493\n",
       "89  39418.789156\n",
       "90  42178.069859\n",
       "91  44134.740614\n",
       "92  44229.109895\n",
       "\n",
       "[93 rows x 1 columns]"
      ]
     },
     "execution_count": 444,
     "metadata": {},
     "output_type": "execute_result"
    }
   ],
   "source": [
    "btc_4_df_predictions_df = pd.DataFrame(btc_4_df_predictions, columns=[\"prediction\"])\n",
    "btc_4_df_predictions_df"
   ]
  },
  {
   "cell_type": "code",
   "execution_count": 445,
   "metadata": {},
   "outputs": [
    {
     "data": {
      "text/plain": [
       "0     29798.5\n",
       "1     31793.4\n",
       "2     31723.3\n",
       "3     29465.2\n",
       "4     29027.1\n",
       "       ...   \n",
       "88    39395.8\n",
       "89    39142.7\n",
       "90    42463.0\n",
       "91    43912.8\n",
       "92    44420.3\n",
       "Name: price, Length: 93, dtype: float64"
      ]
     },
     "execution_count": 445,
     "metadata": {},
     "output_type": "execute_result"
    }
   ],
   "source": [
    "y=y.reset_index(drop=True)\n",
    "y"
   ]
  },
  {
   "cell_type": "code",
   "execution_count": 446,
   "metadata": {},
   "outputs": [],
   "source": [
    "future_frames = [btc_4_df_predictions_df,y]\n",
    "future_btc_model_performance=pd.concat(future_frames)"
   ]
  },
  {
   "cell_type": "code",
   "execution_count": 447,
   "metadata": {},
   "outputs": [
    {
     "data": {
      "image/png": "[encoded data removed]",
      "text/plain": [
       "<Figure size 1440x720 with 1 Axes>"
      ]
     },
     "metadata": {
      "needs_background": "light"
     },
     "output_type": "display_data"
    }
   ],
   "source": [
    "#adjust column names\n",
    "predictions_actual_y_btc_future=y_df_future_btc\n",
    "predictions_actual_y_btc_future['predictions']=btc_4_df_predictions_df.values\n",
    "\n",
    "#plot x_test\n",
    "name = 'SKLearn BTC Future Actual Vs. Predicted'\n",
    "ax = predictions_actual_y_btc_future.plot(figsize=(20,10), title=name)\n",
    "ax.figure.savefig('btc_future_sklearn.png')"
   ]
  },
  {
   "cell_type": "code",
   "execution_count": 448,
   "metadata": {},
   "outputs": [],
   "source": [
    "##ETH"
   ]
  },
  {
   "cell_type": "code",
   "execution_count": 449,
   "metadata": {},
   "outputs": [],
   "source": [
    "#set X and y for sklearn eth_model\n",
    "y = eth_df_all_clean[\"price\"]\n",
    "X = eth_df_all_clean.drop(columns=\"price\")"
   ]
  },
  {
   "cell_type": "code",
   "execution_count": 450,
   "metadata": {},
   "outputs": [
    {
     "data": {
      "text/plain": [
       "open    0\n",
       "high    0\n",
       "low     0\n",
       "vol     0\n",
       "dtype: int64"
      ]
     },
     "execution_count": 450,
     "metadata": {},
     "output_type": "execute_result"
    }
   ],
   "source": [
    "X.isnull().sum()"
   ]
  },
  {
   "cell_type": "code",
   "execution_count": 451,
   "metadata": {},
   "outputs": [
    {
     "data": {
      "text/plain": [
       "(227, 4)"
      ]
     },
     "execution_count": 451,
     "metadata": {},
     "output_type": "execute_result"
    }
   ],
   "source": [
    "#separate into test and train sets\n",
    "X_train, X_test, y_train, y_test = train_test_split(X, \n",
    "                                                    y, \n",
    "                                                    random_state=1, \n",
    "                                                    )\n",
    "X_train.shape\n",
    "X_test.shape"
   ]
  },
  {
   "cell_type": "code",
   "execution_count": 452,
   "metadata": {},
   "outputs": [
    {
     "data": {
      "text/html": [
       "<div>\n",
       "<style scoped>\n",
       "    .dataframe tbody tr th:only-of-type {\n",
       "        vertical-align: middle;\n",
       "    }\n",
       "\n",
       "    .dataframe tbody tr th {\n",
       "        vertical-align: top;\n",
       "    }\n",
       "\n",
       "    .dataframe thead th {\n",
       "        text-align: right;\n",
       "    }\n",
       "</style>\n",
       "<table border=\"1\" class=\"dataframe\">\n",
       "  <thead>\n",
       "    <tr style=\"text-align: right;\">\n",
       "      <th></th>\n",
       "      <th>open</th>\n",
       "      <th>high</th>\n",
       "      <th>low</th>\n",
       "      <th>vol</th>\n",
       "    </tr>\n",
       "    <tr>\n",
       "      <th>date</th>\n",
       "      <th></th>\n",
       "      <th></th>\n",
       "      <th></th>\n",
       "      <th></th>\n",
       "    </tr>\n",
       "  </thead>\n",
       "  <tbody>\n",
       "    <tr>\n",
       "      <th>2022-02-27</th>\n",
       "      <td>2779.56</td>\n",
       "      <td>2834.24</td>\n",
       "      <td>2563.00</td>\n",
       "      <td>650220.0</td>\n",
       "    </tr>\n",
       "    <tr>\n",
       "      <th>2022-02-26</th>\n",
       "      <td>2768.64</td>\n",
       "      <td>2856.11</td>\n",
       "      <td>2734.80</td>\n",
       "      <td>418490.0</td>\n",
       "    </tr>\n",
       "    <tr>\n",
       "      <th>2022-02-23</th>\n",
       "      <td>2641.33</td>\n",
       "      <td>2749.47</td>\n",
       "      <td>2578.09</td>\n",
       "      <td>504190.0</td>\n",
       "    </tr>\n",
       "    <tr>\n",
       "      <th>2022-02-21</th>\n",
       "      <td>2621.87</td>\n",
       "      <td>2755.44</td>\n",
       "      <td>2559.61</td>\n",
       "      <td>761630.0</td>\n",
       "    </tr>\n",
       "    <tr>\n",
       "      <th>2022-02-16</th>\n",
       "      <td>3184.08</td>\n",
       "      <td>3184.77</td>\n",
       "      <td>3045.72</td>\n",
       "      <td>320000.0</td>\n",
       "    </tr>\n",
       "    <tr>\n",
       "      <th>...</th>\n",
       "      <td>...</td>\n",
       "      <td>...</td>\n",
       "      <td>...</td>\n",
       "      <td>...</td>\n",
       "    </tr>\n",
       "    <tr>\n",
       "      <th>2019-09-26</th>\n",
       "      <td>169.96</td>\n",
       "      <td>170.96</td>\n",
       "      <td>152.96</td>\n",
       "      <td>637080.0</td>\n",
       "    </tr>\n",
       "    <tr>\n",
       "      <th>2019-09-20</th>\n",
       "      <td>220.26</td>\n",
       "      <td>221.47</td>\n",
       "      <td>212.45</td>\n",
       "      <td>523350.0</td>\n",
       "    </tr>\n",
       "    <tr>\n",
       "      <th>2019-09-16</th>\n",
       "      <td>188.98</td>\n",
       "      <td>199.23</td>\n",
       "      <td>188.32</td>\n",
       "      <td>515960.0</td>\n",
       "    </tr>\n",
       "    <tr>\n",
       "      <th>2019-09-09</th>\n",
       "      <td>181.16</td>\n",
       "      <td>185.18</td>\n",
       "      <td>176.08</td>\n",
       "      <td>521810.0</td>\n",
       "    </tr>\n",
       "    <tr>\n",
       "      <th>2019-09-03</th>\n",
       "      <td>178.05</td>\n",
       "      <td>182.65</td>\n",
       "      <td>175.23</td>\n",
       "      <td>460770.0</td>\n",
       "    </tr>\n",
       "  </tbody>\n",
       "</table>\n",
       "<p>227 rows × 4 columns</p>\n",
       "</div>"
      ],
      "text/plain": [
       "               open     high      low       vol\n",
       "date                                           \n",
       "2022-02-27  2779.56  2834.24  2563.00  650220.0\n",
       "2022-02-26  2768.64  2856.11  2734.80  418490.0\n",
       "2022-02-23  2641.33  2749.47  2578.09  504190.0\n",
       "2022-02-21  2621.87  2755.44  2559.61  761630.0\n",
       "2022-02-16  3184.08  3184.77  3045.72  320000.0\n",
       "...             ...      ...      ...       ...\n",
       "2019-09-26   169.96   170.96   152.96  637080.0\n",
       "2019-09-20   220.26   221.47   212.45  523350.0\n",
       "2019-09-16   188.98   199.23   188.32  515960.0\n",
       "2019-09-09   181.16   185.18   176.08  521810.0\n",
       "2019-09-03   178.05   182.65   175.23  460770.0\n",
       "\n",
       "[227 rows x 4 columns]"
      ]
     },
     "execution_count": 452,
     "metadata": {},
     "output_type": "execute_result"
    }
   ],
   "source": [
    "X_train.sort_values(\"date\",ascending=False)\n",
    "X_test.sort_values(\"date\",ascending=False)\n"
   ]
  },
  {
   "cell_type": "code",
   "execution_count": 453,
   "metadata": {},
   "outputs": [],
   "source": [
    "copy_y_test_eth=y_test.copy()\n",
    "y_eth_test_df=pd.DataFrame(copy_y_test_eth)\n",
    "copy_y_train_eth=y_train.copy()\n",
    "y_eth_train_df=pd.DataFrame(copy_y_train_eth)"
   ]
  },
  {
   "cell_type": "code",
   "execution_count": 454,
   "metadata": {},
   "outputs": [],
   "source": [
    "#scale the data\n",
    "scaler = StandardScaler()\n",
    "X_scaler = scaler.fit(X_train)\n",
    "X_train_scaled = X_scaler.transform(X_train)\n",
    "X_test_scaled = X_scaler.transform(X_test)"
   ]
  },
  {
   "cell_type": "code",
   "execution_count": 455,
   "metadata": {},
   "outputs": [
    {
     "data": {
      "text/html": [
       "<div>\n",
       "<style scoped>\n",
       "    .dataframe tbody tr th:only-of-type {\n",
       "        vertical-align: middle;\n",
       "    }\n",
       "\n",
       "    .dataframe tbody tr th {\n",
       "        vertical-align: top;\n",
       "    }\n",
       "\n",
       "    .dataframe thead th {\n",
       "        text-align: right;\n",
       "    }\n",
       "</style>\n",
       "<table border=\"1\" class=\"dataframe\">\n",
       "  <thead>\n",
       "    <tr style=\"text-align: right;\">\n",
       "      <th></th>\n",
       "      <th>open</th>\n",
       "      <th>high</th>\n",
       "      <th>low</th>\n",
       "      <th>vol</th>\n",
       "    </tr>\n",
       "    <tr>\n",
       "      <th>date</th>\n",
       "      <th></th>\n",
       "      <th></th>\n",
       "      <th></th>\n",
       "      <th></th>\n",
       "    </tr>\n",
       "  </thead>\n",
       "  <tbody>\n",
       "    <tr>\n",
       "      <th>2019-09-03</th>\n",
       "      <td>178.05</td>\n",
       "      <td>182.65</td>\n",
       "      <td>175.23</td>\n",
       "      <td>460770.0</td>\n",
       "    </tr>\n",
       "    <tr>\n",
       "      <th>2019-09-09</th>\n",
       "      <td>181.16</td>\n",
       "      <td>185.18</td>\n",
       "      <td>176.08</td>\n",
       "      <td>521810.0</td>\n",
       "    </tr>\n",
       "    <tr>\n",
       "      <th>2019-09-16</th>\n",
       "      <td>188.98</td>\n",
       "      <td>199.23</td>\n",
       "      <td>188.32</td>\n",
       "      <td>515960.0</td>\n",
       "    </tr>\n",
       "    <tr>\n",
       "      <th>2019-09-20</th>\n",
       "      <td>220.26</td>\n",
       "      <td>221.47</td>\n",
       "      <td>212.45</td>\n",
       "      <td>523350.0</td>\n",
       "    </tr>\n",
       "    <tr>\n",
       "      <th>2019-09-26</th>\n",
       "      <td>169.96</td>\n",
       "      <td>170.96</td>\n",
       "      <td>152.96</td>\n",
       "      <td>637080.0</td>\n",
       "    </tr>\n",
       "    <tr>\n",
       "      <th>...</th>\n",
       "      <td>...</td>\n",
       "      <td>...</td>\n",
       "      <td>...</td>\n",
       "      <td>...</td>\n",
       "    </tr>\n",
       "    <tr>\n",
       "      <th>2022-02-16</th>\n",
       "      <td>3184.08</td>\n",
       "      <td>3184.77</td>\n",
       "      <td>3045.72</td>\n",
       "      <td>320000.0</td>\n",
       "    </tr>\n",
       "    <tr>\n",
       "      <th>2022-02-21</th>\n",
       "      <td>2621.87</td>\n",
       "      <td>2755.44</td>\n",
       "      <td>2559.61</td>\n",
       "      <td>761630.0</td>\n",
       "    </tr>\n",
       "    <tr>\n",
       "      <th>2022-02-23</th>\n",
       "      <td>2641.33</td>\n",
       "      <td>2749.47</td>\n",
       "      <td>2578.09</td>\n",
       "      <td>504190.0</td>\n",
       "    </tr>\n",
       "    <tr>\n",
       "      <th>2022-02-26</th>\n",
       "      <td>2768.64</td>\n",
       "      <td>2856.11</td>\n",
       "      <td>2734.80</td>\n",
       "      <td>418490.0</td>\n",
       "    </tr>\n",
       "    <tr>\n",
       "      <th>2022-02-27</th>\n",
       "      <td>2779.56</td>\n",
       "      <td>2834.24</td>\n",
       "      <td>2563.00</td>\n",
       "      <td>650220.0</td>\n",
       "    </tr>\n",
       "  </tbody>\n",
       "</table>\n",
       "<p>227 rows × 4 columns</p>\n",
       "</div>"
      ],
      "text/plain": [
       "               open     high      low       vol\n",
       "date                                           \n",
       "2019-09-03   178.05   182.65   175.23  460770.0\n",
       "2019-09-09   181.16   185.18   176.08  521810.0\n",
       "2019-09-16   188.98   199.23   188.32  515960.0\n",
       "2019-09-20   220.26   221.47   212.45  523350.0\n",
       "2019-09-26   169.96   170.96   152.96  637080.0\n",
       "...             ...      ...      ...       ...\n",
       "2022-02-16  3184.08  3184.77  3045.72  320000.0\n",
       "2022-02-21  2621.87  2755.44  2559.61  761630.0\n",
       "2022-02-23  2641.33  2749.47  2578.09  504190.0\n",
       "2022-02-26  2768.64  2856.11  2734.80  418490.0\n",
       "2022-02-27  2779.56  2834.24  2563.00  650220.0\n",
       "\n",
       "[227 rows x 4 columns]"
      ]
     },
     "execution_count": 455,
     "metadata": {},
     "output_type": "execute_result"
    }
   ],
   "source": [
    "X_test.sort_values(\"date\",ascending=True)"
   ]
  },
  {
   "cell_type": "code",
   "execution_count": 456,
   "metadata": {},
   "outputs": [
    {
     "data": {
      "text/plain": [
       "array([[ 0.23595535,  0.19762307,  0.08247519, -0.78321822],\n",
       "       [-0.74694826, -0.75604046, -0.74313099, -0.28863132],\n",
       "       [ 1.54560489,  1.56342891,  1.60554745, -0.48029808],\n",
       "       ...,\n",
       "       [ 1.77872312,  1.7396389 ,  1.82730529, -0.33583436],\n",
       "       [ 0.47364147,  0.4788428 ,  0.47813432, -0.98979522],\n",
       "       [ 0.68536271,  0.7257728 ,  0.71582725,  0.36374931]])"
      ]
     },
     "execution_count": 456,
     "metadata": {},
     "output_type": "execute_result"
    }
   ],
   "source": [
    "X_train_scaled"
   ]
  },
  {
   "cell_type": "code",
   "execution_count": 457,
   "metadata": {},
   "outputs": [
    {
     "data": {
      "text/plain": [
       "array([1573.43925495,  382.33227947, 3719.60509462,  172.38787582,\n",
       "        446.62442497,  220.3969705 , 2961.62469652,  517.56920455,\n",
       "        260.42884762,  227.79167907, 3781.10679018, 2563.67611642,\n",
       "       1482.04335239,  176.12674219, 3757.29089367,  367.24622259,\n",
       "       4179.90445629,  240.65663452,  187.0771633 , 3727.96969211,\n",
       "        229.91239992,  408.55826283,  280.53822029, 2335.13279343,\n",
       "        203.49957992,  394.56872503,  182.97345762, 4121.4469745 ,\n",
       "        122.58982828, 1812.84310775, 3291.88048758,  161.35159933,\n",
       "       1759.50001212,  186.14005496, 2976.5252157 ,  593.03279588,\n",
       "       4102.26065244,  612.32336142, 1678.20107615,  274.68391799,\n",
       "        325.2152409 ,  364.56185558, 1747.79168667,  195.44517543,\n",
       "       2152.95677636, 2428.50046588, 2855.48797764,  196.10435185,\n",
       "        389.55594919,  171.44641258,  178.57855162,  142.65538862,\n",
       "        235.57200315, 1964.43932736,  218.21656578, 2220.40984011,\n",
       "        374.96432111, 4421.3926842 , 4603.85454163,  212.96109953,\n",
       "       3913.09610841,  187.92616645,  234.76264493, 4105.75099962,\n",
       "        730.21235107,  366.76325107, 3798.55763583, 3763.12139889,\n",
       "       2072.99640157,  182.01302148,  131.19047797, 3180.45209101,\n",
       "       4506.18449379,  166.38720385,  181.37993102, 4066.55847853,\n",
       "        143.83722539, 3539.97041287, 1276.35882015, 4547.7652414 ,\n",
       "        239.75064478,  187.78071586,  596.26156516,  148.63417358,\n",
       "        177.57068793,  185.04769663,  134.40240581, 3156.97404306,\n",
       "       4201.54062613,  177.23739899,  274.38162188, 4283.13245932,\n",
       "       2618.28811238, 3302.5693784 ,  193.99536011, 4081.97368204,\n",
       "        174.67196142,  132.02261822, 3322.24372754,  372.13683406,\n",
       "       1688.11279185,  406.05040673,  199.88089562, 2830.32557829,\n",
       "       2408.60945963,  246.72447194,  148.74542897, 3507.67175042,\n",
       "       3465.17203838, 2358.15054047,  199.91827945, 1051.40476791,\n",
       "        226.55032789,  187.9048867 ,  644.69736872, 3475.13827275,\n",
       "        228.69306929, 1966.85264472, 2745.91216222, 2602.42674564,\n",
       "        235.2148278 , 1784.02782902,  146.44184497, 2746.91064937,\n",
       "        383.20810478,  181.54664848, 4483.49774999, 1598.60240227,\n",
       "       4084.66918317, 1219.95099275,  312.6280446 ,  591.54859266,\n",
       "        583.28192391,  202.48180821, 4266.18108006, 3671.83917031,\n",
       "       3082.15672128,  233.58168706, 3203.92021979, 4652.88047077,\n",
       "        174.31080627,  178.57875671,  418.31736701, 1819.96339077,\n",
       "        127.60826906,  266.32071459, 2600.25722078, 3371.51887782,\n",
       "        185.89052033,  426.39028382,  225.9718446 , 3486.93227355,\n",
       "       2097.68558055,  184.21564348,  142.96878136,  341.62879982,\n",
       "       3089.07193018, 1715.89176216,  220.76911977, 3422.25817399,\n",
       "       2597.68102677, 4030.02393464, 1888.87227543, 1908.82707611,\n",
       "       2306.97303172, 2546.50525621, 2131.05296423, 2617.93230792,\n",
       "        185.02472558,  145.36586526,  128.82768198, 3952.8354975 ,\n",
       "       2673.65913501,  228.79607025,  966.14479108, 1474.50179117,\n",
       "       4070.97608608,  345.22523267, 2519.1537709 , 3193.30485572,\n",
       "        129.89902105, 1499.97257333,  133.29165493,  218.12199296,\n",
       "       2493.43444188,  186.68586613, 4287.66467269,  345.38993906,\n",
       "       1781.35685653, 2429.87707504, 1799.00312662,  156.90572263,\n",
       "       1950.13084312,  386.47121118,  733.76316522, 3039.21167641,\n",
       "       4054.93909388, 4241.76122449, 2635.39545245, 2793.8542626 ,\n",
       "       2398.51550258,  469.00026576, 1223.47448146,  170.49745012,\n",
       "       1888.96222913, 2640.53826387,  241.5271646 , 4121.42125419,\n",
       "        201.73376226,  163.82252428, 2146.79753902,  642.25641042,\n",
       "        371.11472141,  393.90703828,  223.62311905,  384.80198664,\n",
       "        560.27933322,  367.37491767, 1253.47913346,  187.146007  ,\n",
       "        158.70794394,  163.59997936, 1358.40702613,  167.76672073,\n",
       "        591.26129975, 1861.17117488,  224.55118911,  158.14965438,\n",
       "       2950.41470727, 3237.39137936,  227.14112246,  198.19391935,\n",
       "        658.68996184,  148.038919  , 1972.05804039, 2547.93386112,\n",
       "        350.65273693, 2119.61503859, 2920.57164323, 1402.0089722 ,\n",
       "        243.11134836, 2926.92458585, 3293.61756201, 1324.05275216,\n",
       "        187.60085745, 1947.63361245,  181.68555781, 3792.45816004,\n",
       "       2313.8880706 ,  151.49068741,  661.9477378 ,  162.04988843,\n",
       "       3136.17406677,  354.93428183, 3857.62907488,  393.75497184,\n",
       "       1723.07664486,  605.13700434,  154.9082143 ,  190.24054721,\n",
       "        193.03408612, 1963.92747536,  204.41729536,  175.98867519,\n",
       "        342.88727848, 3233.25705186, 2142.95225632,  395.13708854,\n",
       "        223.25300535,  424.20484748,  621.07415064,  473.62739206,\n",
       "        175.52505468, 2583.5815715 ,  245.15841459,  233.22363658,\n",
       "        562.408006  , 1351.78562925, 2867.01349141,  202.80320205,\n",
       "       2693.70470552,  127.17482264,  175.83252656,  184.32291401,\n",
       "       2722.89762553, 1825.97696298,  376.9107629 ,  270.93186021,\n",
       "        367.13458358, 4234.51131045, 4017.72194825, 1785.09719485,\n",
       "       3136.77626648, 1680.62478568,  185.95996177,  252.4222429 ,\n",
       "        346.84384916,  143.81890082,  411.00894623, 2375.72251582,\n",
       "       1349.54872264, 2059.8934018 ,  543.81045719, 4340.34267496,\n",
       "        132.22587302,  216.61790079,  360.60057806,  140.0827855 ,\n",
       "       2250.38056219, 1638.2612786 ,  214.02280979,  173.07998136,\n",
       "       1846.09640454, 2982.62112327, 3402.97032591, 3835.55946694,\n",
       "        392.90288425, 1319.38729626,  446.03682999, 1993.32232622,\n",
       "        131.31503571,  388.48057955, 4190.93685539, 2510.81375062,\n",
       "       1804.30910049,  739.11143653,  225.28132138, 4404.88722706,\n",
       "       2845.68628689,  182.95399991, 4753.5980709 , 2254.99458322,\n",
       "       4216.78318066, 1545.1026547 , 1557.92670454,  564.4352507 ,\n",
       "       1790.30610686,  217.40525597, 1851.06372274,  142.07616777,\n",
       "        210.53002255, 1373.65809699,  130.54623666, 3500.3513529 ,\n",
       "        126.15041262,  255.89851889,  206.43136636, 4371.75030238,\n",
       "        237.22330126, 4106.7647057 , 4010.99860424,  225.184964  ,\n",
       "        193.88834171,  127.19607831,  237.59245553, 4205.04423646,\n",
       "        161.10163275, 2897.74172909,  239.04980413,  399.39214603,\n",
       "       2648.7354944 ,  236.00362721, 1181.18694592, 3322.7907855 ,\n",
       "       1068.75806578,  169.94015003,  605.30504013,  130.82458746,\n",
       "        741.2735555 , 2299.43229737, 1926.57422288,  384.44616575,\n",
       "        133.35953353,  583.3680651 ,  218.2398307 , 3412.29235443,\n",
       "        169.96178591,  427.35025168,  260.07389289, 1258.89117895,\n",
       "       3598.9629326 ,  361.56698639,  141.66825208,  181.48949262,\n",
       "        178.28288157, 2686.18412854,  585.89220711, 4246.60482902,\n",
       "       1821.61784578, 3381.17927371,  351.12977789, 2685.75902621,\n",
       "       1246.69365756,  199.72322183, 4424.91100858, 3784.23173002,\n",
       "       3180.22351548,  246.96080208, 2415.07214084,  171.47521313,\n",
       "       1607.33018214, 2261.48027724, 3421.88963979,  230.75834888,\n",
       "       3502.15197295,  174.96223173, 2340.10315043, 1951.91570893,\n",
       "       2072.23722527,  574.25638601,  474.50430124, 3329.94109163,\n",
       "       3538.82114689, 3560.18432545, 3128.5952419 ,  384.73736331,\n",
       "       3168.38848931, 2134.94782589,  172.69631442,  147.50563414,\n",
       "        321.47772235, 4081.42550069,  265.99057356,  145.88389117,\n",
       "        164.53372479, 1947.25524411,  140.1067511 , 4285.39292303,\n",
       "       3743.9359145 ,  566.06840453,  175.37510925, 3157.83230014,\n",
       "       1650.22464668,  180.33793437,  179.48782535, 1987.2515961 ,\n",
       "        380.39893434,  453.06642572, 2840.16973057, 3337.58222885,\n",
       "       4799.14059796, 3026.09462161, 2616.71326482,  231.33871088,\n",
       "       3208.74168631,  241.40883769,  165.22293439,  245.68310079,\n",
       "        342.7972387 , 2497.46860675,  241.81735256, 4637.43514812,\n",
       "       3900.84701505, 2058.9720579 , 2002.44902958, 2786.11928353,\n",
       "       3491.72903969, 3562.73086672,  208.8659298 ,  133.55453986,\n",
       "        179.33082708, 3365.93571979,  143.8613401 ,  217.79225304,\n",
       "        209.37617637,  392.48251679,  395.06063755,  388.22306176,\n",
       "       3820.50892641, 1084.95800933, 1772.63717426,  148.19584869,\n",
       "       2284.78375357,  595.14505111,  131.80897044, 2129.72888562,\n",
       "        213.03138228,  423.056943  ,  548.84094675,  716.84199516,\n",
       "        124.18212191, 2917.46399494,  141.84697602,  175.64889909,\n",
       "       2136.65912918,  124.61991252, 3940.32764008, 3130.2482127 ,\n",
       "        773.80563568, 2157.22888313, 3232.51672406,  612.41444808,\n",
       "       3848.57577007,  351.69165781,  136.50223036,  204.66506027,\n",
       "        212.64454829,  241.61391837, 2666.4030729 ,  179.45329342,\n",
       "        187.02623615,  184.52721708,  337.73163848,  279.65495532,\n",
       "       1952.29744586, 1345.74114541,  230.31167859,  398.15397212,\n",
       "       2177.93359007, 3274.12386003,  182.48123293,  133.92327639,\n",
       "        151.64223338,  229.03671927,  243.65770568,  401.68238393,\n",
       "       2768.75763679,  239.36878184, 3203.6905545 , 3430.36550983,\n",
       "       1378.91044376,  190.20052156,  382.01938698, 3892.84990922,\n",
       "       2066.14797784,  143.15369566, 3193.90134369,  461.22143924,\n",
       "        167.96095704,  134.70369619, 2503.53387169,  227.44712936,\n",
       "        275.54800609,  370.18033426, 4030.62445686, 1688.02705085,\n",
       "        143.07328642,  410.39317157,  384.93896372,  224.24113926,\n",
       "       3279.27272295, 3432.57707808, 1193.64369098,  208.37959236,\n",
       "        412.09951475,  131.06821407, 3021.19174503,  151.67316399,\n",
       "       2761.03363868, 2682.25925598, 4506.71259024, 2502.00264501,\n",
       "        180.47758412,  193.05996632,  391.03415239,  145.48799914,\n",
       "        388.57929762,  172.54336156,  371.88420829,  187.40288956,\n",
       "       2033.12809591, 4040.65541732,  129.22868425, 3794.31477214,\n",
       "       2380.17437731,  171.71945792, 3437.96418529,  192.86662428,\n",
       "        359.99139501,  173.55658072,  457.93318398,  389.313715  ,\n",
       "        145.42158188,  537.40852862, 1973.24203617,  167.46899875,\n",
       "       1510.89009279, 2419.05799117,  134.90015594, 3287.22879744,\n",
       "        183.39412812, 3397.26341294, 3358.53820403,  234.22006913,\n",
       "       1788.05746654, 2144.06930848,  128.27328532, 3744.32813963,\n",
       "        187.29242461,  190.32675008,  177.48216014,  143.67890898,\n",
       "       1007.48748237, 3308.84071256,  209.62844114, 3565.81461541,\n",
       "        241.12648722,  161.5642599 , 3053.36932114, 1790.91754607,\n",
       "       1819.34759598, 2867.7090275 , 4182.11600489,  144.9190354 ,\n",
       "        137.60834815, 3126.33096354,  229.02958715,  220.30023521,\n",
       "       2105.95596547,  450.29664868,  256.51550652, 1479.14713704,\n",
       "       2956.59096128, 3159.93363184, 4085.73498721, 2918.93862697,\n",
       "        479.63972861, 3877.41302079,  235.11265017, 1817.65239397,\n",
       "        151.27940023, 2640.59731254,  231.44527295, 3192.87885599,\n",
       "        376.12372356,  124.47844116,  357.42062874,  182.36381181,\n",
       "        382.14453777,  571.79771836, 1596.3066844 , 3840.83165348,\n",
       "        429.06135252,  507.95007698,  249.88582668,  626.56026692,\n",
       "        238.92410907,  192.15800384,  231.24610592, 2496.75953529,\n",
       "       2712.4146583 , 2171.39623519,  357.71168763, 2565.98792697,\n",
       "        340.54808587,  177.23463903, 2437.42365024, 2601.21142656,\n",
       "       1365.30170824, 3580.74886506, 4164.75852972,  186.78334104,\n",
       "        386.03968727,  363.9257186 ,  189.93812608, 2362.32065508,\n",
       "        276.66844944,  382.32006111, 1268.79255154,  195.04219608,\n",
       "        415.05920822, 1793.24948304,  446.53415096, 1844.64872422,\n",
       "       2178.61866801, 2305.51533162, 3876.41688084, 2619.36212543,\n",
       "       1606.53475358,  350.51030156,  213.83772344,  244.16829691,\n",
       "       4123.01692999, 3617.1926567 ,  186.62117151,  210.18387029,\n",
       "        191.65257141,  168.63891505, 3958.67075586, 2129.03652645,\n",
       "       2505.46831398])"
      ]
     },
     "execution_count": 457,
     "metadata": {},
     "output_type": "execute_result"
    }
   ],
   "source": [
    "#set up eth_model to run linear regression\n",
    "from sklearn.linear_model import LinearRegression\n",
    "\n",
    "eth_model = LinearRegression()\n",
    "eth_model = eth_model.fit(X_train_scaled, y_train)\n",
    "eth_model.predict(X_train_scaled)\n"
   ]
  },
  {
   "cell_type": "code",
   "execution_count": 458,
   "metadata": {},
   "outputs": [],
   "source": [
    "#predict X_train values\n",
    "eth_training_predictions = eth_model.predict(X_train_scaled)"
   ]
  },
  {
   "cell_type": "code",
   "execution_count": null,
   "metadata": {},
   "outputs": [],
   "source": []
  },
  {
   "cell_type": "code",
   "execution_count": 459,
   "metadata": {},
   "outputs": [
    {
     "data": {
      "text/plain": [
       "1530.8747891472558"
      ]
     },
     "execution_count": 459,
     "metadata": {},
     "output_type": "execute_result"
    }
   ],
   "source": [
    "#evaluate mean squared error\n",
    "from sklearn.metrics import mean_squared_error\n",
    "mean_squared_error(y_train, eth_training_predictions)"
   ]
  },
  {
   "cell_type": "code",
   "execution_count": 460,
   "metadata": {},
   "outputs": [
    {
     "data": {
      "text/plain": [
       "0.9992360098809246"
      ]
     },
     "execution_count": 460,
     "metadata": {},
     "output_type": "execute_result"
    }
   ],
   "source": [
    "#evaluate r2 score\n",
    "from sklearn.metrics import r2_score\n",
    "r2_score(y_train, eth_training_predictions)"
   ]
  },
  {
   "cell_type": "code",
   "execution_count": 461,
   "metadata": {},
   "outputs": [
    {
     "data": {
      "text/html": [
       "<div>\n",
       "<style scoped>\n",
       "    .dataframe tbody tr th:only-of-type {\n",
       "        vertical-align: middle;\n",
       "    }\n",
       "\n",
       "    .dataframe tbody tr th {\n",
       "        vertical-align: top;\n",
       "    }\n",
       "\n",
       "    .dataframe thead th {\n",
       "        text-align: right;\n",
       "    }\n",
       "</style>\n",
       "<table border=\"1\" class=\"dataframe\">\n",
       "  <thead>\n",
       "    <tr style=\"text-align: right;\">\n",
       "      <th></th>\n",
       "      <th>prediction</th>\n",
       "    </tr>\n",
       "  </thead>\n",
       "  <tbody>\n",
       "    <tr>\n",
       "      <th>0</th>\n",
       "      <td>1573.439255</td>\n",
       "    </tr>\n",
       "    <tr>\n",
       "      <th>1</th>\n",
       "      <td>382.332279</td>\n",
       "    </tr>\n",
       "    <tr>\n",
       "      <th>2</th>\n",
       "      <td>3719.605095</td>\n",
       "    </tr>\n",
       "    <tr>\n",
       "      <th>3</th>\n",
       "      <td>172.387876</td>\n",
       "    </tr>\n",
       "    <tr>\n",
       "      <th>4</th>\n",
       "      <td>446.624425</td>\n",
       "    </tr>\n",
       "    <tr>\n",
       "      <th>...</th>\n",
       "      <td>...</td>\n",
       "    </tr>\n",
       "    <tr>\n",
       "      <th>676</th>\n",
       "      <td>191.652571</td>\n",
       "    </tr>\n",
       "    <tr>\n",
       "      <th>677</th>\n",
       "      <td>168.638915</td>\n",
       "    </tr>\n",
       "    <tr>\n",
       "      <th>678</th>\n",
       "      <td>3958.670756</td>\n",
       "    </tr>\n",
       "    <tr>\n",
       "      <th>679</th>\n",
       "      <td>2129.036526</td>\n",
       "    </tr>\n",
       "    <tr>\n",
       "      <th>680</th>\n",
       "      <td>2505.468314</td>\n",
       "    </tr>\n",
       "  </tbody>\n",
       "</table>\n",
       "<p>681 rows × 1 columns</p>\n",
       "</div>"
      ],
      "text/plain": [
       "      prediction\n",
       "0    1573.439255\n",
       "1     382.332279\n",
       "2    3719.605095\n",
       "3     172.387876\n",
       "4     446.624425\n",
       "..           ...\n",
       "676   191.652571\n",
       "677   168.638915\n",
       "678  3958.670756\n",
       "679  2129.036526\n",
       "680  2505.468314\n",
       "\n",
       "[681 rows x 1 columns]"
      ]
     },
     "execution_count": 461,
     "metadata": {},
     "output_type": "execute_result"
    }
   ],
   "source": [
    "eth_training_prediction_df = pd.DataFrame(eth_training_predictions, columns=[\"prediction\"])\n",
    "eth_training_prediction_df"
   ]
  },
  {
   "cell_type": "code",
   "execution_count": 462,
   "metadata": {},
   "outputs": [
    {
     "data": {
      "text/plain": [
       "0      1577.89\n",
       "1       382.40\n",
       "2      3709.42\n",
       "3       170.01\n",
       "4       444.14\n",
       "        ...   \n",
       "676     194.55\n",
       "677     166.97\n",
       "678    3925.80\n",
       "679    2146.33\n",
       "680    2540.45\n",
       "Name: price, Length: 681, dtype: float64"
      ]
     },
     "execution_count": 462,
     "metadata": {},
     "output_type": "execute_result"
    }
   ],
   "source": [
    "y_train=y_train.reset_index(drop=True)\n",
    "y_train"
   ]
  },
  {
   "cell_type": "code",
   "execution_count": 463,
   "metadata": {},
   "outputs": [],
   "source": [
    "frames = [eth_training_prediction_df,y_train]\n",
    "eth_model_performance=pd.concat(frames)"
   ]
  },
  {
   "cell_type": "code",
   "execution_count": 464,
   "metadata": {},
   "outputs": [
    {
     "data": {
      "text/html": [
       "<div>\n",
       "<style scoped>\n",
       "    .dataframe tbody tr th:only-of-type {\n",
       "        vertical-align: middle;\n",
       "    }\n",
       "\n",
       "    .dataframe tbody tr th {\n",
       "        vertical-align: top;\n",
       "    }\n",
       "\n",
       "    .dataframe thead th {\n",
       "        text-align: right;\n",
       "    }\n",
       "</style>\n",
       "<table border=\"1\" class=\"dataframe\">\n",
       "  <thead>\n",
       "    <tr style=\"text-align: right;\">\n",
       "      <th></th>\n",
       "      <th>prediction</th>\n",
       "      <th>0</th>\n",
       "    </tr>\n",
       "  </thead>\n",
       "  <tbody>\n",
       "    <tr>\n",
       "      <th>0</th>\n",
       "      <td>1573.439255</td>\n",
       "      <td>NaN</td>\n",
       "    </tr>\n",
       "    <tr>\n",
       "      <th>1</th>\n",
       "      <td>382.332279</td>\n",
       "      <td>NaN</td>\n",
       "    </tr>\n",
       "    <tr>\n",
       "      <th>2</th>\n",
       "      <td>3719.605095</td>\n",
       "      <td>NaN</td>\n",
       "    </tr>\n",
       "    <tr>\n",
       "      <th>3</th>\n",
       "      <td>172.387876</td>\n",
       "      <td>NaN</td>\n",
       "    </tr>\n",
       "    <tr>\n",
       "      <th>4</th>\n",
       "      <td>446.624425</td>\n",
       "      <td>NaN</td>\n",
       "    </tr>\n",
       "    <tr>\n",
       "      <th>...</th>\n",
       "      <td>...</td>\n",
       "      <td>...</td>\n",
       "    </tr>\n",
       "    <tr>\n",
       "      <th>676</th>\n",
       "      <td>NaN</td>\n",
       "      <td>194.55</td>\n",
       "    </tr>\n",
       "    <tr>\n",
       "      <th>677</th>\n",
       "      <td>NaN</td>\n",
       "      <td>166.97</td>\n",
       "    </tr>\n",
       "    <tr>\n",
       "      <th>678</th>\n",
       "      <td>NaN</td>\n",
       "      <td>3925.80</td>\n",
       "    </tr>\n",
       "    <tr>\n",
       "      <th>679</th>\n",
       "      <td>NaN</td>\n",
       "      <td>2146.33</td>\n",
       "    </tr>\n",
       "    <tr>\n",
       "      <th>680</th>\n",
       "      <td>NaN</td>\n",
       "      <td>2540.45</td>\n",
       "    </tr>\n",
       "  </tbody>\n",
       "</table>\n",
       "<p>1362 rows × 2 columns</p>\n",
       "</div>"
      ],
      "text/plain": [
       "      prediction        0\n",
       "0    1573.439255      NaN\n",
       "1     382.332279      NaN\n",
       "2    3719.605095      NaN\n",
       "3     172.387876      NaN\n",
       "4     446.624425      NaN\n",
       "..           ...      ...\n",
       "676          NaN   194.55\n",
       "677          NaN   166.97\n",
       "678          NaN  3925.80\n",
       "679          NaN  2146.33\n",
       "680          NaN  2540.45\n",
       "\n",
       "[1362 rows x 2 columns]"
      ]
     },
     "execution_count": 464,
     "metadata": {},
     "output_type": "execute_result"
    }
   ],
   "source": [
    "eth_model_performance"
   ]
  },
  {
   "cell_type": "code",
   "execution_count": 465,
   "metadata": {},
   "outputs": [
    {
     "data": {
      "image/png": "[encoded data removed]",
      "text/plain": [
       "<Figure size 1440x720 with 1 Axes>"
      ]
     },
     "metadata": {
      "needs_background": "light"
     },
     "output_type": "display_data"
    }
   ],
   "source": [
    "predictions_actual_y_eth_train=y_eth_train_df\n",
    "predictions_actual_y_eth_train['predictions']=eth_training_prediction_df.values\n",
    "\n",
    "#plot x_test\n",
    "name = 'SKLearn ETH Train Actual Vs. Predicted'\n",
    "ax = predictions_actual_y_eth_train.plot(figsize=(20,10), title=name)\n",
    "ax.figure.savefig('eth_train_sklearn.png')"
   ]
  },
  {
   "cell_type": "code",
   "execution_count": 466,
   "metadata": {},
   "outputs": [
    {
     "data": {
      "text/plain": [
       "array([ 160.43375277, 2189.76035429,  192.12551274, 3465.86620335,\n",
       "        206.04193576, 2730.87317293, 2675.82312787,  394.40575055,\n",
       "        176.22376542,  238.2303114 ,  389.07506821, 3783.92861966,\n",
       "       2699.36180438, 1800.61617291,  148.33479972,  246.61359817,\n",
       "       3111.39227418, 2690.17978187, 1691.60471631, 2922.0452964 ,\n",
       "        186.92258676, 1703.98012167,  149.39745467,  253.69302657,\n",
       "        439.05252679, 1789.45586616,  171.52521401, 4022.84750831,\n",
       "        135.07741402, 2429.00914931,  182.50819569,  137.4619949 ,\n",
       "       4455.74443479,  111.1258854 , 2662.96007617, 1811.44354208,\n",
       "       2818.64314709, 2312.95151089,  315.48291922,  227.04436578,\n",
       "       1032.52042368, 1770.53561723,  199.73583639,  167.95457946,\n",
       "       2664.27370178, 2244.90003135, 1668.32015609,  623.51158203,\n",
       "       1448.49149773, 2219.7961596 ,  208.32684632,  163.11144193,\n",
       "        117.46729365,  266.24799733,  213.29037363,  207.85945594,\n",
       "       1375.74599765, 3072.28318235, 4153.57166732, 2716.82021924,\n",
       "        181.34916172, 2405.29393202, 1930.1910118 ,  382.68634706,\n",
       "       1736.93148657,  169.58557258, 4339.48529806,  238.24965266,\n",
       "       3893.20873713,  598.03435555, 2444.35674788,  175.36015217,\n",
       "       1761.83691947, 2696.65640293, 3828.92382195,  579.51489959,\n",
       "        143.33591838,  183.67578833,  231.70899907,  445.44775807,\n",
       "        172.83684407, 3188.78443295,  349.01931096, 3755.33093019,\n",
       "       3128.04606244,  175.20786615,  169.0174997 ,  689.06034798,\n",
       "        147.10030224,  220.3179241 ,  203.50238459,  243.81770019,\n",
       "       2516.05146267,  184.83815468,  350.49910318, 4052.79354542,\n",
       "        348.19239329, 2502.05633091,  371.84297684,  185.90818404,\n",
       "        370.80310237,  223.7398642 , 3063.88875458,  336.49986818,\n",
       "        271.00867778, 4677.57295521, 3021.88900445, 3011.54556129,\n",
       "       1175.75470819, 4348.84506396, 3744.71921556, 2258.62386331,\n",
       "       1904.46495412,  458.17417949, 2064.40550562, 3129.05620437,\n",
       "        452.32890288,  215.50141987,  150.35171952,  224.62560377,\n",
       "        381.73826064,  143.2755889 , 2400.21777173, 4679.31665434,\n",
       "        413.98135238,  391.11753941, 2862.68958655, 1195.26747853,\n",
       "       1784.11224028,  181.40419932,  128.54203658,  236.66285874,\n",
       "        138.06167433, 3243.07703745, 3295.98417929,  191.83181991,\n",
       "        303.77427337, 3128.56763797,  213.98898686,  630.32302929,\n",
       "       3217.81969872,  147.18537184, 2293.03017787,  324.31966984,\n",
       "       3732.35258718,  158.74376892,  375.28706149, 3317.91723609,\n",
       "        159.46024328, 3295.22815544,  181.22945058,  145.44643822,\n",
       "        392.10282184,  138.0706167 , 1606.75810871,  175.83855115,\n",
       "        225.1016219 , 3273.79897564,  533.65553058,  432.35447175,\n",
       "       4151.66658082, 2081.01010196,  401.6203654 , 2397.00462171,\n",
       "        172.96096155,  229.04304868,  352.32265974, 3045.33505051,\n",
       "        641.05472007,  234.86050518,  180.16542237, 1766.2707815 ,\n",
       "        238.04534069, 4578.85395563, 3223.72726256, 4120.84181055,\n",
       "       4260.69978383,  214.90841441, 4625.2253179 ,  240.26736616,\n",
       "       1993.45491647, 2884.44000555,  244.96514397,  397.1287883 ,\n",
       "        376.00090012,  191.84756884, 2141.49978828,  225.31303464,\n",
       "        159.2823527 ,  198.23138073, 3089.77508037, 2323.54175907,\n",
       "        238.20609614, 4682.83529883, 3016.58212161, 4004.48028867,\n",
       "        189.16157754, 1811.2307486 , 2100.50396208,  137.45070142,\n",
       "        130.66247981,  229.80144683, 2663.99966478, 4549.84067606,\n",
       "        384.34947701, 2853.18259211, 3790.78790925,  149.28135185,\n",
       "        348.42590045,  144.26014911,  183.14336619,  206.50097648,\n",
       "        176.76639429, 4722.37039093, 4263.39838775, 3432.38825118,\n",
       "        220.59902449, 3076.73118953,  337.75308917,  508.6111622 ,\n",
       "       3924.28161759,  388.05984651, 3228.04713539,  405.8883654 ,\n",
       "       4082.56439832,  152.2483212 ,  601.72719486])"
      ]
     },
     "execution_count": 466,
     "metadata": {},
     "output_type": "execute_result"
    }
   ],
   "source": [
    "#predict the test values\n",
    "eth_testing_predictions = eth_model.predict(X_test_scaled)\n",
    "eth_testing_predictions"
   ]
  },
  {
   "cell_type": "code",
   "execution_count": 467,
   "metadata": {},
   "outputs": [
    {
     "data": {
      "text/plain": [
       "1922.9309345181182"
      ]
     },
     "execution_count": 467,
     "metadata": {},
     "output_type": "execute_result"
    }
   ],
   "source": [
    "#calculate mean squared error for test\n",
    "mean_squared_error(y_test, eth_testing_predictions)"
   ]
  },
  {
   "cell_type": "code",
   "execution_count": 468,
   "metadata": {},
   "outputs": [
    {
     "data": {
      "text/plain": [
       "0.9991097135183931"
      ]
     },
     "execution_count": 468,
     "metadata": {},
     "output_type": "execute_result"
    }
   ],
   "source": [
    "#calculate r2 score for test\n",
    "r2_score(y_test, eth_testing_predictions)"
   ]
  },
  {
   "cell_type": "code",
   "execution_count": 469,
   "metadata": {},
   "outputs": [
    {
     "data": {
      "text/html": [
       "<div>\n",
       "<style scoped>\n",
       "    .dataframe tbody tr th:only-of-type {\n",
       "        vertical-align: middle;\n",
       "    }\n",
       "\n",
       "    .dataframe tbody tr th {\n",
       "        vertical-align: top;\n",
       "    }\n",
       "\n",
       "    .dataframe thead th {\n",
       "        text-align: right;\n",
       "    }\n",
       "</style>\n",
       "<table border=\"1\" class=\"dataframe\">\n",
       "  <thead>\n",
       "    <tr style=\"text-align: right;\">\n",
       "      <th></th>\n",
       "      <th>prediction</th>\n",
       "    </tr>\n",
       "  </thead>\n",
       "  <tbody>\n",
       "    <tr>\n",
       "      <th>0</th>\n",
       "      <td>160.433753</td>\n",
       "    </tr>\n",
       "    <tr>\n",
       "      <th>1</th>\n",
       "      <td>2189.760354</td>\n",
       "    </tr>\n",
       "    <tr>\n",
       "      <th>2</th>\n",
       "      <td>192.125513</td>\n",
       "    </tr>\n",
       "    <tr>\n",
       "      <th>3</th>\n",
       "      <td>3465.866203</td>\n",
       "    </tr>\n",
       "    <tr>\n",
       "      <th>4</th>\n",
       "      <td>206.041936</td>\n",
       "    </tr>\n",
       "    <tr>\n",
       "      <th>...</th>\n",
       "      <td>...</td>\n",
       "    </tr>\n",
       "    <tr>\n",
       "      <th>222</th>\n",
       "      <td>3228.047135</td>\n",
       "    </tr>\n",
       "    <tr>\n",
       "      <th>223</th>\n",
       "      <td>405.888365</td>\n",
       "    </tr>\n",
       "    <tr>\n",
       "      <th>224</th>\n",
       "      <td>4082.564398</td>\n",
       "    </tr>\n",
       "    <tr>\n",
       "      <th>225</th>\n",
       "      <td>152.248321</td>\n",
       "    </tr>\n",
       "    <tr>\n",
       "      <th>226</th>\n",
       "      <td>601.727195</td>\n",
       "    </tr>\n",
       "  </tbody>\n",
       "</table>\n",
       "<p>227 rows × 1 columns</p>\n",
       "</div>"
      ],
      "text/plain": [
       "      prediction\n",
       "0     160.433753\n",
       "1    2189.760354\n",
       "2     192.125513\n",
       "3    3465.866203\n",
       "4     206.041936\n",
       "..           ...\n",
       "222  3228.047135\n",
       "223   405.888365\n",
       "224  4082.564398\n",
       "225   152.248321\n",
       "226   601.727195\n",
       "\n",
       "[227 rows x 1 columns]"
      ]
     },
     "execution_count": 469,
     "metadata": {},
     "output_type": "execute_result"
    }
   ],
   "source": [
    "eth_testing_prediction_df = pd.DataFrame(eth_testing_predictions, columns=[\"prediction\"])\n",
    "eth_testing_prediction_df"
   ]
  },
  {
   "cell_type": "code",
   "execution_count": 470,
   "metadata": {},
   "outputs": [
    {
     "data": {
      "text/plain": [
       "0       157.83\n",
       "1      2165.40\n",
       "2       191.15\n",
       "3      3414.72\n",
       "4       199.67\n",
       "        ...   \n",
       "222    3244.01\n",
       "223     406.01\n",
       "224    4072.79\n",
       "225     150.74\n",
       "226     612.60\n",
       "Name: price, Length: 227, dtype: float64"
      ]
     },
     "execution_count": 470,
     "metadata": {},
     "output_type": "execute_result"
    }
   ],
   "source": [
    "y_test=y_test.reset_index(drop=True)\n",
    "y_test"
   ]
  },
  {
   "cell_type": "code",
   "execution_count": 471,
   "metadata": {},
   "outputs": [
    {
     "data": {
      "text/html": [
       "<div>\n",
       "<style scoped>\n",
       "    .dataframe tbody tr th:only-of-type {\n",
       "        vertical-align: middle;\n",
       "    }\n",
       "\n",
       "    .dataframe tbody tr th {\n",
       "        vertical-align: top;\n",
       "    }\n",
       "\n",
       "    .dataframe thead th {\n",
       "        text-align: right;\n",
       "    }\n",
       "</style>\n",
       "<table border=\"1\" class=\"dataframe\">\n",
       "  <thead>\n",
       "    <tr style=\"text-align: right;\">\n",
       "      <th></th>\n",
       "      <th>prediction</th>\n",
       "      <th>0</th>\n",
       "    </tr>\n",
       "  </thead>\n",
       "  <tbody>\n",
       "    <tr>\n",
       "      <th>0</th>\n",
       "      <td>160.433753</td>\n",
       "      <td>NaN</td>\n",
       "    </tr>\n",
       "    <tr>\n",
       "      <th>1</th>\n",
       "      <td>2189.760354</td>\n",
       "      <td>NaN</td>\n",
       "    </tr>\n",
       "    <tr>\n",
       "      <th>2</th>\n",
       "      <td>192.125513</td>\n",
       "      <td>NaN</td>\n",
       "    </tr>\n",
       "    <tr>\n",
       "      <th>3</th>\n",
       "      <td>3465.866203</td>\n",
       "      <td>NaN</td>\n",
       "    </tr>\n",
       "    <tr>\n",
       "      <th>4</th>\n",
       "      <td>206.041936</td>\n",
       "      <td>NaN</td>\n",
       "    </tr>\n",
       "    <tr>\n",
       "      <th>...</th>\n",
       "      <td>...</td>\n",
       "      <td>...</td>\n",
       "    </tr>\n",
       "    <tr>\n",
       "      <th>222</th>\n",
       "      <td>NaN</td>\n",
       "      <td>3244.01</td>\n",
       "    </tr>\n",
       "    <tr>\n",
       "      <th>223</th>\n",
       "      <td>NaN</td>\n",
       "      <td>406.01</td>\n",
       "    </tr>\n",
       "    <tr>\n",
       "      <th>224</th>\n",
       "      <td>NaN</td>\n",
       "      <td>4072.79</td>\n",
       "    </tr>\n",
       "    <tr>\n",
       "      <th>225</th>\n",
       "      <td>NaN</td>\n",
       "      <td>150.74</td>\n",
       "    </tr>\n",
       "    <tr>\n",
       "      <th>226</th>\n",
       "      <td>NaN</td>\n",
       "      <td>612.60</td>\n",
       "    </tr>\n",
       "  </tbody>\n",
       "</table>\n",
       "<p>454 rows × 2 columns</p>\n",
       "</div>"
      ],
      "text/plain": [
       "      prediction        0\n",
       "0     160.433753      NaN\n",
       "1    2189.760354      NaN\n",
       "2     192.125513      NaN\n",
       "3    3465.866203      NaN\n",
       "4     206.041936      NaN\n",
       "..           ...      ...\n",
       "222          NaN  3244.01\n",
       "223          NaN   406.01\n",
       "224          NaN  4072.79\n",
       "225          NaN   150.74\n",
       "226          NaN   612.60\n",
       "\n",
       "[454 rows x 2 columns]"
      ]
     },
     "execution_count": 471,
     "metadata": {},
     "output_type": "execute_result"
    }
   ],
   "source": [
    "testing_frames = [eth_testing_prediction_df, y_test]\n",
    "testing_eth_model_performance=pd.concat(testing_frames)\n",
    "testing_eth_model_performance"
   ]
  },
  {
   "cell_type": "code",
   "execution_count": 472,
   "metadata": {},
   "outputs": [
    {
     "data": {
      "image/png": "[encoded data removed]",
      "text/plain": [
       "<Figure size 1440x720 with 1 Axes>"
      ]
     },
     "metadata": {
      "needs_background": "light"
     },
     "output_type": "display_data"
    }
   ],
   "source": [
    "predictions_actual_y_eth_test=y_eth_test_df\n",
    "predictions_actual_y_eth_test['predictions']=eth_testing_prediction_df.values\n",
    "\n",
    "#plot x_test\n",
    "name = 'SKLearn ETH Train Actual Vs. Predicted'\n",
    "ax = predictions_actual_y_eth_test.plot(figsize=(20,10), title=name)\n",
    "ax.figure.savefig('eth_test_sklearn.png')"
   ]
  },
  {
   "cell_type": "code",
   "execution_count": 473,
   "metadata": {},
   "outputs": [],
   "source": [
    "#set X and y for 'future predictions'"
   ]
  },
  {
   "cell_type": "code",
   "execution_count": 474,
   "metadata": {},
   "outputs": [],
   "source": [
    "y = eth_df_4_clean[\"price\"]\n",
    "X = eth_df_4_clean.drop(columns=\"price\")"
   ]
  },
  {
   "cell_type": "code",
   "execution_count": 475,
   "metadata": {},
   "outputs": [],
   "source": [
    "copy_y_future_eth=y.copy()\n",
    "y_df_future_eth=pd.DataFrame(copy_y_future_eth)"
   ]
  },
  {
   "cell_type": "code",
   "execution_count": 476,
   "metadata": {},
   "outputs": [],
   "source": [
    "eth_df_4_scaled = X_scaler.transform(X)"
   ]
  },
  {
   "cell_type": "code",
   "execution_count": 477,
   "metadata": {},
   "outputs": [],
   "source": [
    "eth_model = eth_model.fit(eth_df_4_scaled, y)\n",
    "\n",
    "eth_4_df_predictions=eth_model.predict(eth_df_4_scaled)"
   ]
  },
  {
   "cell_type": "code",
   "execution_count": 478,
   "metadata": {},
   "outputs": [
    {
     "data": {
      "text/plain": [
       "1187.1230732322622"
      ]
     },
     "execution_count": 478,
     "metadata": {},
     "output_type": "execute_result"
    }
   ],
   "source": [
    "mean_squared_error(y, eth_4_df_predictions)"
   ]
  },
  {
   "cell_type": "code",
   "execution_count": 479,
   "metadata": {},
   "outputs": [
    {
     "data": {
      "text/plain": [
       "0.9950218434689616"
      ]
     },
     "execution_count": 479,
     "metadata": {},
     "output_type": "execute_result"
    }
   ],
   "source": [
    "r2_score(y, eth_4_df_predictions)"
   ]
  },
  {
   "cell_type": "code",
   "execution_count": 480,
   "metadata": {},
   "outputs": [
    {
     "data": {
      "text/html": [
       "<div>\n",
       "<style scoped>\n",
       "    .dataframe tbody tr th:only-of-type {\n",
       "        vertical-align: middle;\n",
       "    }\n",
       "\n",
       "    .dataframe tbody tr th {\n",
       "        vertical-align: top;\n",
       "    }\n",
       "\n",
       "    .dataframe thead th {\n",
       "        text-align: right;\n",
       "    }\n",
       "</style>\n",
       "<table border=\"1\" class=\"dataframe\">\n",
       "  <thead>\n",
       "    <tr style=\"text-align: right;\">\n",
       "      <th></th>\n",
       "      <th>prediction</th>\n",
       "    </tr>\n",
       "  </thead>\n",
       "  <tbody>\n",
       "    <tr>\n",
       "      <th>0</th>\n",
       "      <td>1816.940366</td>\n",
       "    </tr>\n",
       "    <tr>\n",
       "      <th>1</th>\n",
       "      <td>1954.964247</td>\n",
       "    </tr>\n",
       "    <tr>\n",
       "      <th>2</th>\n",
       "      <td>1965.894824</td>\n",
       "    </tr>\n",
       "    <tr>\n",
       "      <th>3</th>\n",
       "      <td>1800.122485</td>\n",
       "    </tr>\n",
       "    <tr>\n",
       "      <th>4</th>\n",
       "      <td>1793.647771</td>\n",
       "    </tr>\n",
       "    <tr>\n",
       "      <th>...</th>\n",
       "      <td>...</td>\n",
       "    </tr>\n",
       "    <tr>\n",
       "      <th>88</th>\n",
       "      <td>2651.822850</td>\n",
       "    </tr>\n",
       "    <tr>\n",
       "      <th>89</th>\n",
       "      <td>2610.747337</td>\n",
       "    </tr>\n",
       "    <tr>\n",
       "      <th>90</th>\n",
       "      <td>2823.041782</td>\n",
       "    </tr>\n",
       "    <tr>\n",
       "      <th>91</th>\n",
       "      <td>2975.249003</td>\n",
       "    </tr>\n",
       "    <tr>\n",
       "      <th>92</th>\n",
       "      <td>2956.618912</td>\n",
       "    </tr>\n",
       "  </tbody>\n",
       "</table>\n",
       "<p>93 rows × 1 columns</p>\n",
       "</div>"
      ],
      "text/plain": [
       "     prediction\n",
       "0   1816.940366\n",
       "1   1954.964247\n",
       "2   1965.894824\n",
       "3   1800.122485\n",
       "4   1793.647771\n",
       "..          ...\n",
       "88  2651.822850\n",
       "89  2610.747337\n",
       "90  2823.041782\n",
       "91  2975.249003\n",
       "92  2956.618912\n",
       "\n",
       "[93 rows x 1 columns]"
      ]
     },
     "execution_count": 480,
     "metadata": {},
     "output_type": "execute_result"
    }
   ],
   "source": [
    "eth_4_df_predictions_df = pd.DataFrame(eth_4_df_predictions, columns=[\"prediction\"])\n",
    "eth_4_df_predictions_df"
   ]
  },
  {
   "cell_type": "code",
   "execution_count": 481,
   "metadata": {},
   "outputs": [
    {
     "data": {
      "text/plain": [
       "0     1817.65\n",
       "1     1941.78\n",
       "2     1998.30\n",
       "3     1813.52\n",
       "4     1792.22\n",
       "       ...   \n",
       "88    2665.42\n",
       "89    2622.15\n",
       "90    2834.85\n",
       "91    2946.73\n",
       "92    2975.66\n",
       "Name: price, Length: 93, dtype: float64"
      ]
     },
     "execution_count": 481,
     "metadata": {},
     "output_type": "execute_result"
    }
   ],
   "source": [
    "y=y.reset_index(drop=True)\n",
    "y"
   ]
  },
  {
   "cell_type": "code",
   "execution_count": 487,
   "metadata": {},
   "outputs": [],
   "source": [
    "future_frames = [eth_4_df_predictions_df,y]\n",
    "future_eth_model_performance=pd.concat(future_frames)"
   ]
  },
  {
   "cell_type": "code",
   "execution_count": 488,
   "metadata": {},
   "outputs": [
    {
     "data": {
      "image/png": "[encoded data removed]",
      "text/plain": [
       "<Figure size 1440x720 with 1 Axes>"
      ]
     },
     "metadata": {
      "needs_background": "light"
     },
     "output_type": "display_data"
    }
   ],
   "source": [
    "#adjust column names\n",
    "predictions_actual_y_eth_future=y_df_future_eth\n",
    "predictions_actual_y_eth_future['predictions']=eth_4_df_predictions_df.values\n",
    "\n",
    "#plot x_test\n",
    "name = 'SKLearn ETH Future Actual Vs. Predicted'\n",
    "ax = predictions_actual_y_eth_future.plot(figsize=(20,10), title=name)\n",
    "ax.figure.savefig('eth_future_sklearn.png')"
   ]
  },
  {
   "cell_type": "code",
   "execution_count": 484,
   "metadata": {},
   "outputs": [],
   "source": [
    "#Begin tensorflow.keras"
   ]
  },
  {
   "cell_type": "code",
   "execution_count": null,
   "metadata": {},
   "outputs": [],
   "source": [
    "from sklearn.cluster import KMeans\n",
    "# Create a a list to store inertia values\n",
    "inertia = []\n",
    "\n",
    "# Create a a list to store the values of k\n",
    "k = list(range(1, 11))"
   ]
  },
  {
   "cell_type": "code",
   "execution_count": null,
   "metadata": {},
   "outputs": [],
   "source": [
    "# Create a for-loop where each value of k is evaluated using the K-means algorithm\n",
    "# Fit the model using the DataFrame\n",
    "# Append the value of the computed inertia from the `inertia_` attribute of the KMeans model instance\n",
    "for i in k:\n",
    "    k_model = KMeans(n_clusters=i, random_state=1)\n",
    "    k_model.fit(X)\n",
    "    inertia.append(k_model.inertia_)"
   ]
  },
  {
   "cell_type": "code",
   "execution_count": null,
   "metadata": {},
   "outputs": [],
   "source": [
    "# Create a Dictionary that holds the list values for k and inertia\n",
    "elbow_data = {\"k\": k, \"inertia\": inertia}\n",
    "\n",
    "# Create a DataFrame using the elbow_data Dictionary\n",
    "df_elbow = pd.DataFrame(elbow_data)\n",
    "\n",
    "# Review the DataFrame\n",
    "df_elbow.head()"
   ]
  },
  {
   "cell_type": "code",
   "execution_count": null,
   "metadata": {},
   "outputs": [],
   "source": [
    " # Plot the DataFrame\n",
    "df_elbow.hvplot.line(\n",
    "    x=\"k\", \n",
    "    y=\"inertia\", \n",
    "    title=\"Elbow Curve\", \n",
    "    xticks=k\n",
    ")"
   ]
  },
  {
   "cell_type": "code",
   "execution_count": null,
   "metadata": {},
   "outputs": [],
   "source": [
    "# Define the model with the lower value of k clusters\n",
    "# Use a random_state of 1 to generate the model\n",
    "model_k_luna = KMeans(n_clusters=3, random_state=1)\n",
    "\n",
    "# Fit the model\n",
    "model_k_luna.fit(luna_df_all_clean)\n",
    "\n",
    "# Make predictions\n",
    "luna_lower = model_k_luna.predict(luna_df_all_clean)\n",
    "\n",
    "# Create a copy of the DataFrame and name it \n",
    "luna_df_predictions = luna_lower.copy()\n",
    "\n",
    "# Add a class column with the labels to the DataFrame\n",
    "luna_df_predictions['clusters_lower'] = luna_df_predictions\n",
    "\n",
    "luna_df_predictions.head()"
   ]
  },
  {
   "cell_type": "code",
   "execution_count": null,
   "metadata": {},
   "outputs": [],
   "source": [
    "###Keras"
   ]
  },
  {
   "cell_type": "code",
   "execution_count": null,
   "metadata": {},
   "outputs": [],
   "source": [
    "#from sklearn.datasets import make_blobs, make_moons\n",
    "#from sklearn.model_selection import train_test_split\n",
    "#from sklearn.preprocessing import StandardScaler\n",
    "from tensorflow.keras.models import Sequential\n",
    "from tensorflow.keras.layers import Dense"
   ]
  },
  {
   "cell_type": "code",
   "execution_count": null,
   "metadata": {},
   "outputs": [],
   "source": [
    "#set random seed for Tensorflow\n",
    "import tensorflow as tf\n",
    "#tf.random.set_seed(30)\n",
    "from numpy.random import seed\n",
    "seed(1)\n",
    "from tensorflow import random\n",
    "random.set_seed(2)"
   ]
  },
  {
   "cell_type": "code",
   "execution_count": null,
   "metadata": {},
   "outputs": [],
   "source": [
    "# This function accepts the column number for the features (X) and the target (y)\n",
    "# It chunks the data up with a rolling window of Xt-n to predict Xt\n",
    "# It returns a numpy array of X any y\n",
    "def window_data(df, window, feature_col_number, target_col_number):\n",
    "    X = []\n",
    "    y = []\n",
    "    for i in range(len(df) - window - 1):\n",
    "        features = df.iloc[i:(i + window), feature_col_number]\n",
    "        target = df.iloc[(i + window), target_col_number]\n",
    "        X.append(features)\n",
    "        y.append(target)\n",
    "    return np.array(X), np.array(y).reshape(-1, 1)"
   ]
  },
  {
   "cell_type": "code",
   "execution_count": null,
   "metadata": {},
   "outputs": [],
   "source": [
    "#LSTM BTC"
   ]
  },
  {
   "cell_type": "code",
   "execution_count": null,
   "metadata": {},
   "outputs": [],
   "source": [
    "# Predict Prices using a 10 day window of previous closing prices\n",
    "window_size = 10\n",
    "\n",
    "# Column index 0 is the '' column\n",
    "# Column index 1 is the `` column\n",
    "feature_column = 1\n",
    "target_column = 1\n",
    "X, y = window_data(btc_df_all_clean, window_size, feature_column, target_column)"
   ]
  },
  {
   "cell_type": "code",
   "execution_count": null,
   "metadata": {},
   "outputs": [],
   "source": [
    "# Use 70% of the data for training and the remaineder for testing\n",
    "split = int(0.7 * len(X))\n",
    "\n",
    "X_train = X[: split]\n",
    "X_test = X[split:]\n",
    "\n",
    "y_train = y[: split]\n",
    "y_test = y[split:]"
   ]
  },
  {
   "cell_type": "code",
   "execution_count": null,
   "metadata": {},
   "outputs": [],
   "source": [
    "from sklearn.preprocessing import MinMaxScaler\n",
    "# Use the MinMaxScaler to scale data between 0 and 1.\n",
    "scaler = MinMaxScaler().fit(X_train)"
   ]
  },
  {
   "cell_type": "code",
   "execution_count": null,
   "metadata": {},
   "outputs": [],
   "source": [
    "X_train = scaler.transform(X_train)\n",
    "X_test = scaler.transform(X_test)\n",
    "scaler.fit(y_train)\n",
    "y_train = scaler.transform(y_train)\n",
    "y_test = scaler.transform(y_test)"
   ]
  },
  {
   "cell_type": "code",
   "execution_count": null,
   "metadata": {},
   "outputs": [],
   "source": [
    "# Reshape \n",
    "X_train = X_train.reshape((X_train.shape[0], X_train.shape[1], 1))\n",
    "X_test = X_test.reshape((X_test.shape[0], X_test.shape[1], 1))\n",
    "\n",
    "# Print some sample data after reshaping the datasets\n",
    "print (f\"X_train sample values:\\n{X_train[:3]} \\n\")\n",
    "print (f\"X_test sample values:\\n{X_test[:3]}\")"
   ]
  },
  {
   "cell_type": "code",
   "execution_count": null,
   "metadata": {},
   "outputs": [],
   "source": [
    "from tensorflow.keras.models import Sequential\n",
    "from tensorflow.keras.layers import LSTM, Dense, Dropout"
   ]
  },
  {
   "cell_type": "code",
   "execution_count": null,
   "metadata": {},
   "outputs": [],
   "source": [
    "model_lstm_btc = Sequential()\n",
    "\n",
    "# Initial model setup\n",
    "number_units = 30\n",
    "dropout_fraction = 0.2\n",
    "\n",
    "# Layer 1\n",
    "model_lstm_btc.add(LSTM(\n",
    "    units=number_units,\n",
    "    return_sequences=True,\n",
    "    input_shape=(X_train.shape[1], 1))\n",
    "    )\n",
    "model_lstm_btc.add(Dropout(dropout_fraction))\n",
    "\n",
    "# Layer 2\n",
    "model_lstm_btc.add(LSTM(units=number_units, return_sequences=True))\n",
    "model_lstm_btc.add(Dropout(dropout_fraction))\n",
    "\n",
    "# Layer 3\n",
    "model_lstm_btc.add(LSTM(units=number_units))\n",
    "model_lstm_btc.add(Dropout(dropout_fraction))\n",
    "\n",
    "# Output layer\n",
    "model_lstm_btc.add(Dense(1))"
   ]
  },
  {
   "cell_type": "code",
   "execution_count": null,
   "metadata": {},
   "outputs": [],
   "source": [
    "model_lstm_btc.compile(optimizer=\"adam\", loss=\"mean_squared_error\")"
   ]
  },
  {
   "cell_type": "code",
   "execution_count": null,
   "metadata": {},
   "outputs": [],
   "source": [
    "model_lstm_btc.summary()"
   ]
  },
  {
   "cell_type": "code",
   "execution_count": null,
   "metadata": {},
   "outputs": [],
   "source": [
    "model_lstm_btc.fit(X_train, y_train, epochs=10, shuffle=False, batch_size=90, verbose=1)"
   ]
  },
  {
   "cell_type": "code",
   "execution_count": null,
   "metadata": {},
   "outputs": [],
   "source": [
    "model_lstm_btc.evaluate(X_test, y_test, verbose=0)"
   ]
  },
  {
   "cell_type": "code",
   "execution_count": null,
   "metadata": {},
   "outputs": [],
   "source": [
    "predicted = model_lstm_btc.predict(X_test)"
   ]
  },
  {
   "cell_type": "code",
   "execution_count": null,
   "metadata": {},
   "outputs": [],
   "source": [
    "# Recover the original prices instead of the scaled version\n",
    "predicted_prices = scaler.inverse_transform(predicted)\n",
    "real_prices = scaler.inverse_transform(y_test.reshape(-1, 1))"
   ]
  },
  {
   "cell_type": "code",
   "execution_count": null,
   "metadata": {},
   "outputs": [],
   "source": [
    "# Create a DataFrame of Real and Predicted values\n",
    "btc_r_p = pd.DataFrame({\n",
    "    \"Real\": real_prices.ravel(),\n",
    "    \"Predicted\": predicted_prices.ravel()\n",
    "}, index = btc_df_all_clean.index[-len(real_prices): ]) \n",
    "btc_r_p.head()"
   ]
  },
  {
   "cell_type": "code",
   "execution_count": null,
   "metadata": {},
   "outputs": [],
   "source": [
    "name = 'Bitcoin Actual Vs. Predicted'\n",
    "ax = btc_r_p.plot(figsize=(20,10), title=name)\n",
    "ax.figure.savefig('bitcoin.png')"
   ]
  },
  {
   "cell_type": "code",
   "execution_count": null,
   "metadata": {},
   "outputs": [],
   "source": [
    "\n",
    "# Predict Prices using a 10 day window of previous closing prices\n",
    "window_size = 10\n",
    "\n",
    "# Column index 0 is the '' column\n",
    "# Column index 1 is the `` column\n",
    "feature_column = 1\n",
    "target_column = 1\n",
    "X, y = window_data(eth_df_all_clean, window_size, feature_column, target_column)"
   ]
  },
  {
   "cell_type": "code",
   "execution_count": null,
   "metadata": {},
   "outputs": [],
   "source": [
    "# Use 70% of the data for training and the remaineder for testing\n",
    "split = int(0.7 * len(X))\n",
    "\n",
    "X_train = X[: split]\n",
    "X_test = X[split:]\n",
    "\n",
    "y_train = y[: split]\n",
    "y_test = y[split:]"
   ]
  },
  {
   "cell_type": "code",
   "execution_count": null,
   "metadata": {},
   "outputs": [],
   "source": [
    "scaler = MinMaxScaler().fit(X_train)"
   ]
  },
  {
   "cell_type": "code",
   "execution_count": null,
   "metadata": {},
   "outputs": [],
   "source": [
    "X_train = scaler.transform(X_train)\n",
    "X_test = scaler.transform(X_test)\n",
    "scaler.fit(y_train)\n",
    "y_train = scaler.transform(y_train)\n",
    "y_test = scaler.transform(y_test)"
   ]
  },
  {
   "cell_type": "code",
   "execution_count": null,
   "metadata": {},
   "outputs": [],
   "source": [
    "# Reshape \n",
    "X_train = X_train.reshape((X_train.shape[0], X_train.shape[1], 1))\n",
    "X_test = X_test.reshape((X_test.shape[0], X_test.shape[1], 1))\n",
    "\n",
    "# Print some sample data after reshaping the datasets\n",
    "print (f\"X_train sample values:\\n{X_train[:3]} \\n\")\n",
    "print (f\"X_test sample values:\\n{X_test[:3]}\")"
   ]
  },
  {
   "cell_type": "code",
   "execution_count": null,
   "metadata": {},
   "outputs": [],
   "source": [
    "model_lstm_eth = Sequential()\n",
    "\n",
    "# Initial model setup\n",
    "number_units = 30\n",
    "dropout_fraction = 0.2\n",
    "\n",
    "# Layer 1\n",
    "model_lstm_eth.add(LSTM(\n",
    "    units=number_units,\n",
    "    return_sequences=True,\n",
    "    input_shape=(X_train.shape[1], 1))\n",
    "    )\n",
    "model_lstm_eth.add(Dropout(dropout_fraction))\n",
    "\n",
    "# Layer 2\n",
    "model_lstm_eth.add(LSTM(units=number_units, return_sequences=True))\n",
    "model_lstm_eth.add(Dropout(dropout_fraction))\n",
    "\n",
    "# Layer 3\n",
    "model_lstm_eth.add(LSTM(units=number_units))\n",
    "model_lstm_eth.add(Dropout(dropout_fraction))\n",
    "\n",
    "# Output layer\n",
    "model_lstm_eth.add(Dense(1))"
   ]
  },
  {
   "cell_type": "code",
   "execution_count": null,
   "metadata": {},
   "outputs": [],
   "source": [
    "model_lstm_eth.compile(optimizer=\"adam\", loss=\"mean_squared_error\")"
   ]
  },
  {
   "cell_type": "code",
   "execution_count": null,
   "metadata": {},
   "outputs": [],
   "source": [
    "model_lstm_eth.summary()"
   ]
  },
  {
   "cell_type": "code",
   "execution_count": null,
   "metadata": {},
   "outputs": [],
   "source": [
    "model_lstm_eth.fit(X_train, y_train, epochs=10, shuffle=False, batch_size=90, verbose=1)"
   ]
  },
  {
   "cell_type": "code",
   "execution_count": null,
   "metadata": {},
   "outputs": [],
   "source": [
    "predicted_eth = model_lstm_eth.predict(X_test)"
   ]
  },
  {
   "cell_type": "code",
   "execution_count": null,
   "metadata": {},
   "outputs": [],
   "source": [
    "# Recover the original prices instead of the scaled version\n",
    "predicted_prices_eth = scaler.inverse_transform(predicted_eth)\n",
    "real_prices_eth = scaler.inverse_transform(y_test.reshape(-1, 1))"
   ]
  },
  {
   "cell_type": "code",
   "execution_count": null,
   "metadata": {},
   "outputs": [],
   "source": [
    "# Create a DataFrame of Real and Predicted values\n",
    "eth_r_p = pd.DataFrame({\n",
    "    \"Real_eth\": real_prices_eth.ravel(),\n",
    "    \"Predicted_eth\": predicted_prices_eth.ravel()\n",
    "}, index = eth_df_all_clean.index[-len(real_prices_eth): ]) \n",
    "display(eth_r_p.head())\n",
    "display(eth_r_p.tail())"
   ]
  },
  {
   "cell_type": "code",
   "execution_count": null,
   "metadata": {},
   "outputs": [],
   "source": [
    "name = 'Ethereum Actual Vs. Predicted'\n",
    "ax = eth_r_p.plot(figsize=(20,10), title=name)\n",
    "ax.figure.savefig('ethereum.png')"
   ]
  },
  {
   "cell_type": "code",
   "execution_count": null,
   "metadata": {},
   "outputs": [],
   "source": [
    "#LSTM LUNA"
   ]
  },
  {
   "cell_type": "code",
   "execution_count": null,
   "metadata": {},
   "outputs": [],
   "source": [
    "# Predict Prices using a 10 day window of previous closing prices\n",
    "window_size = 10\n",
    "\n",
    "# Column index 0 is the '' column\n",
    "# Column index 1 is the `` column\n",
    "feature_column = 1\n",
    "target_column = 1\n",
    "X, y = window_data(luna_df_all_clean, window_size, feature_column, target_column)"
   ]
  },
  {
   "cell_type": "code",
   "execution_count": null,
   "metadata": {},
   "outputs": [],
   "source": [
    "# Use 70% of the data for training and the remaineder for testing\n",
    "split = int(0.7 * len(X))\n",
    "\n",
    "X_train = X[: split]\n",
    "X_test = X[split:]\n",
    "\n",
    "y_train = y[: split]\n",
    "y_test = y[split:]"
   ]
  },
  {
   "cell_type": "code",
   "execution_count": null,
   "metadata": {},
   "outputs": [],
   "source": [
    "scaler = MinMaxScaler().fit(X_train)"
   ]
  },
  {
   "cell_type": "code",
   "execution_count": null,
   "metadata": {},
   "outputs": [],
   "source": [
    "X_train = scaler.transform(X_train)\n",
    "X_test = scaler.transform(X_test)\n",
    "scaler.fit(y_train)\n",
    "y_train = scaler.transform(y_train)\n",
    "y_test = scaler.transform(y_test)"
   ]
  },
  {
   "cell_type": "code",
   "execution_count": null,
   "metadata": {},
   "outputs": [],
   "source": [
    "# Reshape \n",
    "X_train = X_train.reshape((X_train.shape[0], X_train.shape[1], 1))\n",
    "X_test = X_test.reshape((X_test.shape[0], X_test.shape[1], 1))\n",
    "\n",
    "# Print some sample data after reshaping the datasets\n",
    "print (f\"X_train sample values:\\n{X_train[:3]} \\n\")\n",
    "print (f\"X_test sample values:\\n{X_test[:3]}\")"
   ]
  },
  {
   "cell_type": "code",
   "execution_count": null,
   "metadata": {},
   "outputs": [],
   "source": [
    "model_lstm_luna = Sequential()\n",
    "\n",
    "# Initial model setup\n",
    "number_units = 30\n",
    "dropout_fraction = 0.2\n",
    "\n",
    "# Layer 1\n",
    "model_lstm_luna.add(LSTM(\n",
    "    units=number_units,\n",
    "    return_sequences=True,\n",
    "    input_shape=(X_train.shape[1], 1))\n",
    "    )\n",
    "model_lstm_luna.add(Dropout(dropout_fraction))\n",
    "\n",
    "# Layer 2\n",
    "model_lstm_luna.add(LSTM(units=number_units, return_sequences=True))\n",
    "model_lstm_luna.add(Dropout(dropout_fraction))\n",
    "\n",
    "# Layer 3\n",
    "model_lstm_luna.add(LSTM(units=number_units))\n",
    "model_lstm_luna.add(Dropout(dropout_fraction))\n",
    "\n",
    "# Output layer\n",
    "model_lstm_luna.add(Dense(1))"
   ]
  },
  {
   "cell_type": "code",
   "execution_count": null,
   "metadata": {},
   "outputs": [],
   "source": [
    "model_lstm_luna.compile(optimizer=\"adam\", loss=\"mean_squared_error\")"
   ]
  },
  {
   "cell_type": "code",
   "execution_count": null,
   "metadata": {},
   "outputs": [],
   "source": [
    "model_lstm_luna.summary()"
   ]
  },
  {
   "cell_type": "code",
   "execution_count": null,
   "metadata": {},
   "outputs": [],
   "source": [
    "model_lstm_luna.fit(X_train, y_train, epochs=10, shuffle=False, batch_size=90, verbose=1)"
   ]
  },
  {
   "cell_type": "code",
   "execution_count": null,
   "metadata": {},
   "outputs": [],
   "source": [
    "predicted_luna = model_lstm_luna.predict(X_test)"
   ]
  },
  {
   "cell_type": "code",
   "execution_count": null,
   "metadata": {},
   "outputs": [],
   "source": [
    "# Recover the original prices instead of the scaled version\n",
    "predicted_prices_luna = scaler.inverse_transform(predicted_luna)\n",
    "real_prices_luna = scaler.inverse_transform(y_test.reshape(-1, 1))"
   ]
  },
  {
   "cell_type": "code",
   "execution_count": null,
   "metadata": {},
   "outputs": [],
   "source": [
    "# Create a DataFrame of Real and Predicted values\n",
    "luna_r_p = pd.DataFrame({\n",
    "    \"Real_Luna\": real_prices_luna.ravel(),\n",
    "    \"Predicted_Luna\": predicted_prices_luna.ravel()\n",
    "}, index = luna_df_all_clean.index[-len(real_prices_luna): ]) \n",
    "display(luna_r_p.head())\n",
    "display(luna_r_p.tail())"
   ]
  },
  {
   "cell_type": "code",
   "execution_count": null,
   "metadata": {},
   "outputs": [],
   "source": [
    "name = 'Luna Actual Vs. Predicted'\n",
    "ax = luna_r_p.plot(figsize=(20,10), title=name)\n",
    "ax.figure.savefig('luna.png')"
   ]
  },
  {
   "cell_type": "code",
   "execution_count": null,
   "metadata": {},
   "outputs": [],
   "source": []
  }
 ],
 "metadata": {
  "kernelspec": {
   "display_name": "Python 3",
   "language": "python",
   "name": "python3"
  },
  "language_info": {
   "codemirror_mode": {
    "name": "ipython",
    "version": 3
   },
   "file_extension": ".py",
   "mimetype": "text/x-python",
   "name": "python",
   "nbconvert_exporter": "python",
   "pygments_lexer": "ipython3",
   "version": "3.7.11"
  }
 },
 "nbformat": 4,
 "nbformat_minor": 4
}
